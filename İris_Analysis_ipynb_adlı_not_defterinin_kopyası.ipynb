{
  "nbformat": 4,
  "nbformat_minor": 0,
  "metadata": {
    "colab": {
      "name": "İris Analysis.ipynb adlı not defterinin kopyası",
      "provenance": [],
      "collapsed_sections": [
        "r2TBXmhJMEYe",
        "ZeB522pXL-oD",
        "ffTSAp3xwiMU",
        "pzOXNJLAMW5T",
        "1OXR8luouBuC",
        "vkF4JNk4vKw5",
        "itO39ZQxHFwW",
        "kw7lDXjHCMGK",
        "ILHTNC-8C0d2",
        "7PstwXnewHpK",
        "ixfDEByWJ-Mz",
        "z3nIju6KLaUN"
      ],
      "include_colab_link": true
    },
    "kernelspec": {
      "name": "python3",
      "display_name": "Python 3"
    },
    "language_info": {
      "name": "python"
    }
  },
  "cells": [
    {
      "cell_type": "markdown",
      "metadata": {
        "id": "view-in-github",
        "colab_type": "text"
      },
      "source": [
        "<a href=\"https://colab.research.google.com/github/uomerozkaya/Data-Mining/blob/main/%C4%B0ris_Analysis_ipynb_adl%C4%B1_not_defterinin_kopyas%C4%B1.ipynb\" target=\"_parent\"><img src=\"https://colab.research.google.com/assets/colab-badge.svg\" alt=\"Open In Colab\"/></a>"
      ]
    },
    {
      "cell_type": "code",
      "metadata": {
        "id": "3E9MgTM_BlnB"
      },
      "source": [
        "import matplotlib.pyplot as plt\n",
        "import numpy as np\n",
        "import math\n",
        "import pandas as pd\n",
        "def ortalamaBul(vektor):\n",
        "    \n",
        "   \n",
        "        return sum(vektor) / len(vektor)\n",
        "def std_list(k):\n",
        "        n = len(k)\n",
        "        ort = sum(k) / n\n",
        "        toplam = 0\n",
        "        for x in k:\n",
        "            toplam += (x - ort) ** 2 \n",
        "        return math.sqrt(toplam / (n - 1))\n",
        "\n",
        "def covariance(k, l):\n",
        "\n",
        "    if len(k) != len(l):\n",
        "        return  \n",
        "    ort_k = sum(k)/len(k)\n",
        "    ort_l = sum(l)/len(l)\n",
        "\n",
        "    toplam = 0\n",
        "    for a,b in zip(k,l):\n",
        "        toplam += ((a - ort_k) * (b - ort_l))\n",
        "    return toplam/(len(k)-1)\n",
        "\n",
        "\n",
        "def correlation(k,l):\n",
        "    return covariance(k,l) / (std_list(k)*std_list(l))\n",
        "\n"
      ],
      "execution_count": 1,
      "outputs": []
    },
    {
      "cell_type": "code",
      "metadata": {
        "colab": {
          "base_uri": "https://localhost:8080/"
        },
        "id": "xjITY8W6BuJD",
        "outputId": "302982e5-2fe3-49dc-80c2-b8927ecd2847"
      },
      "source": [
        "df = pd.read_csv('http://archive.ics.uci.edu/ml/machine-learning-databases/iris/iris.data')\n",
        "columns_ = ['sepal length', 'sepal width', 'petal length', 'petal width', 'Class']\n",
        "df.columns = columns_\n",
        "print(df.columns)"
      ],
      "execution_count": 71,
      "outputs": [
        {
          "output_type": "stream",
          "text": [
            "Index(['sepal length', 'sepal width', 'petal length', 'petal width', 'Class'], dtype='object')\n"
          ],
          "name": "stdout"
        }
      ]
    },
    {
      "cell_type": "code",
      "metadata": {
        "id": "ScGllnfWAMFb",
        "colab": {
          "base_uri": "https://localhost:8080/",
          "height": 419
        },
        "outputId": "af8bea16-1df1-4a1c-b5d9-407aa94e2075"
      },
      "source": [
        "df"
      ],
      "execution_count": 4,
      "outputs": [
        {
          "output_type": "execute_result",
          "data": {
            "text/html": [
              "<div>\n",
              "<style scoped>\n",
              "    .dataframe tbody tr th:only-of-type {\n",
              "        vertical-align: middle;\n",
              "    }\n",
              "\n",
              "    .dataframe tbody tr th {\n",
              "        vertical-align: top;\n",
              "    }\n",
              "\n",
              "    .dataframe thead th {\n",
              "        text-align: right;\n",
              "    }\n",
              "</style>\n",
              "<table border=\"1\" class=\"dataframe\">\n",
              "  <thead>\n",
              "    <tr style=\"text-align: right;\">\n",
              "      <th></th>\n",
              "      <th>sepal length</th>\n",
              "      <th>sepal width</th>\n",
              "      <th>petal length</th>\n",
              "      <th>petal width</th>\n",
              "      <th>Class</th>\n",
              "    </tr>\n",
              "  </thead>\n",
              "  <tbody>\n",
              "    <tr>\n",
              "      <th>0</th>\n",
              "      <td>4.9</td>\n",
              "      <td>3.0</td>\n",
              "      <td>1.4</td>\n",
              "      <td>0.2</td>\n",
              "      <td>Iris-setosa</td>\n",
              "    </tr>\n",
              "    <tr>\n",
              "      <th>1</th>\n",
              "      <td>4.7</td>\n",
              "      <td>3.2</td>\n",
              "      <td>1.3</td>\n",
              "      <td>0.2</td>\n",
              "      <td>Iris-setosa</td>\n",
              "    </tr>\n",
              "    <tr>\n",
              "      <th>2</th>\n",
              "      <td>4.6</td>\n",
              "      <td>3.1</td>\n",
              "      <td>1.5</td>\n",
              "      <td>0.2</td>\n",
              "      <td>Iris-setosa</td>\n",
              "    </tr>\n",
              "    <tr>\n",
              "      <th>3</th>\n",
              "      <td>5.0</td>\n",
              "      <td>3.6</td>\n",
              "      <td>1.4</td>\n",
              "      <td>0.2</td>\n",
              "      <td>Iris-setosa</td>\n",
              "    </tr>\n",
              "    <tr>\n",
              "      <th>4</th>\n",
              "      <td>5.4</td>\n",
              "      <td>3.9</td>\n",
              "      <td>1.7</td>\n",
              "      <td>0.4</td>\n",
              "      <td>Iris-setosa</td>\n",
              "    </tr>\n",
              "    <tr>\n",
              "      <th>...</th>\n",
              "      <td>...</td>\n",
              "      <td>...</td>\n",
              "      <td>...</td>\n",
              "      <td>...</td>\n",
              "      <td>...</td>\n",
              "    </tr>\n",
              "    <tr>\n",
              "      <th>144</th>\n",
              "      <td>6.7</td>\n",
              "      <td>3.0</td>\n",
              "      <td>5.2</td>\n",
              "      <td>2.3</td>\n",
              "      <td>Iris-virginica</td>\n",
              "    </tr>\n",
              "    <tr>\n",
              "      <th>145</th>\n",
              "      <td>6.3</td>\n",
              "      <td>2.5</td>\n",
              "      <td>5.0</td>\n",
              "      <td>1.9</td>\n",
              "      <td>Iris-virginica</td>\n",
              "    </tr>\n",
              "    <tr>\n",
              "      <th>146</th>\n",
              "      <td>6.5</td>\n",
              "      <td>3.0</td>\n",
              "      <td>5.2</td>\n",
              "      <td>2.0</td>\n",
              "      <td>Iris-virginica</td>\n",
              "    </tr>\n",
              "    <tr>\n",
              "      <th>147</th>\n",
              "      <td>6.2</td>\n",
              "      <td>3.4</td>\n",
              "      <td>5.4</td>\n",
              "      <td>2.3</td>\n",
              "      <td>Iris-virginica</td>\n",
              "    </tr>\n",
              "    <tr>\n",
              "      <th>148</th>\n",
              "      <td>5.9</td>\n",
              "      <td>3.0</td>\n",
              "      <td>5.1</td>\n",
              "      <td>1.8</td>\n",
              "      <td>Iris-virginica</td>\n",
              "    </tr>\n",
              "  </tbody>\n",
              "</table>\n",
              "<p>149 rows × 5 columns</p>\n",
              "</div>"
            ],
            "text/plain": [
              "     sepal length  sepal width  petal length  petal width           Class\n",
              "0             4.9          3.0           1.4          0.2     Iris-setosa\n",
              "1             4.7          3.2           1.3          0.2     Iris-setosa\n",
              "2             4.6          3.1           1.5          0.2     Iris-setosa\n",
              "3             5.0          3.6           1.4          0.2     Iris-setosa\n",
              "4             5.4          3.9           1.7          0.4     Iris-setosa\n",
              "..            ...          ...           ...          ...             ...\n",
              "144           6.7          3.0           5.2          2.3  Iris-virginica\n",
              "145           6.3          2.5           5.0          1.9  Iris-virginica\n",
              "146           6.5          3.0           5.2          2.0  Iris-virginica\n",
              "147           6.2          3.4           5.4          2.3  Iris-virginica\n",
              "148           5.9          3.0           5.1          1.8  Iris-virginica\n",
              "\n",
              "[149 rows x 5 columns]"
            ]
          },
          "metadata": {
            "tags": []
          },
          "execution_count": 4
        }
      ]
    },
    {
      "cell_type": "markdown",
      "metadata": {
        "id": "r2TBXmhJMEYe"
      },
      "source": [
        "## SETOSA"
      ]
    },
    {
      "cell_type": "code",
      "metadata": {
        "id": "UVWZ8MomBwp0",
        "colab": {
          "base_uri": "https://localhost:8080/",
          "height": 297
        },
        "outputId": "751475c1-b44e-41a9-938e-dd2939dc4ad4"
      },
      "source": [
        "setosa = df[df.Class == \"Iris-setosa\"] \n",
        "setosa.describe()"
      ],
      "execution_count": 5,
      "outputs": [
        {
          "output_type": "execute_result",
          "data": {
            "text/html": [
              "<div>\n",
              "<style scoped>\n",
              "    .dataframe tbody tr th:only-of-type {\n",
              "        vertical-align: middle;\n",
              "    }\n",
              "\n",
              "    .dataframe tbody tr th {\n",
              "        vertical-align: top;\n",
              "    }\n",
              "\n",
              "    .dataframe thead th {\n",
              "        text-align: right;\n",
              "    }\n",
              "</style>\n",
              "<table border=\"1\" class=\"dataframe\">\n",
              "  <thead>\n",
              "    <tr style=\"text-align: right;\">\n",
              "      <th></th>\n",
              "      <th>sepal length</th>\n",
              "      <th>sepal width</th>\n",
              "      <th>petal length</th>\n",
              "      <th>petal width</th>\n",
              "    </tr>\n",
              "  </thead>\n",
              "  <tbody>\n",
              "    <tr>\n",
              "      <th>count</th>\n",
              "      <td>49.000000</td>\n",
              "      <td>49.000000</td>\n",
              "      <td>49.000000</td>\n",
              "      <td>49.000000</td>\n",
              "    </tr>\n",
              "    <tr>\n",
              "      <th>mean</th>\n",
              "      <td>5.004082</td>\n",
              "      <td>3.416327</td>\n",
              "      <td>1.465306</td>\n",
              "      <td>0.244898</td>\n",
              "    </tr>\n",
              "    <tr>\n",
              "      <th>std</th>\n",
              "      <td>0.355879</td>\n",
              "      <td>0.384787</td>\n",
              "      <td>0.175061</td>\n",
              "      <td>0.108130</td>\n",
              "    </tr>\n",
              "    <tr>\n",
              "      <th>min</th>\n",
              "      <td>4.300000</td>\n",
              "      <td>2.300000</td>\n",
              "      <td>1.000000</td>\n",
              "      <td>0.100000</td>\n",
              "    </tr>\n",
              "    <tr>\n",
              "      <th>25%</th>\n",
              "      <td>4.800000</td>\n",
              "      <td>3.100000</td>\n",
              "      <td>1.400000</td>\n",
              "      <td>0.200000</td>\n",
              "    </tr>\n",
              "    <tr>\n",
              "      <th>50%</th>\n",
              "      <td>5.000000</td>\n",
              "      <td>3.400000</td>\n",
              "      <td>1.500000</td>\n",
              "      <td>0.200000</td>\n",
              "    </tr>\n",
              "    <tr>\n",
              "      <th>75%</th>\n",
              "      <td>5.200000</td>\n",
              "      <td>3.700000</td>\n",
              "      <td>1.600000</td>\n",
              "      <td>0.300000</td>\n",
              "    </tr>\n",
              "    <tr>\n",
              "      <th>max</th>\n",
              "      <td>5.800000</td>\n",
              "      <td>4.400000</td>\n",
              "      <td>1.900000</td>\n",
              "      <td>0.600000</td>\n",
              "    </tr>\n",
              "  </tbody>\n",
              "</table>\n",
              "</div>"
            ],
            "text/plain": [
              "       sepal length  sepal width  petal length  petal width\n",
              "count     49.000000    49.000000     49.000000    49.000000\n",
              "mean       5.004082     3.416327      1.465306     0.244898\n",
              "std        0.355879     0.384787      0.175061     0.108130\n",
              "min        4.300000     2.300000      1.000000     0.100000\n",
              "25%        4.800000     3.100000      1.400000     0.200000\n",
              "50%        5.000000     3.400000      1.500000     0.200000\n",
              "75%        5.200000     3.700000      1.600000     0.300000\n",
              "max        5.800000     4.400000      1.900000     0.600000"
            ]
          },
          "metadata": {
            "tags": []
          },
          "execution_count": 5
        }
      ]
    },
    {
      "cell_type": "code",
      "metadata": {
        "colab": {
          "base_uri": "https://localhost:8080/"
        },
        "id": "ZBkQE0L-B3fP",
        "outputId": "1207c7f1-b932-475e-f302-a2a01fe2e47e"
      },
      "source": [
        "setosa_sepalLength = setosa[\"sepal length\"]\n",
        "print(\"setosa_sepalLength standart variance value = \",std_list(setosa_sepalLength))\n",
        "print(\"setosa_sepalLength mean value = \",ortalamaBul(setosa_sepalLength))\n",
        "print(\"setosa_sepalLength maximum value = \",max(setosa_sepalLength))\n",
        "print(\"setosa_sepalLength minimum value = \",min(setosa_sepalLength))"
      ],
      "execution_count": 8,
      "outputs": [
        {
          "output_type": "stream",
          "text": [
            "setosa_sepalLength standart variance value =  0.3558787151038194\n",
            "setosa_sepalLength mean value =  5.004081632653061\n",
            "setosa_sepalLength maximum value =  5.8\n",
            "setosa_sepalLength minimum value =  4.3\n"
          ],
          "name": "stdout"
        }
      ]
    },
    {
      "cell_type": "code",
      "metadata": {
        "colab": {
          "base_uri": "https://localhost:8080/"
        },
        "id": "uX_dP8DTB6Rq",
        "outputId": "8eaa3853-92ba-4c80-acce-59f1ee3a4afc"
      },
      "source": [
        "setosa_sepalWidth = setosa[\"sepal width\"]\n",
        "print(\"setosa_sepalWidth standart variance value = \",std_list(setosa_sepalWidth))\n",
        "print(\"setosa_sepalWidth mean value = \",ortalamaBul(setosa_sepalWidth))\n",
        "print(\"setosa_sepalWidth maximum value = \",max(setosa_sepalWidth))\n",
        "print(\"setosa_sepalWidth minimum value = \",min(setosa_sepalWidth))"
      ],
      "execution_count": 6,
      "outputs": [
        {
          "output_type": "stream",
          "text": [
            "setosa_sepalWidthCm standart variance value =  0.3847872457473038\n",
            "setosa_sepalWidthCm mean value =  3.416326530612245\n",
            "setosa_sepalWidthCm maximum value =  4.4\n",
            "setosa_sepalWidthCm minimum value =  2.3\n"
          ],
          "name": "stdout"
        }
      ]
    },
    {
      "cell_type": "code",
      "metadata": {
        "colab": {
          "base_uri": "https://localhost:8080/"
        },
        "id": "1aNZmPajB9TL",
        "outputId": "b2696f51-0b46-4be6-a75d-0c4e040b7678"
      },
      "source": [
        "setosa_petalLength = setosa[\"petal length\"]\n",
        "print(\"setosa_petalLength standart variance value = \",std_list(setosa_petalLength))\n",
        "print(\"setosa_petalLength mean value = \",ortalamaBul(setosa_petalLength))\n",
        "print(\"setosa_petalLength maximum value = \",max(setosa_petalLength))\n",
        "print(\"setosa_petalLength minimum value = \",min(setosa_petalLength))"
      ],
      "execution_count": 7,
      "outputs": [
        {
          "output_type": "stream",
          "text": [
            "setosa_petalLength standart variance value =  0.17506072804430284\n",
            "setosa_petalLength mean value =  1.4653061224489796\n",
            "setosa_petalLength maximum value =  1.9\n",
            "setosa_petalLength minimum value =  1.0\n"
          ],
          "name": "stdout"
        }
      ]
    },
    {
      "cell_type": "code",
      "metadata": {
        "colab": {
          "base_uri": "https://localhost:8080/"
        },
        "id": "y790nHWHCOMM",
        "outputId": "b00589d0-bafb-4b9c-a63b-a8ebf4284829"
      },
      "source": [
        "setosa_petalWidth = setosa[\"petal width\"]\n",
        "print(\"setosa_petalWidth standart variance value = \",std_list(setosa_petalWidth))\n",
        "print(\"setosa_petalWidth mean value = \",ortalamaBul(setosa_petalWidth))\n",
        "print(\"setosa_petalWidth maximum value = \",max(setosa_petalWidth))\n",
        "print(\"setosa_petalWidth minimum value = \",min(setosa_petalWidth))"
      ],
      "execution_count": 9,
      "outputs": [
        {
          "output_type": "stream",
          "text": [
            "setosa_petalWidth standart variance value =  0.10813036978919616\n",
            "setosa_petalWidth mean value =  0.2448979591836734\n",
            "setosa_petalWidth maximum value =  0.6\n",
            "setosa_petalWidth minimum value =  0.1\n"
          ],
          "name": "stdout"
        }
      ]
    },
    {
      "cell_type": "code",
      "metadata": {
        "colab": {
          "base_uri": "https://localhost:8080/"
        },
        "id": "WKAPGBYcDicJ",
        "outputId": "44f3c7ad-1b0f-450e-f772-083ebdb8d994"
      },
      "source": [
        "#print(df.describe())\n",
        "print(setosa.describe())"
      ],
      "execution_count": 66,
      "outputs": [
        {
          "output_type": "stream",
          "text": [
            "       sepal length  sepal width  petal length  petal width\n",
            "count     49.000000    49.000000     49.000000    49.000000\n",
            "mean       5.004082     3.416327      1.465306     0.244898\n",
            "std        0.355879     0.384787      0.175061     0.108130\n",
            "min        4.300000     2.300000      1.000000     0.100000\n",
            "25%        4.800000     3.100000      1.400000     0.200000\n",
            "50%        5.000000     3.400000      1.500000     0.200000\n",
            "75%        5.200000     3.700000      1.600000     0.300000\n",
            "max        5.800000     4.400000      1.900000     0.600000\n"
          ],
          "name": "stdout"
        }
      ]
    },
    {
      "cell_type": "markdown",
      "metadata": {
        "id": "fY_E0bydsoUv"
      },
      "source": [
        "To learn information about Setosa Class "
      ]
    },
    {
      "cell_type": "code",
      "metadata": {
        "colab": {
          "base_uri": "https://localhost:8080/"
        },
        "id": "Ipat70RgM5ui",
        "outputId": "1578d9f8-cbcb-46d2-fcfa-d04fc55a633c"
      },
      "source": [
        "print(setosa.info())"
      ],
      "execution_count": 11,
      "outputs": [
        {
          "output_type": "stream",
          "text": [
            "<class 'pandas.core.frame.DataFrame'>\n",
            "Int64Index: 49 entries, 0 to 48\n",
            "Data columns (total 5 columns):\n",
            " #   Column        Non-Null Count  Dtype  \n",
            "---  ------        --------------  -----  \n",
            " 0   sepal length  49 non-null     float64\n",
            " 1   sepal width   49 non-null     float64\n",
            " 2   petal length  49 non-null     float64\n",
            " 3   petal width   49 non-null     float64\n",
            " 4   Class         49 non-null     object \n",
            "dtypes: float64(4), object(1)\n",
            "memory usage: 2.3+ KB\n",
            "None\n"
          ],
          "name": "stdout"
        }
      ]
    },
    {
      "cell_type": "markdown",
      "metadata": {
        "id": "ZeB522pXL-oD"
      },
      "source": [
        "## VERSİCOLOR"
      ]
    },
    {
      "cell_type": "code",
      "metadata": {
        "id": "fsnIBEzFD0el"
      },
      "source": [
        "versicolor = df[df.Class == \"Iris-versicolor\"]"
      ],
      "execution_count": 10,
      "outputs": []
    },
    {
      "cell_type": "code",
      "metadata": {
        "colab": {
          "base_uri": "https://localhost:8080/"
        },
        "id": "5-yjeHsTEZeT",
        "outputId": "66b3c3fd-d3ff-4b5f-ac23-3b868c382dce"
      },
      "source": [
        "versicolor_sepalLength = versicolor[\"sepal length\"]\n",
        "print(\"versicolor_sepalLength standart variance value = \",std_list(versicolor_sepalLength))\n",
        "print(\"versicolor_sepalLength value = \",ortalamaBul(versicolor_sepalLength))\n",
        "print(\"versicolor_sepalLength value = \",max(versicolor_sepalLength))\n",
        "print(\"versicolor_sepalLength value = \",min(versicolor_sepalLength))"
      ],
      "execution_count": 14,
      "outputs": [
        {
          "output_type": "stream",
          "text": [
            "versicolor_sepalLength standart variance value =  0.5161711470638635\n",
            "versicolor_sepalLength value =  5.936\n",
            "versicolor_sepalLength value =  7.0\n",
            "versicolor_sepalLength value =  4.9\n"
          ],
          "name": "stdout"
        }
      ]
    },
    {
      "cell_type": "code",
      "metadata": {
        "colab": {
          "base_uri": "https://localhost:8080/"
        },
        "id": "WEksyvniEwHX",
        "outputId": "917fb3e2-3776-47d0-fde0-75c795b0e262"
      },
      "source": [
        "versicolor_sepalWidth = versicolor[\"sepal width\"]\n",
        "print(\"versicolor_sepalWidth standart variance value = \",std_list(versicolor_sepalWidth))\n",
        "print(\"versicolor_sepalWidth value = \",ortalamaBul(versicolor_sepalWidth))\n",
        "print(\"versicolor_sepalWidth value = \",max(versicolor_sepalWidth))\n",
        "print(\"versicolor_sepalWidth value = \",min(versicolor_sepalWidth))"
      ],
      "execution_count": 18,
      "outputs": [
        {
          "output_type": "stream",
          "text": [
            "versicolor_sepalWidth standart variance value =  0.3137983233784114\n",
            "versicolor_sepalWidth value =  2.7700000000000005\n",
            "versicolor_sepalWidth value =  3.4\n",
            "versicolor_sepalWidth value =  2.0\n"
          ],
          "name": "stdout"
        }
      ]
    },
    {
      "cell_type": "code",
      "metadata": {
        "colab": {
          "base_uri": "https://localhost:8080/"
        },
        "id": "EmaCEM5rKoRK",
        "outputId": "168ec5c5-9016-46fb-9e86-857d3997a219"
      },
      "source": [
        "versicolor_petalLength = versicolor[\"petal length\"]\n",
        "print(\"versicolor_petalLength standart variance value = \",std_list(versicolor_petalLength))\n",
        "print(\"versicolor_petalLength value = \",ortalamaBul(versicolor_petalLength))\n",
        "print(\"versicolor_petalLength value = \",max(versicolor_petalLength))\n",
        "print(\"versicolor_petalLength value = \",min(versicolor_petalLength))"
      ],
      "execution_count": 19,
      "outputs": [
        {
          "output_type": "stream",
          "text": [
            "versicolor_petalLength standart variance value =  0.46991097723995806\n",
            "versicolor_petalLength value =  4.26\n",
            "versicolor_petalLength value =  5.1\n",
            "versicolor_petalLength value =  3.0\n"
          ],
          "name": "stdout"
        }
      ]
    },
    {
      "cell_type": "code",
      "metadata": {
        "colab": {
          "base_uri": "https://localhost:8080/"
        },
        "id": "V_rP8htOL84I",
        "outputId": "b1ef5051-7dad-427a-e3cd-22709db7337b"
      },
      "source": [
        "versicolor_petalWidth = versicolor[\"petal width\"]\n",
        "print(\"versicolor_petalWidth standart variance value = \",std_list(versicolor_petalWidth))\n",
        "print(\"versicolor_petalWidth value = \",ortalamaBul(versicolor_petalWidth))\n",
        "print(\"versicolor_petalWidth value = \",max(versicolor_petalWidth))\n",
        "print(\"versicolor_petalWidth value = \",min(versicolor_petalWidth))"
      ],
      "execution_count": 20,
      "outputs": [
        {
          "output_type": "stream",
          "text": [
            "versicolor_petalWidth standart variance value =  0.197752680004544\n",
            "versicolor_petalWidth value =  1.3259999999999998\n",
            "versicolor_petalWidth value =  1.8\n",
            "versicolor_petalWidth value =  1.0\n"
          ],
          "name": "stdout"
        }
      ]
    },
    {
      "cell_type": "markdown",
      "metadata": {
        "id": "IluZfe-Xtlaf"
      },
      "source": [
        "To learn information about Versicolor Class"
      ]
    },
    {
      "cell_type": "code",
      "metadata": {
        "colab": {
          "base_uri": "https://localhost:8080/"
        },
        "id": "5gBcatn1NGhZ",
        "outputId": "a5a86694-2095-4495-ea33-5c106f11aba3"
      },
      "source": [
        "print(versicolor.info())"
      ],
      "execution_count": 21,
      "outputs": [
        {
          "output_type": "stream",
          "text": [
            "<class 'pandas.core.frame.DataFrame'>\n",
            "Int64Index: 50 entries, 49 to 98\n",
            "Data columns (total 5 columns):\n",
            " #   Column        Non-Null Count  Dtype  \n",
            "---  ------        --------------  -----  \n",
            " 0   sepal length  50 non-null     float64\n",
            " 1   sepal width   50 non-null     float64\n",
            " 2   petal length  50 non-null     float64\n",
            " 3   petal width   50 non-null     float64\n",
            " 4   Class         50 non-null     object \n",
            "dtypes: float64(4), object(1)\n",
            "memory usage: 2.3+ KB\n",
            "None\n"
          ],
          "name": "stdout"
        }
      ]
    },
    {
      "cell_type": "markdown",
      "metadata": {
        "id": "ffTSAp3xwiMU"
      },
      "source": [
        "## VIRGINICA"
      ]
    },
    {
      "cell_type": "code",
      "metadata": {
        "id": "YgdxOU3kwlEw",
        "colab": {
          "base_uri": "https://localhost:8080/"
        },
        "outputId": "f802e446-5965-4aff-8dbb-519de803b0f3"
      },
      "source": [
        "virginica = df[df.Class == \"Iris-virginica\"]\n",
        "virginica_sepalLength = virginica[\"sepal length\"]\n",
        "print(\"virginica_sepalLength standart variance value = \",std_list(virginica_sepalLength))\n",
        "print(\"virginica_sepalLength value = \",ortalamaBul(virginica_sepalLength))\n",
        "print(\"virginica_sepalLength value = \",max(virginica_sepalLength))\n",
        "print(\"virginica_sepalLength value = \",min(virginica_sepalLength))"
      ],
      "execution_count": 23,
      "outputs": [
        {
          "output_type": "stream",
          "text": [
            "virginica_sepalLength standart variance value =  0.635879593274432\n",
            "virginica_sepalLength value =  6.587999999999998\n",
            "virginica_sepalLength value =  7.9\n",
            "virginica_sepalLength value =  4.9\n"
          ],
          "name": "stdout"
        }
      ]
    },
    {
      "cell_type": "code",
      "metadata": {
        "id": "mcwJRo7h7pdT",
        "colab": {
          "base_uri": "https://localhost:8080/"
        },
        "outputId": "0ff15c5a-9d7e-4327-a1bb-6e40d106b8ab"
      },
      "source": [
        "virginica_sepalWidth = virginica[\"sepal width\"]\n",
        "print(\"virginica_sepalWidth standart variance value = \",std_list(virginica_sepalWidth))\n",
        "print(\"virginica_sepalWidth value = \",ortalamaBul(virginica_sepalWidth))\n",
        "print(\"virginica_sepalWidth value = \",max(virginica_sepalWidth))\n",
        "print(\"virginica_sepalWidth value = \",min(virginica_sepalWidth))"
      ],
      "execution_count": 24,
      "outputs": [
        {
          "output_type": "stream",
          "text": [
            "virginica_sepalWidth standart variance value =  0.3224966381726376\n",
            "virginica_sepalWidth value =  2.9739999999999998\n",
            "virginica_sepalWidth value =  3.8\n",
            "virginica_sepalWidth value =  2.2\n"
          ],
          "name": "stdout"
        }
      ]
    },
    {
      "cell_type": "code",
      "metadata": {
        "colab": {
          "base_uri": "https://localhost:8080/"
        },
        "id": "iQOtRtsL8KCN",
        "outputId": "cc3da1b4-7155-4f3b-e07c-9c3f20eb32a7"
      },
      "source": [
        "virginica_petalLength = virginica[\"petal length\"]\n",
        "print(\"virginica_petalLength standart variance value = \",std_list(virginica_petalLength))\n",
        "print(\"virginica_petalLength value = \",ortalamaBul(virginica_petalLength))\n",
        "print(\"virginica_petalLength value = \",max(virginica_petalLength))\n",
        "print(\"virginica_petalLength value = \",min(virginica_petalLength))"
      ],
      "execution_count": 25,
      "outputs": [
        {
          "output_type": "stream",
          "text": [
            "virginica_petalLength standart variance value =  0.5518946956639835\n",
            "virginica_petalLength value =  5.552\n",
            "virginica_petalLength value =  6.9\n",
            "virginica_petalLength value =  4.5\n"
          ],
          "name": "stdout"
        }
      ]
    },
    {
      "cell_type": "code",
      "metadata": {
        "colab": {
          "base_uri": "https://localhost:8080/"
        },
        "id": "2RXGlVlXG1e_",
        "outputId": "5c3ecbee-14bf-4002-e876-884ede3dce57"
      },
      "source": [
        "virginica_petalWidth = virginica[\"petal width\"]\n",
        "print(\"virginica_petalWidth standart variance value = \",std_list(virginica_petalWidth))\n",
        "print(\"virginica_petalWidth value = \",ortalamaBul(virginica_petalWidth))\n",
        "print(\"virginica_petalWidth value = \",max(virginica_petalWidth))\n",
        "print(\"virginica_petalWidth value = \",min(virginica_petalWidth))"
      ],
      "execution_count": 27,
      "outputs": [
        {
          "output_type": "stream",
          "text": [
            "virginica_petalWidth standart variance value =  0.27465005563666733\n",
            "virginica_petalWidth value =  2.026\n",
            "virginica_petalWidth value =  2.5\n",
            "virginica_petalWidth value =  1.4\n"
          ],
          "name": "stdout"
        }
      ]
    },
    {
      "cell_type": "markdown",
      "metadata": {
        "id": "pzOXNJLAMW5T"
      },
      "source": [
        "## TEST WITH describe() METHOD "
      ]
    },
    {
      "cell_type": "code",
      "metadata": {
        "id": "U56dQ6HoMh5m"
      },
      "source": [
        "print(setosa.describe())\n",
        "print(versicolor.describe())\n",
        "print(virginica.describe())"
      ],
      "execution_count": null,
      "outputs": []
    },
    {
      "cell_type": "markdown",
      "metadata": {
        "id": "OcxJnPcu9jxY"
      },
      "source": [
        "## HİSTOGRAM\n",
        "We often use histogram charts to examine the distribution in the classroom.\n",
        "It is a graphic used in mathematical processes, including the photo system. It provides detection of contrast errors in the photograph."
      ]
    },
    {
      "cell_type": "markdown",
      "metadata": {
        "id": "1OXR8luouBuC"
      },
      "source": [
        "## SETOSA - Histogram"
      ]
    },
    {
      "cell_type": "code",
      "metadata": {
        "colab": {
          "base_uri": "https://localhost:8080/",
          "height": 295
        },
        "id": "Ba-InFh_uI0V",
        "outputId": "022cfa42-c8f4-43ab-d9fa-040c4961b0bc"
      },
      "source": [
        "plt.hist(setosa[\"sepal length\"],bins= 8)\n",
        "plt.xlabel(\"sepal length values\")\n",
        "plt.ylabel(\"frekans\")\n",
        "plt.title(\"hist\")\n",
        "plt.show()"
      ],
      "execution_count": 41,
      "outputs": [
        {
          "output_type": "display_data",
          "data": {
            "image/png": "[encoded data removed]",
            "text/plain": [
              "<Figure size 432x288 with 1 Axes>"
            ]
          },
          "metadata": {
            "tags": [],
            "needs_background": "light"
          }
        }
      ]
    },
    {
      "cell_type": "code",
      "metadata": {
        "colab": {
          "base_uri": "https://localhost:8080/",
          "height": 295
        },
        "id": "QDo7-tmOud_T",
        "outputId": "2544c7c7-323f-4dbd-d183-c8f045e4c57a"
      },
      "source": [
        "plt.hist(setosa['sepal width'],bins= 8)\n",
        "plt.xlabel(\"sepal width values\")\n",
        "plt.ylabel(\"frekans\")\n",
        "plt.title(\"hist\")\n",
        "plt.show()"
      ],
      "execution_count": 42,
      "outputs": [
        {
          "output_type": "display_data",
          "data": {
            "image/png": "[encoded data removed]",
            "text/plain": [
              "<Figure size 432x288 with 1 Axes>"
            ]
          },
          "metadata": {
            "tags": [],
            "needs_background": "light"
          }
        }
      ]
    },
    {
      "cell_type": "code",
      "metadata": {
        "colab": {
          "base_uri": "https://localhost:8080/",
          "height": 295
        },
        "id": "Ww1AwSlbuxHp",
        "outputId": "b8066633-d506-4de8-cacd-dc1fb2dbaddf"
      },
      "source": [
        "plt.hist(setosa['petal length'],bins= 8)\n",
        "plt.xlabel(\"petal length values\")\n",
        "plt.ylabel(\"frekans\")\n",
        "plt.title(\"hist\")\n",
        "plt.show()"
      ],
      "execution_count": 43,
      "outputs": [
        {
          "output_type": "display_data",
          "data": {
            "image/png": "[encoded data removed]",
            "text/plain": [
              "<Figure size 432x288 with 1 Axes>"
            ]
          },
          "metadata": {
            "tags": [],
            "needs_background": "light"
          }
        }
      ]
    },
    {
      "cell_type": "code",
      "metadata": {
        "colab": {
          "base_uri": "https://localhost:8080/",
          "height": 295
        },
        "id": "2iI7Dgsdu-9z",
        "outputId": "440343b5-6558-4854-94ce-bffbe2e5f33c"
      },
      "source": [
        "plt.hist(setosa['petal width'],bins= 8)\n",
        "plt.xlabel(\"petal width values\")\n",
        "plt.ylabel(\"frekans\")\n",
        "plt.title(\"hist\")\n",
        "plt.show()"
      ],
      "execution_count": 44,
      "outputs": [
        {
          "output_type": "display_data",
          "data": {
            "image/png": "[encoded data removed]",
            "text/plain": [
              "<Figure size 432x288 with 1 Axes>"
            ]
          },
          "metadata": {
            "tags": [],
            "needs_background": "light"
          }
        }
      ]
    },
    {
      "cell_type": "markdown",
      "metadata": {
        "id": "vkF4JNk4vKw5"
      },
      "source": [
        "## VERSİCOLOR - Histogram"
      ]
    },
    {
      "cell_type": "code",
      "metadata": {
        "colab": {
          "base_uri": "https://localhost:8080/",
          "height": 295
        },
        "id": "hqV8AH5ovOoL",
        "outputId": "ab1dac9e-009f-44a7-eb4c-cf18ee2b8f7f"
      },
      "source": [
        "plt.hist(versicolor['sepal length'],bins= 8)\n",
        "plt.xlabel(\"sepal length values\")\n",
        "plt.ylabel(\"frekans\")\n",
        "plt.title(\"hist\")\n",
        "plt.show()"
      ],
      "execution_count": 45,
      "outputs": [
        {
          "output_type": "display_data",
          "data": {
            "image/png": "[encoded data removed]",
            "text/plain": [
              "<Figure size 432x288 with 1 Axes>"
            ]
          },
          "metadata": {
            "tags": [],
            "needs_background": "light"
          }
        }
      ]
    },
    {
      "cell_type": "code",
      "metadata": {
        "colab": {
          "base_uri": "https://localhost:8080/",
          "height": 295
        },
        "id": "v5fw9TNuvZdO",
        "outputId": "34c7486b-8eb5-46d4-d1a0-70ed5e107bb2"
      },
      "source": [
        "plt.hist(versicolor['sepal width'],bins= 8)\n",
        "plt.xlabel(\"sepal width values\")\n",
        "plt.ylabel(\"frekans\")\n",
        "plt.title(\"hist\")\n",
        "plt.show()"
      ],
      "execution_count": 46,
      "outputs": [
        {
          "output_type": "display_data",
          "data": {
            "image/png": "[encoded data removed]",
            "text/plain": [
              "<Figure size 432x288 with 1 Axes>"
            ]
          },
          "metadata": {
            "tags": [],
            "needs_background": "light"
          }
        }
      ]
    },
    {
      "cell_type": "code",
      "metadata": {
        "colab": {
          "base_uri": "https://localhost:8080/",
          "height": 295
        },
        "id": "VYsNw9I6vdlR",
        "outputId": "1f08036f-881b-40e8-a495-41c7f55949ab"
      },
      "source": [
        "plt.hist(versicolor['petal length'],bins= 8)\n",
        "plt.xlabel(\"petal length values\")\n",
        "plt.ylabel(\"frekans\")\n",
        "plt.title(\"hist\")\n",
        "plt.show()"
      ],
      "execution_count": 48,
      "outputs": [
        {
          "output_type": "display_data",
          "data": {
            "image/png": "[encoded data removed]",
            "text/plain": [
              "<Figure size 432x288 with 1 Axes>"
            ]
          },
          "metadata": {
            "tags": [],
            "needs_background": "light"
          }
        }
      ]
    },
    {
      "cell_type": "code",
      "metadata": {
        "colab": {
          "base_uri": "https://localhost:8080/",
          "height": 295
        },
        "id": "5FZ7qbnrvkUZ",
        "outputId": "17ba1a25-04b9-4b30-e6ae-c985cfce188f"
      },
      "source": [
        "plt.hist(versicolor['petal width'],bins= 8)\n",
        "plt.xlabel(\"petal width values\")\n",
        "plt.ylabel(\"frekans\")\n",
        "plt.title(\"hist\")\n",
        "plt.show()"
      ],
      "execution_count": null,
      "outputs": [
        {
          "output_type": "display_data",
          "data": {
            "image/png": "[encoded data removed]",
            "text/plain": [
              "<Figure size 432x288 with 1 Axes>"
            ]
          },
          "metadata": {
            "tags": [],
            "needs_background": "light"
          }
        }
      ]
    },
    {
      "cell_type": "markdown",
      "metadata": {
        "id": "itO39ZQxHFwW"
      },
      "source": [
        "## VIRGINICA Histogram"
      ]
    },
    {
      "cell_type": "code",
      "metadata": {
        "id": "Zev9CZ8AHJmw",
        "colab": {
          "base_uri": "https://localhost:8080/",
          "height": 295
        },
        "outputId": "14f627a9-20e7-40b3-b55b-774aa7212000"
      },
      "source": [
        "plt.hist(virginica['sepal length'],bins= 8)\n",
        "plt.xlabel(\"SepalLengthCm values\")\n",
        "plt.ylabel(\"frekans\")\n",
        "plt.title(\"hist\")\n",
        "plt.show()"
      ],
      "execution_count": 49,
      "outputs": [
        {
          "output_type": "display_data",
          "data": {
            "image/png": "[encoded data removed]",
            "text/plain": [
              "<Figure size 432x288 with 1 Axes>"
            ]
          },
          "metadata": {
            "tags": [],
            "needs_background": "light"
          }
        }
      ]
    },
    {
      "cell_type": "code",
      "metadata": {
        "id": "QmSL1MsQHcob",
        "colab": {
          "base_uri": "https://localhost:8080/",
          "height": 295
        },
        "outputId": "565ebb09-ad08-44fd-a3e7-9f8b20d5df9f"
      },
      "source": [
        "plt.hist(virginica['sepal width'],bins= 8)\n",
        "plt.xlabel(\"sepal width values\")\n",
        "plt.ylabel(\"frekans\")\n",
        "plt.title(\"hist\")\n",
        "plt.show()"
      ],
      "execution_count": 50,
      "outputs": [
        {
          "output_type": "display_data",
          "data": {
            "image/png": "[encoded data removed]",
            "text/plain": [
              "<Figure size 432x288 with 1 Axes>"
            ]
          },
          "metadata": {
            "tags": [],
            "needs_background": "light"
          }
        }
      ]
    },
    {
      "cell_type": "code",
      "metadata": {
        "id": "fAdsC_XWH6T8",
        "colab": {
          "base_uri": "https://localhost:8080/",
          "height": 295
        },
        "outputId": "2663e460-21bd-4b5c-c0a7-102c9dc6834c"
      },
      "source": [
        "plt.hist(virginica['petal length'],bins= 8)\n",
        "plt.xlabel(\"petal length values\")\n",
        "plt.ylabel(\"frekans\")\n",
        "plt.title(\"hist\")\n",
        "plt.show()"
      ],
      "execution_count": 51,
      "outputs": [
        {
          "output_type": "display_data",
          "data": {
            "image/png": "[encoded data removed]",
            "text/plain": [
              "<Figure size 432x288 with 1 Axes>"
            ]
          },
          "metadata": {
            "tags": [],
            "needs_background": "light"
          }
        }
      ]
    },
    {
      "cell_type": "code",
      "metadata": {
        "id": "SUNJwVQrH-ge",
        "colab": {
          "base_uri": "https://localhost:8080/",
          "height": 295
        },
        "outputId": "3e3b7b63-5ff1-469a-dd1d-8f8e0ffd11cd"
      },
      "source": [
        "plt.hist(virginica['petal width'],bins= 8)\n",
        "plt.xlabel(\"petal width values\")\n",
        "plt.ylabel(\"frekans\")\n",
        "plt.title(\"hist\")\n",
        "plt.show()"
      ],
      "execution_count": 52,
      "outputs": [
        {
          "output_type": "display_data",
          "data": {
            "image/png": "[encoded data removed]",
            "text/plain": [
              "<Figure size 432x288 with 1 Axes>"
            ]
          },
          "metadata": {
            "tags": [],
            "needs_background": "light"
          }
        }
      ]
    },
    {
      "cell_type": "markdown",
      "metadata": {
        "id": "kw7lDXjHCMGK"
      },
      "source": [
        "## Covariance"
      ]
    },
    {
      "cell_type": "code",
      "metadata": {
        "colab": {
          "base_uri": "https://localhost:8080/"
        },
        "id": "An4UfrrdEbgM",
        "outputId": "022bc37f-c8db-4173-ec39-60cf2809111b"
      },
      "source": [
        "covariance(df['sepal length'],df['sepal width'])\n",
        "covariance(setosa['sepal length'],setosa['sepal width'])"
      ],
      "execution_count": 85,
      "outputs": [
        {
          "output_type": "execute_result",
          "data": {
            "text/plain": [
              "0.10222363945578232"
            ]
          },
          "metadata": {
            "tags": []
          },
          "execution_count": 85
        }
      ]
    },
    {
      "cell_type": "code",
      "metadata": {
        "colab": {
          "base_uri": "https://localhost:8080/",
          "height": 173
        },
        "id": "QaSnqdNKCZCg",
        "outputId": "43fd4889-a9d7-44d5-b99a-507710de23c6"
      },
      "source": [
        "df.cov()"
      ],
      "execution_count": 72,
      "outputs": [
        {
          "output_type": "execute_result",
          "data": {
            "text/html": [
              "<div>\n",
              "<style scoped>\n",
              "    .dataframe tbody tr th:only-of-type {\n",
              "        vertical-align: middle;\n",
              "    }\n",
              "\n",
              "    .dataframe tbody tr th {\n",
              "        vertical-align: top;\n",
              "    }\n",
              "\n",
              "    .dataframe thead th {\n",
              "        text-align: right;\n",
              "    }\n",
              "</style>\n",
              "<table border=\"1\" class=\"dataframe\">\n",
              "  <thead>\n",
              "    <tr style=\"text-align: right;\">\n",
              "      <th></th>\n",
              "      <th>sepal length</th>\n",
              "      <th>sepal width</th>\n",
              "      <th>petal length</th>\n",
              "      <th>petal width</th>\n",
              "    </tr>\n",
              "  </thead>\n",
              "  <tbody>\n",
              "    <tr>\n",
              "      <th>sepal length</th>\n",
              "      <td>0.686568</td>\n",
              "      <td>-0.037279</td>\n",
              "      <td>1.270362</td>\n",
              "      <td>0.515347</td>\n",
              "    </tr>\n",
              "    <tr>\n",
              "      <th>sepal width</th>\n",
              "      <td>-0.037279</td>\n",
              "      <td>0.187921</td>\n",
              "      <td>-0.316731</td>\n",
              "      <td>-0.115749</td>\n",
              "    </tr>\n",
              "    <tr>\n",
              "      <th>petal length</th>\n",
              "      <td>1.270362</td>\n",
              "      <td>-0.316731</td>\n",
              "      <td>3.096372</td>\n",
              "      <td>1.289124</td>\n",
              "    </tr>\n",
              "    <tr>\n",
              "      <th>petal width</th>\n",
              "      <td>0.515347</td>\n",
              "      <td>-0.115749</td>\n",
              "      <td>1.289124</td>\n",
              "      <td>0.579566</td>\n",
              "    </tr>\n",
              "  </tbody>\n",
              "</table>\n",
              "</div>"
            ],
            "text/plain": [
              "              sepal length  sepal width  petal length  petal width\n",
              "sepal length      0.686568    -0.037279      1.270362     0.515347\n",
              "sepal width      -0.037279     0.187921     -0.316731    -0.115749\n",
              "petal length      1.270362    -0.316731      3.096372     1.289124\n",
              "petal width       0.515347    -0.115749      1.289124     0.579566"
            ]
          },
          "metadata": {
            "tags": []
          },
          "execution_count": 72
        }
      ]
    },
    {
      "cell_type": "code",
      "metadata": {
        "colab": {
          "base_uri": "https://localhost:8080/",
          "height": 173
        },
        "id": "Uskw1iJiCbku",
        "outputId": "4f11e78b-f82c-4372-e95e-3a5f0afc9c36"
      },
      "source": [
        "setosa.cov()"
      ],
      "execution_count": 73,
      "outputs": [
        {
          "output_type": "execute_result",
          "data": {
            "text/html": [
              "<div>\n",
              "<style scoped>\n",
              "    .dataframe tbody tr th:only-of-type {\n",
              "        vertical-align: middle;\n",
              "    }\n",
              "\n",
              "    .dataframe tbody tr th {\n",
              "        vertical-align: top;\n",
              "    }\n",
              "\n",
              "    .dataframe thead th {\n",
              "        text-align: right;\n",
              "    }\n",
              "</style>\n",
              "<table border=\"1\" class=\"dataframe\">\n",
              "  <thead>\n",
              "    <tr style=\"text-align: right;\">\n",
              "      <th></th>\n",
              "      <th>sepal length</th>\n",
              "      <th>sepal width</th>\n",
              "      <th>petal length</th>\n",
              "      <th>petal width</th>\n",
              "    </tr>\n",
              "  </thead>\n",
              "  <tbody>\n",
              "    <tr>\n",
              "      <th>sepal length</th>\n",
              "      <td>0.126650</td>\n",
              "      <td>0.102224</td>\n",
              "      <td>0.016603</td>\n",
              "      <td>0.010855</td>\n",
              "    </tr>\n",
              "    <tr>\n",
              "      <th>sepal width</th>\n",
              "      <td>0.102224</td>\n",
              "      <td>0.148061</td>\n",
              "      <td>0.012037</td>\n",
              "      <td>0.011752</td>\n",
              "    </tr>\n",
              "    <tr>\n",
              "      <th>petal length</th>\n",
              "      <td>0.016603</td>\n",
              "      <td>0.012037</td>\n",
              "      <td>0.030646</td>\n",
              "      <td>0.005757</td>\n",
              "    </tr>\n",
              "    <tr>\n",
              "      <th>petal width</th>\n",
              "      <td>0.010855</td>\n",
              "      <td>0.011752</td>\n",
              "      <td>0.005757</td>\n",
              "      <td>0.011692</td>\n",
              "    </tr>\n",
              "  </tbody>\n",
              "</table>\n",
              "</div>"
            ],
            "text/plain": [
              "              sepal length  sepal width  petal length  petal width\n",
              "sepal length      0.126650     0.102224      0.016603     0.010855\n",
              "sepal width       0.102224     0.148061      0.012037     0.011752\n",
              "petal length      0.016603     0.012037      0.030646     0.005757\n",
              "petal width       0.010855     0.011752      0.005757     0.011692"
            ]
          },
          "metadata": {
            "tags": []
          },
          "execution_count": 73
        }
      ]
    },
    {
      "cell_type": "code",
      "metadata": {
        "colab": {
          "base_uri": "https://localhost:8080/",
          "height": 173
        },
        "id": "McATmhliCtV9",
        "outputId": "26bb7548-d830-4ff6-e893-dbfa3bc1e4ef"
      },
      "source": [
        "versicolor.cov()"
      ],
      "execution_count": 74,
      "outputs": [
        {
          "output_type": "execute_result",
          "data": {
            "text/html": [
              "<div>\n",
              "<style scoped>\n",
              "    .dataframe tbody tr th:only-of-type {\n",
              "        vertical-align: middle;\n",
              "    }\n",
              "\n",
              "    .dataframe tbody tr th {\n",
              "        vertical-align: top;\n",
              "    }\n",
              "\n",
              "    .dataframe thead th {\n",
              "        text-align: right;\n",
              "    }\n",
              "</style>\n",
              "<table border=\"1\" class=\"dataframe\">\n",
              "  <thead>\n",
              "    <tr style=\"text-align: right;\">\n",
              "      <th></th>\n",
              "      <th>sepal length</th>\n",
              "      <th>sepal width</th>\n",
              "      <th>petal length</th>\n",
              "      <th>petal width</th>\n",
              "    </tr>\n",
              "  </thead>\n",
              "  <tbody>\n",
              "    <tr>\n",
              "      <th>sepal length</th>\n",
              "      <td>0.266433</td>\n",
              "      <td>0.085184</td>\n",
              "      <td>0.182898</td>\n",
              "      <td>0.055780</td>\n",
              "    </tr>\n",
              "    <tr>\n",
              "      <th>sepal width</th>\n",
              "      <td>0.085184</td>\n",
              "      <td>0.098469</td>\n",
              "      <td>0.082653</td>\n",
              "      <td>0.041204</td>\n",
              "    </tr>\n",
              "    <tr>\n",
              "      <th>petal length</th>\n",
              "      <td>0.182898</td>\n",
              "      <td>0.082653</td>\n",
              "      <td>0.220816</td>\n",
              "      <td>0.073102</td>\n",
              "    </tr>\n",
              "    <tr>\n",
              "      <th>petal width</th>\n",
              "      <td>0.055780</td>\n",
              "      <td>0.041204</td>\n",
              "      <td>0.073102</td>\n",
              "      <td>0.039106</td>\n",
              "    </tr>\n",
              "  </tbody>\n",
              "</table>\n",
              "</div>"
            ],
            "text/plain": [
              "              sepal length  sepal width  petal length  petal width\n",
              "sepal length      0.266433     0.085184      0.182898     0.055780\n",
              "sepal width       0.085184     0.098469      0.082653     0.041204\n",
              "petal length      0.182898     0.082653      0.220816     0.073102\n",
              "petal width       0.055780     0.041204      0.073102     0.039106"
            ]
          },
          "metadata": {
            "tags": []
          },
          "execution_count": 74
        }
      ]
    },
    {
      "cell_type": "code",
      "metadata": {
        "colab": {
          "base_uri": "https://localhost:8080/",
          "height": 173
        },
        "id": "ap1EBAwiCwCr",
        "outputId": "c88de4c4-19e9-45cf-97ab-e92cf463155d"
      },
      "source": [
        "virginica.cov()"
      ],
      "execution_count": 75,
      "outputs": [
        {
          "output_type": "execute_result",
          "data": {
            "text/html": [
              "<div>\n",
              "<style scoped>\n",
              "    .dataframe tbody tr th:only-of-type {\n",
              "        vertical-align: middle;\n",
              "    }\n",
              "\n",
              "    .dataframe tbody tr th {\n",
              "        vertical-align: top;\n",
              "    }\n",
              "\n",
              "    .dataframe thead th {\n",
              "        text-align: right;\n",
              "    }\n",
              "</style>\n",
              "<table border=\"1\" class=\"dataframe\">\n",
              "  <thead>\n",
              "    <tr style=\"text-align: right;\">\n",
              "      <th></th>\n",
              "      <th>sepal length</th>\n",
              "      <th>sepal width</th>\n",
              "      <th>petal length</th>\n",
              "      <th>petal width</th>\n",
              "    </tr>\n",
              "  </thead>\n",
              "  <tbody>\n",
              "    <tr>\n",
              "      <th>sepal length</th>\n",
              "      <td>0.404343</td>\n",
              "      <td>0.093763</td>\n",
              "      <td>0.303290</td>\n",
              "      <td>0.049094</td>\n",
              "    </tr>\n",
              "    <tr>\n",
              "      <th>sepal width</th>\n",
              "      <td>0.093763</td>\n",
              "      <td>0.104004</td>\n",
              "      <td>0.071380</td>\n",
              "      <td>0.047629</td>\n",
              "    </tr>\n",
              "    <tr>\n",
              "      <th>petal length</th>\n",
              "      <td>0.303290</td>\n",
              "      <td>0.071380</td>\n",
              "      <td>0.304588</td>\n",
              "      <td>0.048824</td>\n",
              "    </tr>\n",
              "    <tr>\n",
              "      <th>petal width</th>\n",
              "      <td>0.049094</td>\n",
              "      <td>0.047629</td>\n",
              "      <td>0.048824</td>\n",
              "      <td>0.075433</td>\n",
              "    </tr>\n",
              "  </tbody>\n",
              "</table>\n",
              "</div>"
            ],
            "text/plain": [
              "              sepal length  sepal width  petal length  petal width\n",
              "sepal length      0.404343     0.093763      0.303290     0.049094\n",
              "sepal width       0.093763     0.104004      0.071380     0.047629\n",
              "petal length      0.303290     0.071380      0.304588     0.048824\n",
              "petal width       0.049094     0.047629      0.048824     0.075433"
            ]
          },
          "metadata": {
            "tags": []
          },
          "execution_count": 75
        }
      ]
    },
    {
      "cell_type": "markdown",
      "metadata": {
        "id": "ILHTNC-8C0d2"
      },
      "source": [
        "## Correlation"
      ]
    },
    {
      "cell_type": "code",
      "metadata": {
        "colab": {
          "base_uri": "https://localhost:8080/"
        },
        "id": "fO7antFbE4Ck",
        "outputId": "b3ba8e32-7d30-45ff-a10f-3af4bb1e674b"
      },
      "source": [
        "correlation(df['sepal length'],df['sepal width'])\n",
        "correlation(setosa['sepal length'],setosa['sepal width'])"
      ],
      "execution_count": 87,
      "outputs": [
        {
          "output_type": "execute_result",
          "data": {
            "text/plain": [
              "0.7464980141992756"
            ]
          },
          "metadata": {
            "tags": []
          },
          "execution_count": 87
        }
      ]
    },
    {
      "cell_type": "code",
      "metadata": {
        "colab": {
          "base_uri": "https://localhost:8080/",
          "height": 173
        },
        "id": "9irH_ovWC3Tz",
        "outputId": "e5e8d65c-1ada-4ca5-886d-80b4b5be6e97"
      },
      "source": [
        "df.corr()"
      ],
      "execution_count": 76,
      "outputs": [
        {
          "output_type": "execute_result",
          "data": {
            "text/html": [
              "<div>\n",
              "<style scoped>\n",
              "    .dataframe tbody tr th:only-of-type {\n",
              "        vertical-align: middle;\n",
              "    }\n",
              "\n",
              "    .dataframe tbody tr th {\n",
              "        vertical-align: top;\n",
              "    }\n",
              "\n",
              "    .dataframe thead th {\n",
              "        text-align: right;\n",
              "    }\n",
              "</style>\n",
              "<table border=\"1\" class=\"dataframe\">\n",
              "  <thead>\n",
              "    <tr style=\"text-align: right;\">\n",
              "      <th></th>\n",
              "      <th>sepal length</th>\n",
              "      <th>sepal width</th>\n",
              "      <th>petal length</th>\n",
              "      <th>petal width</th>\n",
              "    </tr>\n",
              "  </thead>\n",
              "  <tbody>\n",
              "    <tr>\n",
              "      <th>sepal length</th>\n",
              "      <td>1.000000</td>\n",
              "      <td>-0.103784</td>\n",
              "      <td>0.871283</td>\n",
              "      <td>0.816971</td>\n",
              "    </tr>\n",
              "    <tr>\n",
              "      <th>sepal width</th>\n",
              "      <td>-0.103784</td>\n",
              "      <td>1.000000</td>\n",
              "      <td>-0.415218</td>\n",
              "      <td>-0.350733</td>\n",
              "    </tr>\n",
              "    <tr>\n",
              "      <th>petal length</th>\n",
              "      <td>0.871283</td>\n",
              "      <td>-0.415218</td>\n",
              "      <td>1.000000</td>\n",
              "      <td>0.962314</td>\n",
              "    </tr>\n",
              "    <tr>\n",
              "      <th>petal width</th>\n",
              "      <td>0.816971</td>\n",
              "      <td>-0.350733</td>\n",
              "      <td>0.962314</td>\n",
              "      <td>1.000000</td>\n",
              "    </tr>\n",
              "  </tbody>\n",
              "</table>\n",
              "</div>"
            ],
            "text/plain": [
              "              sepal length  sepal width  petal length  petal width\n",
              "sepal length      1.000000    -0.103784      0.871283     0.816971\n",
              "sepal width      -0.103784     1.000000     -0.415218    -0.350733\n",
              "petal length      0.871283    -0.415218      1.000000     0.962314\n",
              "petal width       0.816971    -0.350733      0.962314     1.000000"
            ]
          },
          "metadata": {
            "tags": []
          },
          "execution_count": 76
        }
      ]
    },
    {
      "cell_type": "code",
      "metadata": {
        "colab": {
          "base_uri": "https://localhost:8080/",
          "height": 173
        },
        "id": "mC82h8swDH7_",
        "outputId": "61c45c64-d76d-4fbd-e265-7947cf0e1fa5"
      },
      "source": [
        "setosa.corr()"
      ],
      "execution_count": 77,
      "outputs": [
        {
          "output_type": "execute_result",
          "data": {
            "text/html": [
              "<div>\n",
              "<style scoped>\n",
              "    .dataframe tbody tr th:only-of-type {\n",
              "        vertical-align: middle;\n",
              "    }\n",
              "\n",
              "    .dataframe tbody tr th {\n",
              "        vertical-align: top;\n",
              "    }\n",
              "\n",
              "    .dataframe thead th {\n",
              "        text-align: right;\n",
              "    }\n",
              "</style>\n",
              "<table border=\"1\" class=\"dataframe\">\n",
              "  <thead>\n",
              "    <tr style=\"text-align: right;\">\n",
              "      <th></th>\n",
              "      <th>sepal length</th>\n",
              "      <th>sepal width</th>\n",
              "      <th>petal length</th>\n",
              "      <th>petal width</th>\n",
              "    </tr>\n",
              "  </thead>\n",
              "  <tbody>\n",
              "    <tr>\n",
              "      <th>sepal length</th>\n",
              "      <td>1.000000</td>\n",
              "      <td>0.746498</td>\n",
              "      <td>0.266497</td>\n",
              "      <td>0.282074</td>\n",
              "    </tr>\n",
              "    <tr>\n",
              "      <th>sepal width</th>\n",
              "      <td>0.746498</td>\n",
              "      <td>1.000000</td>\n",
              "      <td>0.178687</td>\n",
              "      <td>0.282444</td>\n",
              "    </tr>\n",
              "    <tr>\n",
              "      <th>petal length</th>\n",
              "      <td>0.266497</td>\n",
              "      <td>0.178687</td>\n",
              "      <td>1.000000</td>\n",
              "      <td>0.304120</td>\n",
              "    </tr>\n",
              "    <tr>\n",
              "      <th>petal width</th>\n",
              "      <td>0.282074</td>\n",
              "      <td>0.282444</td>\n",
              "      <td>0.304120</td>\n",
              "      <td>1.000000</td>\n",
              "    </tr>\n",
              "  </tbody>\n",
              "</table>\n",
              "</div>"
            ],
            "text/plain": [
              "              sepal length  sepal width  petal length  petal width\n",
              "sepal length      1.000000     0.746498      0.266497     0.282074\n",
              "sepal width       0.746498     1.000000      0.178687     0.282444\n",
              "petal length      0.266497     0.178687      1.000000     0.304120\n",
              "petal width       0.282074     0.282444      0.304120     1.000000"
            ]
          },
          "metadata": {
            "tags": []
          },
          "execution_count": 77
        }
      ]
    },
    {
      "cell_type": "code",
      "metadata": {
        "colab": {
          "base_uri": "https://localhost:8080/",
          "height": 173
        },
        "id": "uv9FFzgCDMcU",
        "outputId": "b7a08e7e-c879-4f71-d897-d5d418d1c2a5"
      },
      "source": [
        "versicolor.corr()"
      ],
      "execution_count": 78,
      "outputs": [
        {
          "output_type": "execute_result",
          "data": {
            "text/html": [
              "<div>\n",
              "<style scoped>\n",
              "    .dataframe tbody tr th:only-of-type {\n",
              "        vertical-align: middle;\n",
              "    }\n",
              "\n",
              "    .dataframe tbody tr th {\n",
              "        vertical-align: top;\n",
              "    }\n",
              "\n",
              "    .dataframe thead th {\n",
              "        text-align: right;\n",
              "    }\n",
              "</style>\n",
              "<table border=\"1\" class=\"dataframe\">\n",
              "  <thead>\n",
              "    <tr style=\"text-align: right;\">\n",
              "      <th></th>\n",
              "      <th>sepal length</th>\n",
              "      <th>sepal width</th>\n",
              "      <th>petal length</th>\n",
              "      <th>petal width</th>\n",
              "    </tr>\n",
              "  </thead>\n",
              "  <tbody>\n",
              "    <tr>\n",
              "      <th>sepal length</th>\n",
              "      <td>1.000000</td>\n",
              "      <td>0.525911</td>\n",
              "      <td>0.754049</td>\n",
              "      <td>0.546461</td>\n",
              "    </tr>\n",
              "    <tr>\n",
              "      <th>sepal width</th>\n",
              "      <td>0.525911</td>\n",
              "      <td>1.000000</td>\n",
              "      <td>0.560522</td>\n",
              "      <td>0.663999</td>\n",
              "    </tr>\n",
              "    <tr>\n",
              "      <th>petal length</th>\n",
              "      <td>0.754049</td>\n",
              "      <td>0.560522</td>\n",
              "      <td>1.000000</td>\n",
              "      <td>0.786668</td>\n",
              "    </tr>\n",
              "    <tr>\n",
              "      <th>petal width</th>\n",
              "      <td>0.546461</td>\n",
              "      <td>0.663999</td>\n",
              "      <td>0.786668</td>\n",
              "      <td>1.000000</td>\n",
              "    </tr>\n",
              "  </tbody>\n",
              "</table>\n",
              "</div>"
            ],
            "text/plain": [
              "              sepal length  sepal width  petal length  petal width\n",
              "sepal length      1.000000     0.525911      0.754049     0.546461\n",
              "sepal width       0.525911     1.000000      0.560522     0.663999\n",
              "petal length      0.754049     0.560522      1.000000     0.786668\n",
              "petal width       0.546461     0.663999      0.786668     1.000000"
            ]
          },
          "metadata": {
            "tags": []
          },
          "execution_count": 78
        }
      ]
    },
    {
      "cell_type": "code",
      "metadata": {
        "colab": {
          "base_uri": "https://localhost:8080/",
          "height": 173
        },
        "id": "6bxOY_6FDPfy",
        "outputId": "e3b0f2d5-8f7f-473a-d547-a6c7b5763236"
      },
      "source": [
        "virginica.corr()"
      ],
      "execution_count": 79,
      "outputs": [
        {
          "output_type": "execute_result",
          "data": {
            "text/html": [
              "<div>\n",
              "<style scoped>\n",
              "    .dataframe tbody tr th:only-of-type {\n",
              "        vertical-align: middle;\n",
              "    }\n",
              "\n",
              "    .dataframe tbody tr th {\n",
              "        vertical-align: top;\n",
              "    }\n",
              "\n",
              "    .dataframe thead th {\n",
              "        text-align: right;\n",
              "    }\n",
              "</style>\n",
              "<table border=\"1\" class=\"dataframe\">\n",
              "  <thead>\n",
              "    <tr style=\"text-align: right;\">\n",
              "      <th></th>\n",
              "      <th>sepal length</th>\n",
              "      <th>sepal width</th>\n",
              "      <th>petal length</th>\n",
              "      <th>petal width</th>\n",
              "    </tr>\n",
              "  </thead>\n",
              "  <tbody>\n",
              "    <tr>\n",
              "      <th>sepal length</th>\n",
              "      <td>1.000000</td>\n",
              "      <td>0.457228</td>\n",
              "      <td>0.864225</td>\n",
              "      <td>0.281108</td>\n",
              "    </tr>\n",
              "    <tr>\n",
              "      <th>sepal width</th>\n",
              "      <td>0.457228</td>\n",
              "      <td>1.000000</td>\n",
              "      <td>0.401045</td>\n",
              "      <td>0.537728</td>\n",
              "    </tr>\n",
              "    <tr>\n",
              "      <th>petal length</th>\n",
              "      <td>0.864225</td>\n",
              "      <td>0.401045</td>\n",
              "      <td>1.000000</td>\n",
              "      <td>0.322108</td>\n",
              "    </tr>\n",
              "    <tr>\n",
              "      <th>petal width</th>\n",
              "      <td>0.281108</td>\n",
              "      <td>0.537728</td>\n",
              "      <td>0.322108</td>\n",
              "      <td>1.000000</td>\n",
              "    </tr>\n",
              "  </tbody>\n",
              "</table>\n",
              "</div>"
            ],
            "text/plain": [
              "              sepal length  sepal width  petal length  petal width\n",
              "sepal length      1.000000     0.457228      0.864225     0.281108\n",
              "sepal width       0.457228     1.000000      0.401045     0.537728\n",
              "petal length      0.864225     0.401045      1.000000     0.322108\n",
              "petal width       0.281108     0.537728      0.322108     1.000000"
            ]
          },
          "metadata": {
            "tags": []
          },
          "execution_count": 79
        }
      ]
    },
    {
      "cell_type": "markdown",
      "metadata": {
        "id": "7PstwXnewHpK"
      },
      "source": [
        "##Scatter Plot"
      ]
    },
    {
      "cell_type": "markdown",
      "metadata": {
        "id": "9AwHJpX0-3Bm"
      },
      "source": [
        "A scatter plot is a type of plot or mathematical diagram using Cartesian coordinates to display values ​​for typically two variables for a set of data. If the points are coded, one additional variable can be displayed. \n",
        "\n",
        "Kaynak : Wikipedia"
      ]
    },
    {
      "cell_type": "code",
      "metadata": {
        "id": "Mb8FwVVLwMVO",
        "colab": {
          "base_uri": "https://localhost:8080/",
          "height": 295
        },
        "outputId": "dc39d6f4-4909-4c9a-8985-4acf30e7add7"
      },
      "source": [
        "setosa = df[df.Class == \"Iris-setosa\"]\n",
        "versicolor = df[df.Class == \"Iris-versicolor\"]\n",
        "virginica = df[df.Class == \"Iris-virginica\"]\n",
        "\n",
        "\n",
        "plt.scatter(setosa['petal length'],setosa['petal width'],color=\"red\",label=\"setosa\")\n",
        "plt.scatter(versicolor['petal length'],versicolor['petal width'],color=\"green\",label=\"versicolor\")\n",
        "plt.scatter(virginica['petal length'],virginica['petal width'],color=\"blue\",label=\"virginica\")\n",
        "plt.legend()\n",
        "plt.xlabel(\"PetalLength\")\n",
        "plt.ylabel(\"PetalWidth\")\n",
        "plt.title(\"scatter plot\")\n",
        "plt.show()"
      ],
      "execution_count": 56,
      "outputs": [
        {
          "output_type": "display_data",
          "data": {
            "image/png": "[encoded data removed]",
            "text/plain": [
              "<Figure size 432x288 with 1 Axes>"
            ]
          },
          "metadata": {
            "tags": [],
            "needs_background": "light"
          }
        }
      ]
    },
    {
      "cell_type": "code",
      "metadata": {
        "id": "VGkHh2GyINDS",
        "colab": {
          "base_uri": "https://localhost:8080/",
          "height": 295
        },
        "outputId": "0c405613-5ec1-4d4c-a363-458854cd8451"
      },
      "source": [
        "setosa = df[df.Class == \"Iris-setosa\"]\n",
        "versicolor = df[df.Class == \"Iris-versicolor\"]\n",
        "virginica = df[df.Class == \"Iris-virginica\"]\n",
        "\n",
        "\n",
        "plt.scatter(setosa['sepal length'],setosa['sepal width'],color=\"red\",label=\"setosa\")\n",
        "plt.scatter(versicolor['sepal length'],versicolor['sepal width'],color=\"green\",label=\"versicolor\")\n",
        "plt.scatter(virginica['sepal length'],virginica['sepal width'],color=\"blue\",label=\"virginica\")\n",
        "plt.legend()\n",
        "plt.xlabel(\"PetalLength\")\n",
        "plt.ylabel(\"PetalWidth\")\n",
        "plt.title(\"scatter plot\")\n",
        "plt.show()"
      ],
      "execution_count": 59,
      "outputs": [
        {
          "output_type": "display_data",
          "data": {
            "image/png": "[encoded data removed]",
            "text/plain": [
              "<Figure size 432x288 with 1 Axes>"
            ]
          },
          "metadata": {
            "tags": [],
            "needs_background": "light"
          }
        }
      ]
    },
    {
      "cell_type": "markdown",
      "metadata": {
        "id": "ixfDEByWJ-Mz"
      },
      "source": [
        "## Box Plot"
      ]
    },
    {
      "cell_type": "markdown",
      "metadata": {
        "id": "_gWJOZlrzlFK"
      },
      "source": [
        "Box plot, veri çeyreklerini (veya yüzdelikleri) ve ortalamaları görüntüleyerek sayısal verilerin ve değişkenliğin görsel olarak dağılımını göstermek için kullanılır. Veri analizinde sıklıkla kullanılan bir grafik türüdür.\n",
        "\n",
        "(kaynak:https://yalin-dunya.com/2020/06/19/kutu-grafigi-boxplot/#:~:text=Bir%20kutu%20grafi%C4%9Fi%20(Boxplot)%2C,s%C4%B1kl%C4%B1kla%20kullan%C4%B1lan%20bir%20grafik%20t%C3%BCr%C3%BCd%C3%BCr.)"
      ]
    },
    {
      "cell_type": "code",
      "metadata": {
        "colab": {
          "base_uri": "https://localhost:8080/",
          "height": 547
        },
        "id": "YprKDY_SIwbx",
        "outputId": "3a0f55e4-54f3-44a8-e936-15bb813448fe"
      },
      "source": [
        "veri = df[[\"sepal length\", \"sepal width\", \"petal length\", \"petal width\"]]\n",
        "print(veri.head())\n",
        "\n",
        "plt.figure(figsize = (10, 7))\n",
        "veri.boxplot()"
      ],
      "execution_count": 65,
      "outputs": [
        {
          "output_type": "stream",
          "text": [
            "   sepal length  sepal width  petal length  petal width\n",
            "0           4.9          3.0           1.4          0.2\n",
            "1           4.7          3.2           1.3          0.2\n",
            "2           4.6          3.1           1.5          0.2\n",
            "3           5.0          3.6           1.4          0.2\n",
            "4           5.4          3.9           1.7          0.4\n"
          ],
          "name": "stdout"
        },
        {
          "output_type": "execute_result",
          "data": {
            "text/plain": [
              "<matplotlib.axes._subplots.AxesSubplot at 0x7fd3149d5650>"
            ]
          },
          "metadata": {
            "tags": []
          },
          "execution_count": 65
        },
        {
          "output_type": "display_data",
          "data": {
            "image/png": "[encoded data removed]",
            "text/plain": [
              "<Figure size 720x504 with 1 Axes>"
            ]
          },
          "metadata": {
            "tags": [],
            "needs_background": "light"
          }
        }
      ]
    },
    {
      "cell_type": "markdown",
      "metadata": {
        "id": "z3nIju6KLaUN"
      },
      "source": [
        "## Parallel Coordinates"
      ]
    },
    {
      "cell_type": "markdown",
      "metadata": {
        "id": "dkDUj3etBcny"
      },
      "source": [
        "Parallel coordinates are a common way of visualizing and analyzing high-dimensional datasets. To show a set of points in an n-dimensional space, a backdrop is drawn consisting of n parallel lines, typically vertical and equally spaced. \n",
        "\n",
        "kaynak = Wikipedia"
      ]
    },
    {
      "cell_type": "code",
      "metadata": {
        "colab": {
          "base_uri": "https://localhost:8080/",
          "height": 542
        },
        "id": "K1B3OvWxKZBs",
        "outputId": "945b69ad-7a3f-42b7-8afe-0f99e5371c7f"
      },
      "source": [
        "import plotly.express as px\n",
        "df = px.data.iris()\n",
        "fig = px.parallel_coordinates(df, color=\"species_id\", labels={\"species_id\": \"Species\",\n",
        "                \"sepal_width\": \"Sepal Width\", \"sepal_length\": \"Sepal Length\",\n",
        "                \"petal_width\": \"Petal Width\", \"petal_length\": \"Petal Length\",},\n",
        "                             color_continuous_scale=px.colors.diverging.Tealrose,\n",
        "                             color_continuous_midpoint=2)\n",
        "fig.show()"
      ],
      "execution_count": 69,
      "outputs": [
        {
          "output_type": "display_data",
          "data": {
            "text/html": [
              "<html>\n",
              "<head><meta charset=\"utf-8\" /></head>\n",
              "<body>\n",
              "    <div>\n",
              "            <script src=\"https://cdnjs.cloudflare.com/ajax/libs/mathjax/2.7.5/MathJax.js?config=TeX-AMS-MML_SVG\"></script><script type=\"text/javascript\">if (window.MathJax) {MathJax.Hub.Config({SVG: {font: \"STIX-Web\"}});}</script>\n",
              "                <script type=\"text/javascript\">window.PlotlyConfig = {MathJaxConfig: 'local'};</script>\n",
              "        <script src=\"https://cdn.plot.ly/plotly-latest.min.js\"></script>    \n",
              "            <div id=\"b2f20455-c730-4511-ba52-472648677e13\" class=\"plotly-graph-div\" style=\"height:525px; width:100%;\"></div>\n",
              "            <script type=\"text/javascript\">\n",
              "                \n",
              "                    window.PLOTLYENV=window.PLOTLYENV || {};\n",
              "                    \n",
              "                if (document.getElementById(\"b2f20455-c730-4511-ba52-472648677e13\")) {\n",
              "                    Plotly.newPlot(\n",
              "                        'b2f20455-c730-4511-ba52-472648677e13',\n",
              "                        [{\"dimensions\": [{\"label\": \"Sepal Length\", \"values\": [5.1, 4.9, 4.7, 4.6, 5.0, 5.4, 4.6, 5.0, 4.4, 4.9, 5.4, 4.8, 4.8, 4.3, 5.8, 5.7, 5.4, 5.1, 5.7, 5.1, 5.4, 5.1, 4.6, 5.1, 4.8, 5.0, 5.0, 5.2, 5.2, 4.7, 4.8, 5.4, 5.2, 5.5, 4.9, 5.0, 5.5, 4.9, 4.4, 5.1, 5.0, 4.5, 4.4, 5.0, 5.1, 4.8, 5.1, 4.6, 5.3, 5.0, 7.0, 6.4, 6.9, 5.5, 6.5, 5.7, 6.3, 4.9, 6.6, 5.2, 5.0, 5.9, 6.0, 6.1, 5.6, 6.7, 5.6, 5.8, 6.2, 5.6, 5.9, 6.1, 6.3, 6.1, 6.4, 6.6, 6.8, 6.7, 6.0, 5.7, 5.5, 5.5, 5.8, 6.0, 5.4, 6.0, 6.7, 6.3, 5.6, 5.5, 5.5, 6.1, 5.8, 5.0, 5.6, 5.7, 5.7, 6.2, 5.1, 5.7, 6.3, 5.8, 7.1, 6.3, 6.5, 7.6, 4.9, 7.3, 6.7, 7.2, 6.5, 6.4, 6.8, 5.7, 5.8, 6.4, 6.5, 7.7, 7.7, 6.0, 6.9, 5.6, 7.7, 6.3, 6.7, 7.2, 6.2, 6.1, 6.4, 7.2, 7.4, 7.9, 6.4, 6.3, 6.1, 7.7, 6.3, 6.4, 6.0, 6.9, 6.7, 6.9, 5.8, 6.8, 6.7, 6.7, 6.3, 6.5, 6.2, 5.9]}, {\"label\": \"Sepal Width\", \"values\": [3.5, 3.0, 3.2, 3.1, 3.6, 3.9, 3.4, 3.4, 2.9, 3.1, 3.7, 3.4, 3.0, 3.0, 4.0, 4.4, 3.9, 3.5, 3.8, 3.8, 3.4, 3.7, 3.6, 3.3, 3.4, 3.0, 3.4, 3.5, 3.4, 3.2, 3.1, 3.4, 4.1, 4.2, 3.1, 3.2, 3.5, 3.1, 3.0, 3.4, 3.5, 2.3, 3.2, 3.5, 3.8, 3.0, 3.8, 3.2, 3.7, 3.3, 3.2, 3.2, 3.1, 2.3, 2.8, 2.8, 3.3, 2.4, 2.9, 2.7, 2.0, 3.0, 2.2, 2.9, 2.9, 3.1, 3.0, 2.7, 2.2, 2.5, 3.2, 2.8, 2.5, 2.8, 2.9, 3.0, 2.8, 3.0, 2.9, 2.6, 2.4, 2.4, 2.7, 2.7, 3.0, 3.4, 3.1, 2.3, 3.0, 2.5, 2.6, 3.0, 2.6, 2.3, 2.7, 3.0, 2.9, 2.9, 2.5, 2.8, 3.3, 2.7, 3.0, 2.9, 3.0, 3.0, 2.5, 2.9, 2.5, 3.6, 3.2, 2.7, 3.0, 2.5, 2.8, 3.2, 3.0, 3.8, 2.6, 2.2, 3.2, 2.8, 2.8, 2.7, 3.3, 3.2, 2.8, 3.0, 2.8, 3.0, 2.8, 3.8, 2.8, 2.8, 2.6, 3.0, 3.4, 3.1, 3.0, 3.1, 3.1, 3.1, 2.7, 3.2, 3.3, 3.0, 2.5, 3.0, 3.4, 3.0]}, {\"label\": \"Petal Length\", \"values\": [1.4, 1.4, 1.3, 1.5, 1.4, 1.7, 1.4, 1.5, 1.4, 1.5, 1.5, 1.6, 1.4, 1.1, 1.2, 1.5, 1.3, 1.4, 1.7, 1.5, 1.7, 1.5, 1.0, 1.7, 1.9, 1.6, 1.6, 1.5, 1.4, 1.6, 1.6, 1.5, 1.5, 1.4, 1.5, 1.2, 1.3, 1.5, 1.3, 1.5, 1.3, 1.3, 1.3, 1.6, 1.9, 1.4, 1.6, 1.4, 1.5, 1.4, 4.7, 4.5, 4.9, 4.0, 4.6, 4.5, 4.7, 3.3, 4.6, 3.9, 3.5, 4.2, 4.0, 4.7, 3.6, 4.4, 4.5, 4.1, 4.5, 3.9, 4.8, 4.0, 4.9, 4.7, 4.3, 4.4, 4.8, 5.0, 4.5, 3.5, 3.8, 3.7, 3.9, 5.1, 4.5, 4.5, 4.7, 4.4, 4.1, 4.0, 4.4, 4.6, 4.0, 3.3, 4.2, 4.2, 4.2, 4.3, 3.0, 4.1, 6.0, 5.1, 5.9, 5.6, 5.8, 6.6, 4.5, 6.3, 5.8, 6.1, 5.1, 5.3, 5.5, 5.0, 5.1, 5.3, 5.5, 6.7, 6.9, 5.0, 5.7, 4.9, 6.7, 4.9, 5.7, 6.0, 4.8, 4.9, 5.6, 5.8, 6.1, 6.4, 5.6, 5.1, 5.6, 6.1, 5.6, 5.5, 4.8, 5.4, 5.6, 5.1, 5.1, 5.9, 5.7, 5.2, 5.0, 5.2, 5.4, 5.1]}, {\"label\": \"Petal Width\", \"values\": [0.2, 0.2, 0.2, 0.2, 0.2, 0.4, 0.3, 0.2, 0.2, 0.1, 0.2, 0.2, 0.1, 0.1, 0.2, 0.4, 0.4, 0.3, 0.3, 0.3, 0.2, 0.4, 0.2, 0.5, 0.2, 0.2, 0.4, 0.2, 0.2, 0.2, 0.2, 0.4, 0.1, 0.2, 0.1, 0.2, 0.2, 0.1, 0.2, 0.2, 0.3, 0.3, 0.2, 0.6, 0.4, 0.3, 0.2, 0.2, 0.2, 0.2, 1.4, 1.5, 1.5, 1.3, 1.5, 1.3, 1.6, 1.0, 1.3, 1.4, 1.0, 1.5, 1.0, 1.4, 1.3, 1.4, 1.5, 1.0, 1.5, 1.1, 1.8, 1.3, 1.5, 1.2, 1.3, 1.4, 1.4, 1.7, 1.5, 1.0, 1.1, 1.0, 1.2, 1.6, 1.5, 1.6, 1.5, 1.3, 1.3, 1.3, 1.2, 1.4, 1.2, 1.0, 1.3, 1.2, 1.3, 1.3, 1.1, 1.3, 2.5, 1.9, 2.1, 1.8, 2.2, 2.1, 1.7, 1.8, 1.8, 2.5, 2.0, 1.9, 2.1, 2.0, 2.4, 2.3, 1.8, 2.2, 2.3, 1.5, 2.3, 2.0, 2.0, 1.8, 2.1, 1.8, 1.8, 1.8, 2.1, 1.6, 1.9, 2.0, 2.2, 1.5, 1.4, 2.3, 2.4, 1.8, 1.8, 2.1, 2.4, 2.3, 1.9, 2.3, 2.5, 2.3, 1.9, 2.0, 2.3, 1.8]}, {\"label\": \"Species\", \"values\": [1, 1, 1, 1, 1, 1, 1, 1, 1, 1, 1, 1, 1, 1, 1, 1, 1, 1, 1, 1, 1, 1, 1, 1, 1, 1, 1, 1, 1, 1, 1, 1, 1, 1, 1, 1, 1, 1, 1, 1, 1, 1, 1, 1, 1, 1, 1, 1, 1, 1, 2, 2, 2, 2, 2, 2, 2, 2, 2, 2, 2, 2, 2, 2, 2, 2, 2, 2, 2, 2, 2, 2, 2, 2, 2, 2, 2, 2, 2, 2, 2, 2, 2, 2, 2, 2, 2, 2, 2, 2, 2, 2, 2, 2, 2, 2, 2, 2, 2, 2, 3, 3, 3, 3, 3, 3, 3, 3, 3, 3, 3, 3, 3, 3, 3, 3, 3, 3, 3, 3, 3, 3, 3, 3, 3, 3, 3, 3, 3, 3, 3, 3, 3, 3, 3, 3, 3, 3, 3, 3, 3, 3, 3, 3, 3, 3, 3, 3, 3, 3]}], \"domain\": {\"x\": [0.0, 1.0], \"y\": [0.0, 1.0]}, \"line\": {\"color\": [1, 1, 1, 1, 1, 1, 1, 1, 1, 1, 1, 1, 1, 1, 1, 1, 1, 1, 1, 1, 1, 1, 1, 1, 1, 1, 1, 1, 1, 1, 1, 1, 1, 1, 1, 1, 1, 1, 1, 1, 1, 1, 1, 1, 1, 1, 1, 1, 1, 1, 2, 2, 2, 2, 2, 2, 2, 2, 2, 2, 2, 2, 2, 2, 2, 2, 2, 2, 2, 2, 2, 2, 2, 2, 2, 2, 2, 2, 2, 2, 2, 2, 2, 2, 2, 2, 2, 2, 2, 2, 2, 2, 2, 2, 2, 2, 2, 2, 2, 2, 3, 3, 3, 3, 3, 3, 3, 3, 3, 3, 3, 3, 3, 3, 3, 3, 3, 3, 3, 3, 3, 3, 3, 3, 3, 3, 3, 3, 3, 3, 3, 3, 3, 3, 3, 3, 3, 3, 3, 3, 3, 3, 3, 3, 3, 3, 3, 3, 3, 3], \"coloraxis\": \"coloraxis\"}, \"name\": \"\", \"type\": \"parcoords\"}],\n",
              "                        {\"coloraxis\": {\"cmid\": 2, \"colorbar\": {\"title\": {\"text\": \"Species\"}}, \"colorscale\": [[0.0, \"rgb(0, 147, 146)\"], [0.16666666666666666, \"rgb(114, 170, 161)\"], [0.3333333333333333, \"rgb(177, 199, 179)\"], [0.5, \"rgb(241, 234, 200)\"], [0.6666666666666666, \"rgb(229, 185, 173)\"], [0.8333333333333334, \"rgb(217, 137, 148)\"], [1.0, \"rgb(208, 88, 126)\"]]}, \"legend\": {\"tracegroupgap\": 0}, \"margin\": {\"t\": 60}, \"template\": {\"data\": {\"bar\": [{\"error_x\": {\"color\": \"#2a3f5f\"}, \"error_y\": {\"color\": \"#2a3f5f\"}, \"marker\": {\"line\": {\"color\": \"#E5ECF6\", \"width\": 0.5}}, \"type\": \"bar\"}], \"barpolar\": [{\"marker\": {\"line\": {\"color\": \"#E5ECF6\", \"width\": 0.5}}, \"type\": \"barpolar\"}], \"carpet\": [{\"aaxis\": {\"endlinecolor\": \"#2a3f5f\", \"gridcolor\": \"white\", \"linecolor\": \"white\", \"minorgridcolor\": \"white\", \"startlinecolor\": \"#2a3f5f\"}, \"baxis\": {\"endlinecolor\": \"#2a3f5f\", \"gridcolor\": \"white\", \"linecolor\": \"white\", \"minorgridcolor\": \"white\", \"startlinecolor\": \"#2a3f5f\"}, \"type\": \"carpet\"}], \"choropleth\": [{\"colorbar\": {\"outlinewidth\": 0, \"ticks\": \"\"}, \"type\": \"choropleth\"}], \"contour\": [{\"colorbar\": {\"outlinewidth\": 0, \"ticks\": \"\"}, \"colorscale\": [[0.0, \"#0d0887\"], [0.1111111111111111, \"#46039f\"], [0.2222222222222222, \"#7201a8\"], [0.3333333333333333, \"#9c179e\"], [0.4444444444444444, \"#bd3786\"], [0.5555555555555556, \"#d8576b\"], [0.6666666666666666, \"#ed7953\"], [0.7777777777777778, \"#fb9f3a\"], [0.8888888888888888, \"#fdca26\"], [1.0, \"#f0f921\"]], \"type\": \"contour\"}], \"contourcarpet\": [{\"colorbar\": {\"outlinewidth\": 0, \"ticks\": \"\"}, \"type\": \"contourcarpet\"}], \"heatmap\": [{\"colorbar\": {\"outlinewidth\": 0, \"ticks\": \"\"}, \"colorscale\": [[0.0, \"#0d0887\"], [0.1111111111111111, \"#46039f\"], [0.2222222222222222, \"#7201a8\"], [0.3333333333333333, \"#9c179e\"], [0.4444444444444444, \"#bd3786\"], [0.5555555555555556, \"#d8576b\"], [0.6666666666666666, \"#ed7953\"], [0.7777777777777778, \"#fb9f3a\"], [0.8888888888888888, \"#fdca26\"], [1.0, \"#f0f921\"]], \"type\": \"heatmap\"}], \"heatmapgl\": [{\"colorbar\": {\"outlinewidth\": 0, \"ticks\": \"\"}, \"colorscale\": [[0.0, \"#0d0887\"], [0.1111111111111111, \"#46039f\"], [0.2222222222222222, \"#7201a8\"], [0.3333333333333333, \"#9c179e\"], [0.4444444444444444, \"#bd3786\"], [0.5555555555555556, \"#d8576b\"], [0.6666666666666666, \"#ed7953\"], [0.7777777777777778, \"#fb9f3a\"], [0.8888888888888888, \"#fdca26\"], [1.0, \"#f0f921\"]], \"type\": \"heatmapgl\"}], \"histogram\": [{\"marker\": {\"colorbar\": {\"outlinewidth\": 0, \"ticks\": \"\"}}, \"type\": \"histogram\"}], \"histogram2d\": [{\"colorbar\": {\"outlinewidth\": 0, \"ticks\": \"\"}, \"colorscale\": [[0.0, \"#0d0887\"], [0.1111111111111111, \"#46039f\"], [0.2222222222222222, \"#7201a8\"], [0.3333333333333333, \"#9c179e\"], [0.4444444444444444, \"#bd3786\"], [0.5555555555555556, \"#d8576b\"], [0.6666666666666666, \"#ed7953\"], [0.7777777777777778, \"#fb9f3a\"], [0.8888888888888888, \"#fdca26\"], [1.0, \"#f0f921\"]], \"type\": \"histogram2d\"}], \"histogram2dcontour\": [{\"colorbar\": {\"outlinewidth\": 0, \"ticks\": \"\"}, \"colorscale\": [[0.0, \"#0d0887\"], [0.1111111111111111, \"#46039f\"], [0.2222222222222222, \"#7201a8\"], [0.3333333333333333, \"#9c179e\"], [0.4444444444444444, \"#bd3786\"], [0.5555555555555556, \"#d8576b\"], [0.6666666666666666, \"#ed7953\"], [0.7777777777777778, \"#fb9f3a\"], [0.8888888888888888, \"#fdca26\"], [1.0, \"#f0f921\"]], \"type\": \"histogram2dcontour\"}], \"mesh3d\": [{\"colorbar\": {\"outlinewidth\": 0, \"ticks\": \"\"}, \"type\": \"mesh3d\"}], \"parcoords\": [{\"line\": {\"colorbar\": {\"outlinewidth\": 0, \"ticks\": \"\"}}, \"type\": \"parcoords\"}], \"pie\": [{\"automargin\": true, \"type\": \"pie\"}], \"scatter\": [{\"marker\": {\"colorbar\": {\"outlinewidth\": 0, \"ticks\": \"\"}}, \"type\": \"scatter\"}], \"scatter3d\": [{\"line\": {\"colorbar\": {\"outlinewidth\": 0, \"ticks\": \"\"}}, \"marker\": {\"colorbar\": {\"outlinewidth\": 0, \"ticks\": \"\"}}, \"type\": \"scatter3d\"}], \"scattercarpet\": [{\"marker\": {\"colorbar\": {\"outlinewidth\": 0, \"ticks\": \"\"}}, \"type\": \"scattercarpet\"}], \"scattergeo\": [{\"marker\": {\"colorbar\": {\"outlinewidth\": 0, \"ticks\": \"\"}}, \"type\": \"scattergeo\"}], \"scattergl\": [{\"marker\": {\"colorbar\": {\"outlinewidth\": 0, \"ticks\": \"\"}}, \"type\": \"scattergl\"}], \"scattermapbox\": [{\"marker\": {\"colorbar\": {\"outlinewidth\": 0, \"ticks\": \"\"}}, \"type\": \"scattermapbox\"}], \"scatterpolar\": [{\"marker\": {\"colorbar\": {\"outlinewidth\": 0, \"ticks\": \"\"}}, \"type\": \"scatterpolar\"}], \"scatterpolargl\": [{\"marker\": {\"colorbar\": {\"outlinewidth\": 0, \"ticks\": \"\"}}, \"type\": \"scatterpolargl\"}], \"scatterternary\": [{\"marker\": {\"colorbar\": {\"outlinewidth\": 0, \"ticks\": \"\"}}, \"type\": \"scatterternary\"}], \"surface\": [{\"colorbar\": {\"outlinewidth\": 0, \"ticks\": \"\"}, \"colorscale\": [[0.0, \"#0d0887\"], [0.1111111111111111, \"#46039f\"], [0.2222222222222222, \"#7201a8\"], [0.3333333333333333, \"#9c179e\"], [0.4444444444444444, \"#bd3786\"], [0.5555555555555556, \"#d8576b\"], [0.6666666666666666, \"#ed7953\"], [0.7777777777777778, \"#fb9f3a\"], [0.8888888888888888, \"#fdca26\"], [1.0, \"#f0f921\"]], \"type\": \"surface\"}], \"table\": [{\"cells\": {\"fill\": {\"color\": \"#EBF0F8\"}, \"line\": {\"color\": \"white\"}}, \"header\": {\"fill\": {\"color\": \"#C8D4E3\"}, \"line\": {\"color\": \"white\"}}, \"type\": \"table\"}]}, \"layout\": {\"annotationdefaults\": {\"arrowcolor\": \"#2a3f5f\", \"arrowhead\": 0, \"arrowwidth\": 1}, \"coloraxis\": {\"colorbar\": {\"outlinewidth\": 0, \"ticks\": \"\"}}, \"colorscale\": {\"diverging\": [[0, \"#8e0152\"], [0.1, \"#c51b7d\"], [0.2, \"#de77ae\"], [0.3, \"#f1b6da\"], [0.4, \"#fde0ef\"], [0.5, \"#f7f7f7\"], [0.6, \"#e6f5d0\"], [0.7, \"#b8e186\"], [0.8, \"#7fbc41\"], [0.9, \"#4d9221\"], [1, \"#276419\"]], \"sequential\": [[0.0, \"#0d0887\"], [0.1111111111111111, \"#46039f\"], [0.2222222222222222, \"#7201a8\"], [0.3333333333333333, \"#9c179e\"], [0.4444444444444444, \"#bd3786\"], [0.5555555555555556, \"#d8576b\"], [0.6666666666666666, \"#ed7953\"], [0.7777777777777778, \"#fb9f3a\"], [0.8888888888888888, \"#fdca26\"], [1.0, \"#f0f921\"]], \"sequentialminus\": [[0.0, \"#0d0887\"], [0.1111111111111111, \"#46039f\"], [0.2222222222222222, \"#7201a8\"], [0.3333333333333333, \"#9c179e\"], [0.4444444444444444, \"#bd3786\"], [0.5555555555555556, \"#d8576b\"], [0.6666666666666666, \"#ed7953\"], [0.7777777777777778, \"#fb9f3a\"], [0.8888888888888888, \"#fdca26\"], [1.0, \"#f0f921\"]]}, \"colorway\": [\"#636efa\", \"#EF553B\", \"#00cc96\", \"#ab63fa\", \"#FFA15A\", \"#19d3f3\", \"#FF6692\", \"#B6E880\", \"#FF97FF\", \"#FECB52\"], \"font\": {\"color\": \"#2a3f5f\"}, \"geo\": {\"bgcolor\": \"white\", \"lakecolor\": \"white\", \"landcolor\": \"#E5ECF6\", \"showlakes\": true, \"showland\": true, \"subunitcolor\": \"white\"}, \"hoverlabel\": {\"align\": \"left\"}, \"hovermode\": \"closest\", \"mapbox\": {\"style\": \"light\"}, \"paper_bgcolor\": \"white\", \"plot_bgcolor\": \"#E5ECF6\", \"polar\": {\"angularaxis\": {\"gridcolor\": \"white\", \"linecolor\": \"white\", \"ticks\": \"\"}, \"bgcolor\": \"#E5ECF6\", \"radialaxis\": {\"gridcolor\": \"white\", \"linecolor\": \"white\", \"ticks\": \"\"}}, \"scene\": {\"xaxis\": {\"backgroundcolor\": \"#E5ECF6\", \"gridcolor\": \"white\", \"gridwidth\": 2, \"linecolor\": \"white\", \"showbackground\": true, \"ticks\": \"\", \"zerolinecolor\": \"white\"}, \"yaxis\": {\"backgroundcolor\": \"#E5ECF6\", \"gridcolor\": \"white\", \"gridwidth\": 2, \"linecolor\": \"white\", \"showbackground\": true, \"ticks\": \"\", \"zerolinecolor\": \"white\"}, \"zaxis\": {\"backgroundcolor\": \"#E5ECF6\", \"gridcolor\": \"white\", \"gridwidth\": 2, \"linecolor\": \"white\", \"showbackground\": true, \"ticks\": \"\", \"zerolinecolor\": \"white\"}}, \"shapedefaults\": {\"line\": {\"color\": \"#2a3f5f\"}}, \"ternary\": {\"aaxis\": {\"gridcolor\": \"white\", \"linecolor\": \"white\", \"ticks\": \"\"}, \"baxis\": {\"gridcolor\": \"white\", \"linecolor\": \"white\", \"ticks\": \"\"}, \"bgcolor\": \"#E5ECF6\", \"caxis\": {\"gridcolor\": \"white\", \"linecolor\": \"white\", \"ticks\": \"\"}}, \"title\": {\"x\": 0.05}, \"xaxis\": {\"automargin\": true, \"gridcolor\": \"white\", \"linecolor\": \"white\", \"ticks\": \"\", \"title\": {\"standoff\": 15}, \"zerolinecolor\": \"white\", \"zerolinewidth\": 2}, \"yaxis\": {\"automargin\": true, \"gridcolor\": \"white\", \"linecolor\": \"white\", \"ticks\": \"\", \"title\": {\"standoff\": 15}, \"zerolinecolor\": \"white\", \"zerolinewidth\": 2}}}},\n",
              "                        {\"responsive\": true}\n",
              "                    ).then(function(){\n",
              "                            \n",
              "var gd = document.getElementById('b2f20455-c730-4511-ba52-472648677e13');\n",
              "var x = new MutationObserver(function (mutations, observer) {{\n",
              "        var display = window.getComputedStyle(gd).display;\n",
              "        if (!display || display === 'none') {{\n",
              "            console.log([gd, 'removed!']);\n",
              "            Plotly.purge(gd);\n",
              "            observer.disconnect();\n",
              "        }}\n",
              "}});\n",
              "\n",
              "// Listen for the removal of the full notebook cells\n",
              "var notebookContainer = gd.closest('#notebook-container');\n",
              "if (notebookContainer) {{\n",
              "    x.observe(notebookContainer, {childList: true});\n",
              "}}\n",
              "\n",
              "// Listen for the clearing of the current output cell\n",
              "var outputEl = gd.closest('.output');\n",
              "if (outputEl) {{\n",
              "    x.observe(outputEl, {childList: true});\n",
              "}}\n",
              "\n",
              "                        })\n",
              "                };\n",
              "                \n",
              "            </script>\n",
              "        </div>\n",
              "</body>\n",
              "</html>"
            ]
          },
          "metadata": {
            "tags": []
          }
        }
      ]
    }
  ]
}