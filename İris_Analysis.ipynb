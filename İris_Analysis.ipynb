{
  "nbformat": 4,
  "nbformat_minor": 0,
  "metadata": {
    "colab": {
      "name": "İris Analysis.ipynb",
      "provenance": [],
      "authorship_tag": "ABX9TyP4rsLdP9TDQ2AmAxxdMzM9",
      "include_colab_link": true
    },
    "kernelspec": {
      "name": "python3",
      "display_name": "Python 3"
    },
    "language_info": {
      "name": "python"
    }
  },
  "cells": [
    {
      "cell_type": "markdown",
      "metadata": {
        "id": "view-in-github",
        "colab_type": "text"
      },
      "source": [
        "<a href=\"https://colab.research.google.com/github/uomerozkaya/Data-Mining/blob/main/%C4%B0ris_Analysis.ipynb\" target=\"_parent\"><img src=\"https://colab.research.google.com/assets/colab-badge.svg\" alt=\"Open In Colab\"/></a>"
      ]
    },
    {
      "cell_type": "code",
      "metadata": {
        "id": "3E9MgTM_BlnB"
      },
      "source": [
        "import matplotlib.pyplot as plt\n",
        "import numpy as np\n",
        "import math\n",
        "import pandas as pd\n",
        "def ortalamaBul(vektor):\n",
        "    veriAdedi = len(vektor)\n",
        "    if veriAdedi <= 1:\n",
        "        return vektor\n",
        "    else:\n",
        "        return sum(vektor) / veriAdedi\n",
        "def std_list(k):\n",
        "        n = len(k)\n",
        "        ort = sum(k) / n\n",
        "        toplam = 0\n",
        "        for x in k:\n",
        "            toplam += (x - ort) ** 2 \n",
        "        return math.sqrt(toplam / (n - 1))\n",
        "\n",
        "def covariance(k, l):\n",
        "\n",
        "    if len(k) != len(l):\n",
        "        return  \n",
        "    ort_k = sum(k)/len(k)\n",
        "    ort_l = sum(l)/len(l)\n",
        "\n",
        "    toplam = 0\n",
        "    for a,b in zip(k,l):\n",
        "        toplam += ((a - ort_k) * (b - ort_l))\n",
        "    return toplam/(len(k)-1)\n",
        "print(covariance(list1, list2))\n",
        "\n",
        "def correlation(k,l):\n",
        "    return covariance(k,l) / (std_list(k)*std_list(l))\n",
        "\n",
        "print(correlation(list1,list2))"
      ],
      "execution_count": 2,
      "outputs": []
    },
    {
      "cell_type": "code",
      "metadata": {
        "colab": {
          "base_uri": "https://localhost:8080/"
        },
        "id": "xjITY8W6BuJD",
        "outputId": "afd91759-5f3d-4ed2-9a8b-d214ee5f6e5b"
      },
      "source": [
        "df = pd.read_csv(\"iris.csv\")\n",
        "print(df.columns)"
      ],
      "execution_count": 5,
      "outputs": [
        {
          "output_type": "stream",
          "text": [
            "Index(['Id', 'SepalLengthCm', 'SepalWidthCm', 'PetalLengthCm', 'PetalWidthCm',\n",
            "       'Species'],\n",
            "      dtype='object')\n"
          ],
          "name": "stdout"
        }
      ]
    },
    {
      "cell_type": "markdown",
      "metadata": {
        "id": "r2TBXmhJMEYe"
      },
      "source": [
        "## SETOSA"
      ]
    },
    {
      "cell_type": "code",
      "metadata": {
        "id": "UVWZ8MomBwp0"
      },
      "source": [
        "setosa = df[df.Species == \"Iris-setosa\"] "
      ],
      "execution_count": 6,
      "outputs": []
    },
    {
      "cell_type": "code",
      "metadata": {
        "colab": {
          "base_uri": "https://localhost:8080/"
        },
        "id": "ZBkQE0L-B3fP",
        "outputId": "6e6089d8-10c6-4e54-9385-1c578f89e41c"
      },
      "source": [
        "setosa_sepalLengthCm = setosa[\"SepalLengthCm\"]\n",
        "print(\"setosa_sepalLengthCm standart variance value = \",std_list(setosa_sepalLengthCm))\n",
        "print(\"setosa_sepalLengthCm mean value = \",ortalamaBul(setosa_sepalLengthCm))\n",
        "print(\"setosa_sepalLengthCm maximum value = \",max(setosa_sepalLengthCm))\n",
        "print(\"setosa_sepalLengthCm minimum value = \",min(setosa_sepalLengthCm))"
      ],
      "execution_count": 7,
      "outputs": [
        {
          "output_type": "stream",
          "text": [
            "setosa_sepalLengthCm standart variance value =  0.3524896872134512\n",
            "setosa_sepalLengthCm mean value =  5.005999999999999\n",
            "setosa_sepalLengthCm maximum value =  5.8\n",
            "setosa_sepalLengthCm minimum value =  4.3\n"
          ],
          "name": "stdout"
        }
      ]
    },
    {
      "cell_type": "code",
      "metadata": {
        "colab": {
          "base_uri": "https://localhost:8080/"
        },
        "id": "uX_dP8DTB6Rq",
        "outputId": "9d7a7344-a79f-4ad0-fb57-72df90126ee2"
      },
      "source": [
        "setosa_sepalWidthCm = setosa[\"SepalWidthCm\"]\n",
        "print(\"setosa_sepalWidthCm standart variance value = \",std_list(setosa_sepalWidthCm))\n",
        "print(\"setosa_sepalWidthCm mean value = \",ortalamaBul(setosa_sepalWidthCm))\n",
        "print(\"setosa_sepalWidthCm maximum value = \",max(setosa_sepalWidthCm))\n",
        "print(\"setosa_sepalWidthCm minimum value = \",min(setosa_sepalWidthCm))"
      ],
      "execution_count": 6,
      "outputs": [
        {
          "output_type": "stream",
          "text": [
            "setosa_sepalWidthCm standart variance value =  0.38102439795469095\n",
            "setosa_sepalWidthCm mean value =  3.4180000000000006\n",
            "setosa_sepalWidthCm maximum value =  4.4\n",
            "setosa_sepalWidthCm minimum value =  2.3\n"
          ],
          "name": "stdout"
        }
      ]
    },
    {
      "cell_type": "code",
      "metadata": {
        "colab": {
          "base_uri": "https://localhost:8080/"
        },
        "id": "1aNZmPajB9TL",
        "outputId": "231604f6-7b6c-41df-fe25-c03f51b17d79"
      },
      "source": [
        "setosa_petalLengthCm = setosa[\"PetalLengthCm\"]\n",
        "print(\"setosa_petalLengthCm standart variance value = \",std_list(setosa_petalLengthCm))\n",
        "print(\"setosa_petalLengthCm mean value = \",ortalamaBul(setosa_petalLengthCm))\n",
        "print(\"setosa_petalLengthCm maximum value = \",max(setosa_petalLengthCm))\n",
        "print(\"setosa_petalLengthCm minimum value = \",min(setosa_petalLengthCm))"
      ],
      "execution_count": 8,
      "outputs": [
        {
          "output_type": "stream",
          "text": [
            "setosa_petalLengthCm standart variance value =  0.1735111594364455\n",
            "setosa_petalLengthCm mean value =  1.464\n",
            "setosa_petalLengthCm maximum value =  1.9\n",
            "setosa_petalLengthCm minimum value =  1.0\n"
          ],
          "name": "stdout"
        }
      ]
    },
    {
      "cell_type": "code",
      "metadata": {
        "colab": {
          "base_uri": "https://localhost:8080/"
        },
        "id": "y790nHWHCOMM",
        "outputId": "c13e16e8-0916-4bf6-aa01-b86b2feecb21"
      },
      "source": [
        "setosa_petalWidthCm = setosa[\"PetalWidthCm\"]\n",
        "print(\"setosa_petalWidthCm standart variance value = \",std_list(setosa_petalWidthCm))\n",
        "print(\"setosa_petalWidthCm mean value = \",ortalamaBul(setosa_petalWidthCm))\n",
        "print(\"setosa_petalWidthCm maximum value = \",max(setosa_petalWidthCm))\n",
        "print(\"setosa_petalWidthCm minimum value = \",min(setosa_petalWidthCm))"
      ],
      "execution_count": 9,
      "outputs": [
        {
          "output_type": "stream",
          "text": [
            "setosa_petalWidthCm standart variance value =  0.10720950308167837\n",
            "setosa_petalWidthCm mean value =  0.2439999999999999\n",
            "setosa_petalWidthCm maximum value =  0.6\n",
            "setosa_petalWidthCm minimum value =  0.1\n"
          ],
          "name": "stdout"
        }
      ]
    },
    {
      "cell_type": "code",
      "metadata": {
        "colab": {
          "base_uri": "https://localhost:8080/"
        },
        "id": "WKAPGBYcDicJ",
        "outputId": "4ae2b31c-7f40-4f5a-94d3-c11e5567a71c"
      },
      "source": [
        "#print(df.describe())\n",
        "print(setosa.describe())"
      ],
      "execution_count": 10,
      "outputs": [
        {
          "output_type": "stream",
          "text": [
            "             Id  SepalLengthCm  SepalWidthCm  PetalLengthCm  PetalWidthCm\n",
            "count  50.00000       50.00000     50.000000      50.000000      50.00000\n",
            "mean   25.50000        5.00600      3.418000       1.464000       0.24400\n",
            "std    14.57738        0.35249      0.381024       0.173511       0.10721\n",
            "min     1.00000        4.30000      2.300000       1.000000       0.10000\n",
            "25%    13.25000        4.80000      3.125000       1.400000       0.20000\n",
            "50%    25.50000        5.00000      3.400000       1.500000       0.20000\n",
            "75%    37.75000        5.20000      3.675000       1.575000       0.30000\n",
            "max    50.00000        5.80000      4.400000       1.900000       0.60000\n"
          ],
          "name": "stdout"
        }
      ]
    },
    {
      "cell_type": "code",
      "metadata": {
        "colab": {
          "base_uri": "https://localhost:8080/"
        },
        "id": "Ipat70RgM5ui",
        "outputId": "2c89b578-43b2-4f13-aeeb-4e6e5d4eaaaf"
      },
      "source": [
        "print(setosa.info())"
      ],
      "execution_count": 11,
      "outputs": [
        {
          "output_type": "stream",
          "text": [
            "<class 'pandas.core.frame.DataFrame'>\n",
            "Int64Index: 50 entries, 0 to 49\n",
            "Data columns (total 6 columns):\n",
            " #   Column         Non-Null Count  Dtype  \n",
            "---  ------         --------------  -----  \n",
            " 0   Id             50 non-null     int64  \n",
            " 1   SepalLengthCm  50 non-null     float64\n",
            " 2   SepalWidthCm   50 non-null     float64\n",
            " 3   PetalLengthCm  50 non-null     float64\n",
            " 4   PetalWidthCm   50 non-null     float64\n",
            " 5   Species        50 non-null     object \n",
            "dtypes: float64(4), int64(1), object(1)\n",
            "memory usage: 2.7+ KB\n",
            "None\n"
          ],
          "name": "stdout"
        }
      ]
    },
    {
      "cell_type": "markdown",
      "metadata": {
        "id": "ZeB522pXL-oD"
      },
      "source": [
        "## VERSİCOLOR"
      ]
    },
    {
      "cell_type": "code",
      "metadata": {
        "id": "fsnIBEzFD0el"
      },
      "source": [
        "versicolor = df[df.Species == \"Iris-versicolor\"]"
      ],
      "execution_count": 24,
      "outputs": []
    },
    {
      "cell_type": "code",
      "metadata": {
        "colab": {
          "base_uri": "https://localhost:8080/"
        },
        "id": "5-yjeHsTEZeT",
        "outputId": "aa218f33-67f7-4eff-d261-6a4a6f14d97b"
      },
      "source": [
        "versicolor_sepalLengthCm = versicolor[\"SepalLengthCm\"]\n",
        "print(\"versicolor_sepalLengthCm standart variance value = \",std_list(versicolor_sepalLengthCm))\n",
        "print(\"versicolor_sepalLengthCm value = \",ortalamaBul(versicolor_sepalLengthCm))\n",
        "print(\"versicolor_sepalLengthCm value = \",max(versicolor_sepalLengthCm))\n",
        "print(\"versicolor_sepalLengthCm value = \",min(versicolor_sepalLengthCm))"
      ],
      "execution_count": 13,
      "outputs": [
        {
          "output_type": "stream",
          "text": [
            "versicolor_sepalLengthCm standart variance value =  0.5161711470638635\n",
            "versicolor_sepalLengthCm value =  5.936\n",
            "versicolor_sepalLengthCm value =  7.0\n",
            "versicolor_sepalLengthCm value =  4.9\n"
          ],
          "name": "stdout"
        }
      ]
    },
    {
      "cell_type": "code",
      "metadata": {
        "colab": {
          "base_uri": "https://localhost:8080/"
        },
        "id": "WEksyvniEwHX",
        "outputId": "b7a88bd8-fb16-4ebf-b954-1a4e0a919b2e"
      },
      "source": [
        "versicolor_sepalWidthCm = versicolor[\"SepalWidthCm\"]\n",
        "print(\"versicolor_sepalWidthCm standart variance value = \",std_list(versicolor_sepalWidthCm))\n",
        "print(\"versicolor_sepalWidthCm value = \",ortalamaBul(versicolor_sepalWidthCm))\n",
        "print(\"versicolor_sepalWidthCm value = \",max(versicolor_sepalWidthCm))\n",
        "print(\"versicolor_sepalWidthCm value = \",min(versicolor_sepalWidthCm))"
      ],
      "execution_count": 14,
      "outputs": [
        {
          "output_type": "stream",
          "text": [
            "versicolor_sepalWidthCm standart variance value =  0.3137983233784114\n",
            "versicolor_sepalWidthCm value =  2.7700000000000005\n",
            "versicolor_sepalWidthCm value =  3.4\n",
            "versicolor_sepalWidthCm value =  2.0\n"
          ],
          "name": "stdout"
        }
      ]
    },
    {
      "cell_type": "code",
      "metadata": {
        "colab": {
          "base_uri": "https://localhost:8080/"
        },
        "id": "EmaCEM5rKoRK",
        "outputId": "0ba363ff-7fac-45d1-836e-05d7bf36cb87"
      },
      "source": [
        "versicolor_petalLengthCm = versicolor[\"PetalLengthCm\"]\n",
        "print(\"versicolor_petalLengthCm standart variance value = \",std_list(versicolor_petalLengthCm))\n",
        "print(\"versicolor_petalLengthCm value = \",ortalamaBul(versicolor_petalLengthCm))\n",
        "print(\"versicolor_petalLengthCm value = \",max(versicolor_petalLengthCm))\n",
        "print(\"versicolor_petalLengthCm value = \",min(versicolor_petalLengthCm))"
      ],
      "execution_count": 15,
      "outputs": [
        {
          "output_type": "stream",
          "text": [
            "versicolor_petalLengthCm standart variance value =  0.46991097723995806\n",
            "versicolor_petalLengthCm value =  4.26\n",
            "versicolor_petalLengthCm value =  5.1\n",
            "versicolor_petalLengthCm value =  3.0\n"
          ],
          "name": "stdout"
        }
      ]
    },
    {
      "cell_type": "code",
      "metadata": {
        "colab": {
          "base_uri": "https://localhost:8080/"
        },
        "id": "V_rP8htOL84I",
        "outputId": "0dcda032-780a-4724-f2d8-646b2135cb5b"
      },
      "source": [
        "versicolor_petalWidthCm = versicolor[\"PetalWidthCm\"]\n",
        "print(\"versicolor_petalWidthCm standart variance value = \",std_list(versicolor_petalWidthCm))\n",
        "print(\"versicolor_petalWidthCm value = \",ortalamaBul(versicolor_petalWidthCm))\n",
        "print(\"versicolor_petalWidthCm value = \",max(versicolor_petalWidthCm))\n",
        "print(\"versicolor_petalWidthCm value = \",min(versicolor_petalWidthCm))"
      ],
      "execution_count": 16,
      "outputs": [
        {
          "output_type": "stream",
          "text": [
            "versicolor_petalWidthCm standart variance value =  0.197752680004544\n",
            "versicolor_petalWidthCm value =  1.3259999999999998\n",
            "versicolor_petalWidthCm value =  1.8\n",
            "versicolor_petalWidthCm value =  1.0\n"
          ],
          "name": "stdout"
        }
      ]
    },
    {
      "cell_type": "code",
      "metadata": {
        "colab": {
          "base_uri": "https://localhost:8080/"
        },
        "id": "5gBcatn1NGhZ",
        "outputId": "d7f7dda4-a05a-4a2d-e403-d388188e4300"
      },
      "source": [
        "print(versicolor.info())"
      ],
      "execution_count": 22,
      "outputs": [
        {
          "output_type": "stream",
          "text": [
            "<class 'pandas.core.frame.DataFrame'>\n",
            "Int64Index: 50 entries, 50 to 99\n",
            "Data columns (total 6 columns):\n",
            " #   Column         Non-Null Count  Dtype  \n",
            "---  ------         --------------  -----  \n",
            " 0   Id             50 non-null     int64  \n",
            " 1   SepalLengthCm  50 non-null     float64\n",
            " 2   SepalWidthCm   50 non-null     float64\n",
            " 3   PetalLengthCm  50 non-null     float64\n",
            " 4   PetalWidthCm   50 non-null     float64\n",
            " 5   Species        50 non-null     object \n",
            "dtypes: float64(4), int64(1), object(1)\n",
            "memory usage: 2.7+ KB\n",
            "None\n"
          ],
          "name": "stdout"
        }
      ]
    },
    {
      "cell_type": "markdown",
      "metadata": {
        "id": "ffTSAp3xwiMU"
      },
      "source": [
        "## VIRGINICA"
      ]
    },
    {
      "cell_type": "code",
      "metadata": {
        "id": "YgdxOU3kwlEw"
      },
      "source": [
        "virginica = df[df.Species == \"Iris-virginica\"]\n",
        "virginica_sepalLengthCm = virginica[\"SepalLengthCm\"]\n",
        "print(\"virginica_sepalLengthCm standart variance value = \",std_list(virginica_sepalLengthCm))\n",
        "print(\"virginica_sepalLengthCm value = \",ortalamaBul(virginica_sepalLengthCm))\n",
        "print(\"virginica_sepalLengthCm value = \",max(virginica_sepalLengthCm))\n",
        "print(\"virginica_sepalLengthCm value = \",min(virginica_sepalLengthCm))"
      ],
      "execution_count": null,
      "outputs": []
    },
    {
      "cell_type": "code",
      "metadata": {
        "id": "mcwJRo7h7pdT"
      },
      "source": [
        "virginica_sepalWidthCm = virginica[\"SepalWidthCm\"]\n",
        "print(\"virginica_sepalWidthCm standart variance value = \",std_list(virginica_sepalWidthCm))\n",
        "print(\"virginica_sepalWidthCm value = \",ortalamaBul(virginica_sepalWidthCm))\n",
        "print(\"virginica_sepalWidthCm value = \",max(virginica_sepalWidthCm))\n",
        "print(\"virginica_sepalWidthCm value = \",min(virginica_sepalWidthCm))"
      ],
      "execution_count": null,
      "outputs": []
    },
    {
      "cell_type": "code",
      "metadata": {
        "colab": {
          "base_uri": "https://localhost:8080/"
        },
        "id": "iQOtRtsL8KCN",
        "outputId": "34023ceb-ddbb-4774-b20e-14c8e50fd33d"
      },
      "source": [
        "virginica_petalLengthCm = virginica[\"PetalLengthCm\"]\n",
        "print(\"virginica_petalLengthCm standart variance value = \",std_list(virginica_petalLengthCm))\n",
        "print(\"virginica_petalLengthCmm value = \",ortalamaBul(virginica_petalLengthCm))\n",
        "print(\"virginica_petalLengthCm value = \",max(virginica_petalLengthCm))\n",
        "print(\"virginica_petalLengthCm value = \",min(virginica_petalLengthCm))"
      ],
      "execution_count": 44,
      "outputs": [
        {
          "output_type": "stream",
          "text": [
            "virginica_petalLengthCm standart variance value =  0.5518946956639835\n",
            "virginica_petalLengthCmm value =  5.552\n",
            "virginica_petalLengthCm value =  6.9\n",
            "virginica_petalLengthCm value =  4.5\n"
          ],
          "name": "stdout"
        }
      ]
    },
    {
      "cell_type": "code",
      "metadata": {
        "colab": {
          "base_uri": "https://localhost:8080/"
        },
        "id": "2RXGlVlXG1e_",
        "outputId": "f1290f26-b7dd-4c26-e32a-2365143e9af1"
      },
      "source": [
        "virginica_petalWidthCm = virginica[\"PetalWidthCm\"]\n",
        "print(\"virginica_petalWidthCm standart variance value = \",std_list(virginica_petalWidthCm))\n",
        "print(\"virginica_petalWidthCm value = \",ortalamaBul(virginica_petalWidthCm))\n",
        "print(\"virginica_petalWidthCm value = \",max(virginica_petalWidthCm))\n",
        "print(\"virginica_petalWidthCm value = \",min(virginica_petalWidthCm))"
      ],
      "execution_count": 46,
      "outputs": [
        {
          "output_type": "stream",
          "text": [
            "virginica_petalWidthCm standart variance value =  0.27465005563666733\n",
            "virginica_petalWidthCm value =  2.026\n",
            "virginica_petalWidthCm value =  2.5\n",
            "virginica_petalWidthCm value =  1.4\n"
          ],
          "name": "stdout"
        }
      ]
    },
    {
      "cell_type": "markdown",
      "metadata": {
        "id": "pzOXNJLAMW5T"
      },
      "source": [
        "## TEST WITH describe() METHOD "
      ]
    },
    {
      "cell_type": "code",
      "metadata": {
        "id": "U56dQ6HoMh5m"
      },
      "source": [
        "print(setosa.describe())\n",
        "print(versicolor.describe())\n",
        "print(virginica.describe())"
      ],
      "execution_count": null,
      "outputs": []
    },
    {
      "cell_type": "markdown",
      "metadata": {
        "id": "1OXR8luouBuC"
      },
      "source": [
        "## SETOSA - Histogram"
      ]
    },
    {
      "cell_type": "code",
      "metadata": {
        "colab": {
          "base_uri": "https://localhost:8080/",
          "height": 295
        },
        "id": "Ba-InFh_uI0V",
        "outputId": "8da879dd-41df-4c50-f418-49f0f8755895"
      },
      "source": [
        "plt.hist(setosa.SepalLengthCm,bins= 8)\n",
        "plt.xlabel(\"PetalLengthCm values\")\n",
        "plt.ylabel(\"frekans\")\n",
        "plt.title(\"hist\")\n",
        "plt.show()"
      ],
      "execution_count": 16,
      "outputs": [
        {
          "output_type": "display_data",
          "data": {
            "image/png": "[encoded data removed]",
            "text/plain": [
              "<Figure size 432x288 with 1 Axes>"
            ]
          },
          "metadata": {
            "tags": [],
            "needs_background": "light"
          }
        }
      ]
    },
    {
      "cell_type": "code",
      "metadata": {
        "colab": {
          "base_uri": "https://localhost:8080/",
          "height": 295
        },
        "id": "QDo7-tmOud_T",
        "outputId": "0a21976f-41d6-435d-cb1e-9c42b1385010"
      },
      "source": [
        "plt.hist(setosa.SepalWidthCm,bins= 8)\n",
        "plt.xlabel(\"SepalWidthCm values\")\n",
        "plt.ylabel(\"frekans\")\n",
        "plt.title(\"hist\")\n",
        "plt.show()"
      ],
      "execution_count": 20,
      "outputs": [
        {
          "output_type": "display_data",
          "data": {
            "image/png": "[encoded data removed]",
            "text/plain": [
              "<Figure size 432x288 with 1 Axes>"
            ]
          },
          "metadata": {
            "tags": [],
            "needs_background": "light"
          }
        }
      ]
    },
    {
      "cell_type": "code",
      "metadata": {
        "colab": {
          "base_uri": "https://localhost:8080/",
          "height": 295
        },
        "id": "Ww1AwSlbuxHp",
        "outputId": "4900d4af-3562-4824-8be2-6eb5eb043d01"
      },
      "source": [
        "plt.hist(setosa.PetalLengthCm,bins= 8)\n",
        "plt.xlabel(\"PetalLengthCm values\")\n",
        "plt.ylabel(\"frekans\")\n",
        "plt.title(\"hist\")\n",
        "plt.show()"
      ],
      "execution_count": 22,
      "outputs": [
        {
          "output_type": "display_data",
          "data": {
            "image/png": "[encoded data removed]",
            "text/plain": [
              "<Figure size 432x288 with 1 Axes>"
            ]
          },
          "metadata": {
            "tags": [],
            "needs_background": "light"
          }
        }
      ]
    },
    {
      "cell_type": "code",
      "metadata": {
        "colab": {
          "base_uri": "https://localhost:8080/",
          "height": 295
        },
        "id": "2iI7Dgsdu-9z",
        "outputId": "7cb95284-6622-4d83-863b-a7c57f7d4482"
      },
      "source": [
        "plt.hist(setosa.PetalWidthCm,bins= 8)\n",
        "plt.xlabel(\"PetalWidthCm values\")\n",
        "plt.ylabel(\"frekans\")\n",
        "plt.title(\"hist\")\n",
        "plt.show()"
      ],
      "execution_count": 21,
      "outputs": [
        {
          "output_type": "display_data",
          "data": {
            "image/png": "[encoded data removed]",
            "text/plain": [
              "<Figure size 432x288 with 1 Axes>"
            ]
          },
          "metadata": {
            "tags": [],
            "needs_background": "light"
          }
        }
      ]
    },
    {
      "cell_type": "markdown",
      "metadata": {
        "id": "vkF4JNk4vKw5"
      },
      "source": [
        "## VERSİCOLOR - Histogram"
      ]
    },
    {
      "cell_type": "code",
      "metadata": {
        "colab": {
          "base_uri": "https://localhost:8080/",
          "height": 295
        },
        "id": "hqV8AH5ovOoL",
        "outputId": "4317cfae-fa54-4b3d-a1f6-24350a46821a"
      },
      "source": [
        "plt.hist(versicolor.SepalLengthCm,bins= 8)\n",
        "plt.xlabel(\"SepalLengthCm values\")\n",
        "plt.ylabel(\"frekans\")\n",
        "plt.title(\"hist\")\n",
        "plt.show()"
      ],
      "execution_count": 25,
      "outputs": [
        {
          "output_type": "display_data",
          "data": {
            "image/png": "[encoded data removed]",
            "text/plain": [
              "<Figure size 432x288 with 1 Axes>"
            ]
          },
          "metadata": {
            "tags": [],
            "needs_background": "light"
          }
        }
      ]
    },
    {
      "cell_type": "code",
      "metadata": {
        "colab": {
          "base_uri": "https://localhost:8080/",
          "height": 295
        },
        "id": "v5fw9TNuvZdO",
        "outputId": "e8079813-4d93-4d02-9b48-b69e0b81f41f"
      },
      "source": [
        "plt.hist(versicolor.SepalWidthCm,bins= 8)\n",
        "plt.xlabel(\"SepalWidthCm values\")\n",
        "plt.ylabel(\"frekans\")\n",
        "plt.title(\"hist\")\n",
        "plt.show()"
      ],
      "execution_count": 26,
      "outputs": [
        {
          "output_type": "display_data",
          "data": {
            "image/png": "[encoded data removed]",
            "text/plain": [
              "<Figure size 432x288 with 1 Axes>"
            ]
          },
          "metadata": {
            "tags": [],
            "needs_background": "light"
          }
        }
      ]
    },
    {
      "cell_type": "code",
      "metadata": {
        "colab": {
          "base_uri": "https://localhost:8080/",
          "height": 295
        },
        "id": "VYsNw9I6vdlR",
        "outputId": "83688808-5cff-4426-829a-9422be585161"
      },
      "source": [
        "plt.hist(versicolor.PetalLengthCm,bins= 8)\n",
        "plt.xlabel(\"PetalLengthCm values\")\n",
        "plt.ylabel(\"frekans\")\n",
        "plt.title(\"hist\")\n",
        "plt.show()"
      ],
      "execution_count": 27,
      "outputs": [
        {
          "output_type": "display_data",
          "data": {
            "image/png": "[encoded data removed]",
            "text/plain": [
              "<Figure size 432x288 with 1 Axes>"
            ]
          },
          "metadata": {
            "tags": [],
            "needs_background": "light"
          }
        }
      ]
    },
    {
      "cell_type": "code",
      "metadata": {
        "colab": {
          "base_uri": "https://localhost:8080/",
          "height": 295
        },
        "id": "5FZ7qbnrvkUZ",
        "outputId": "17ba1a25-04b9-4b30-e6ae-c985cfce188f"
      },
      "source": [
        "plt.hist(versicolor.PetalWidthCm,bins= 8)\n",
        "plt.xlabel(\"PetalWidthCm values\")\n",
        "plt.ylabel(\"frekans\")\n",
        "plt.title(\"hist\")\n",
        "plt.show()"
      ],
      "execution_count": 28,
      "outputs": [
        {
          "output_type": "display_data",
          "data": {
            "image/png": "[encoded data removed]",
            "text/plain": [
              "<Figure size 432x288 with 1 Axes>"
            ]
          },
          "metadata": {
            "tags": [],
            "needs_background": "light"
          }
        }
      ]
    },
    {
      "cell_type": "markdown",
      "metadata": {
        "id": "itO39ZQxHFwW"
      },
      "source": [
        "## VIRGINICA Histogram"
      ]
    },
    {
      "cell_type": "code",
      "metadata": {
        "id": "Zev9CZ8AHJmw"
      },
      "source": [
        "plt.hist(virginica.SepalLengthCm,bins= 8)\n",
        "plt.xlabel(\"SepalLengthCm values\")\n",
        "plt.ylabel(\"frekans\")\n",
        "plt.title(\"hist\")\n",
        "plt.show()"
      ],
      "execution_count": null,
      "outputs": []
    },
    {
      "cell_type": "code",
      "metadata": {
        "id": "QmSL1MsQHcob"
      },
      "source": [
        "plt.hist(virginica.SepalWidthCm,bins= 8)\n",
        "plt.xlabel(\"SepalWidthCm values\")\n",
        "plt.ylabel(\"frekans\")\n",
        "plt.title(\"hist\")\n",
        "plt.show()"
      ],
      "execution_count": null,
      "outputs": []
    },
    {
      "cell_type": "code",
      "metadata": {
        "id": "fAdsC_XWH6T8"
      },
      "source": [
        "plt.hist(virginica.PetalLengthCm,bins= 8)\n",
        "plt.xlabel(\"PetalLengthCm values\")\n",
        "plt.ylabel(\"frekans\")\n",
        "plt.title(\"hist\")\n",
        "plt.show()"
      ],
      "execution_count": null,
      "outputs": []
    },
    {
      "cell_type": "code",
      "metadata": {
        "id": "SUNJwVQrH-ge"
      },
      "source": [
        "plt.hist(virginica.PetalWidthCm,bins= 8)\n",
        "plt.xlabel(\"PetalWidthCm values\")\n",
        "plt.ylabel(\"frekans\")\n",
        "plt.title(\"hist\")\n",
        "plt.show()"
      ],
      "execution_count": null,
      "outputs": []
    },
    {
      "cell_type": "markdown",
      "metadata": {
        "id": "7PstwXnewHpK"
      },
      "source": [
        "##Scatter Plot"
      ]
    },
    {
      "cell_type": "code",
      "metadata": {
        "id": "Mb8FwVVLwMVO"
      },
      "source": [
        "setosa = df[df.Species == \"Iris-setosa\"]\n",
        "versicolor = df[df.Species == \"Iris-versicolor\"]\n",
        "virginica = df[df.Species == \"Iris-virginica\"]\n",
        "\n",
        "\n",
        "plt.scatter(setosa.PetalLengthCm,setosa.PetalWidthCm,color=\"red\",label=\"setosa\")\n",
        "plt.scatter(versicolor.PetalLengthCm,versicolor.PetalWidthCm,color=\"green\",label=\"versicolor\")\n",
        "plt.scatter(virginica.PetalLengthCm,virginica.PetalWidthCm,color=\"blue\",label=\"virginica\")\n",
        "plt.legend()\n",
        "plt.xlabel(\"PetalLengthCm\")\n",
        "plt.ylabel(\"PetalWidthCm\")\n",
        "plt.title(\"scatter plot\")\n",
        "plt.show()"
      ],
      "execution_count": null,
      "outputs": []
    },
    {
      "cell_type": "code",
      "metadata": {
        "id": "VGkHh2GyINDS"
      },
      "source": [
        "setosa = df[df.Species == \"Iris-setosa\"]\n",
        "versicolor = df[df.Species == \"Iris-versicolor\"]\n",
        "virginica = df[df.Species == \"Iris-virginica\"]\n",
        "\n",
        "\n",
        "plt.scatter(setosa.SepalLengthCm,setosa.SepalWidthCm,color=\"red\",label=\"setosa\")\n",
        "plt.scatter(versicolor.SepalLengthCm,versicolor.SepalWidthCm,color=\"green\",label=\"versicolor\")\n",
        "plt.scatter(virginica.SepalLengthCm,virginica.SepalWidthCm,color=\"blue\",label=\"virginica\")\n",
        "plt.legend()\n",
        "plt.xlabel(\"PetalLengthCm\")\n",
        "plt.ylabel(\"PetalWidthCm\")\n",
        "plt.title(\"scatter plot\")\n",
        "plt.show()"
      ],
      "execution_count": null,
      "outputs": []
    },
    {
      "cell_type": "markdown",
      "metadata": {
        "id": "ixfDEByWJ-Mz"
      },
      "source": [
        "## Box Plot"
      ]
    },
    {
      "cell_type": "code",
      "metadata": {
        "colab": {
          "base_uri": "https://localhost:8080/",
          "height": 547
        },
        "id": "YprKDY_SIwbx",
        "outputId": "76d287d5-540b-4bc6-c4de-f6ba11dd68d7"
      },
      "source": [
        "new_data = df[[\"SepalLengthCm\", \"SepalWidthCm\", \"PetalLengthCm\", \"PetalWidthCm\"]]\n",
        "print(new_data.head())\n",
        "\n",
        "plt.figure(figsize = (10, 7))\n",
        "new_data.boxplot()"
      ],
      "execution_count": 60,
      "outputs": [
        {
          "output_type": "stream",
          "text": [
            "   SepalLengthCm  SepalWidthCm  PetalLengthCm  PetalWidthCm\n",
            "0            5.1           3.5            1.4           0.2\n",
            "1            4.9           3.0            1.4           0.2\n",
            "2            4.7           3.2            1.3           0.2\n",
            "3            4.6           3.1            1.5           0.2\n",
            "4            5.0           3.6            1.4           0.2\n"
          ],
          "name": "stdout"
        },
        {
          "output_type": "execute_result",
          "data": {
            "text/plain": [
              "<matplotlib.axes._subplots.AxesSubplot at 0x7f7a9b16d710>"
            ]
          },
          "metadata": {
            "tags": []
          },
          "execution_count": 60
        },
        {
          "output_type": "display_data",
          "data": {
            "image/png": "[encoded data removed]",
            "text/plain": [
              "<Figure size 720x504 with 1 Axes>"
            ]
          },
          "metadata": {
            "tags": [],
            "needs_background": "light"
          }
        }
      ]
    },
    {
      "cell_type": "markdown",
      "metadata": {
        "id": "z3nIju6KLaUN"
      },
      "source": [
        "## Parallel Coordinates"
      ]
    },
    {
      "cell_type": "code",
      "metadata": {
        "colab": {
          "base_uri": "https://localhost:8080/",
          "height": 542
        },
        "id": "K1B3OvWxKZBs",
        "outputId": "0273ab1f-b212-4640-cdc0-2940c4ae664b"
      },
      "source": [
        "import plotly.express as px\n",
        "df = px.data.iris()\n",
        "fig = px.parallel_coordinates(df, color=\"species_id\", labels={\"species_id\": \"Species\",\n",
        "                \"sepal_width\": \"Sepal Width\", \"sepal_length\": \"Sepal Length\",\n",
        "                \"petal_width\": \"Petal Width\", \"petal_length\": \"Petal Length\",},\n",
        "                             color_continuous_scale=px.colors.diverging.Tealrose,\n",
        "                             color_continuous_midpoint=2)\n",
        "fig.show()"
      ],
      "execution_count": 78,
      "outputs": [
        {
          "output_type": "display_data",
          "data": {
            "text/html": [
              "<html>\n",
              "<head><meta charset=\"utf-8\" /></head>\n",
              "<body>\n",
              "    <div>\n",
              "            <script src=\"https://cdnjs.cloudflare.com/ajax/libs/mathjax/2.7.5/MathJax.js?config=TeX-AMS-MML_SVG\"></script><script type=\"text/javascript\">if (window.MathJax) {MathJax.Hub.Config({SVG: {font: \"STIX-Web\"}});}</script>\n",
              "                <script type=\"text/javascript\">window.PlotlyConfig = {MathJaxConfig: 'local'};</script>\n",
              "        <script src=\"https://cdn.plot.ly/plotly-latest.min.js\"></script>    \n",
              "            <div id=\"7f776b63-f0b2-4353-b810-72d2fc31f881\" class=\"plotly-graph-div\" style=\"height:525px; width:100%;\"></div>\n",
              "            <script type=\"text/javascript\">\n",
              "                \n",
              "                    window.PLOTLYENV=window.PLOTLYENV || {};\n",
              "                    \n",
              "                if (document.getElementById(\"7f776b63-f0b2-4353-b810-72d2fc31f881\")) {\n",
              "                    Plotly.newPlot(\n",
              "                        '7f776b63-f0b2-4353-b810-72d2fc31f881',\n",
              "                        [{\"dimensions\": [{\"label\": \"Sepal Length\", \"values\": [5.1, 4.9, 4.7, 4.6, 5.0, 5.4, 4.6, 5.0, 4.4, 4.9, 5.4, 4.8, 4.8, 4.3, 5.8, 5.7, 5.4, 5.1, 5.7, 5.1, 5.4, 5.1, 4.6, 5.1, 4.8, 5.0, 5.0, 5.2, 5.2, 4.7, 4.8, 5.4, 5.2, 5.5, 4.9, 5.0, 5.5, 4.9, 4.4, 5.1, 5.0, 4.5, 4.4, 5.0, 5.1, 4.8, 5.1, 4.6, 5.3, 5.0, 7.0, 6.4, 6.9, 5.5, 6.5, 5.7, 6.3, 4.9, 6.6, 5.2, 5.0, 5.9, 6.0, 6.1, 5.6, 6.7, 5.6, 5.8, 6.2, 5.6, 5.9, 6.1, 6.3, 6.1, 6.4, 6.6, 6.8, 6.7, 6.0, 5.7, 5.5, 5.5, 5.8, 6.0, 5.4, 6.0, 6.7, 6.3, 5.6, 5.5, 5.5, 6.1, 5.8, 5.0, 5.6, 5.7, 5.7, 6.2, 5.1, 5.7, 6.3, 5.8, 7.1, 6.3, 6.5, 7.6, 4.9, 7.3, 6.7, 7.2, 6.5, 6.4, 6.8, 5.7, 5.8, 6.4, 6.5, 7.7, 7.7, 6.0, 6.9, 5.6, 7.7, 6.3, 6.7, 7.2, 6.2, 6.1, 6.4, 7.2, 7.4, 7.9, 6.4, 6.3, 6.1, 7.7, 6.3, 6.4, 6.0, 6.9, 6.7, 6.9, 5.8, 6.8, 6.7, 6.7, 6.3, 6.5, 6.2, 5.9]}, {\"label\": \"Sepal Width\", \"values\": [3.5, 3.0, 3.2, 3.1, 3.6, 3.9, 3.4, 3.4, 2.9, 3.1, 3.7, 3.4, 3.0, 3.0, 4.0, 4.4, 3.9, 3.5, 3.8, 3.8, 3.4, 3.7, 3.6, 3.3, 3.4, 3.0, 3.4, 3.5, 3.4, 3.2, 3.1, 3.4, 4.1, 4.2, 3.1, 3.2, 3.5, 3.1, 3.0, 3.4, 3.5, 2.3, 3.2, 3.5, 3.8, 3.0, 3.8, 3.2, 3.7, 3.3, 3.2, 3.2, 3.1, 2.3, 2.8, 2.8, 3.3, 2.4, 2.9, 2.7, 2.0, 3.0, 2.2, 2.9, 2.9, 3.1, 3.0, 2.7, 2.2, 2.5, 3.2, 2.8, 2.5, 2.8, 2.9, 3.0, 2.8, 3.0, 2.9, 2.6, 2.4, 2.4, 2.7, 2.7, 3.0, 3.4, 3.1, 2.3, 3.0, 2.5, 2.6, 3.0, 2.6, 2.3, 2.7, 3.0, 2.9, 2.9, 2.5, 2.8, 3.3, 2.7, 3.0, 2.9, 3.0, 3.0, 2.5, 2.9, 2.5, 3.6, 3.2, 2.7, 3.0, 2.5, 2.8, 3.2, 3.0, 3.8, 2.6, 2.2, 3.2, 2.8, 2.8, 2.7, 3.3, 3.2, 2.8, 3.0, 2.8, 3.0, 2.8, 3.8, 2.8, 2.8, 2.6, 3.0, 3.4, 3.1, 3.0, 3.1, 3.1, 3.1, 2.7, 3.2, 3.3, 3.0, 2.5, 3.0, 3.4, 3.0]}, {\"label\": \"Petal Length\", \"values\": [1.4, 1.4, 1.3, 1.5, 1.4, 1.7, 1.4, 1.5, 1.4, 1.5, 1.5, 1.6, 1.4, 1.1, 1.2, 1.5, 1.3, 1.4, 1.7, 1.5, 1.7, 1.5, 1.0, 1.7, 1.9, 1.6, 1.6, 1.5, 1.4, 1.6, 1.6, 1.5, 1.5, 1.4, 1.5, 1.2, 1.3, 1.5, 1.3, 1.5, 1.3, 1.3, 1.3, 1.6, 1.9, 1.4, 1.6, 1.4, 1.5, 1.4, 4.7, 4.5, 4.9, 4.0, 4.6, 4.5, 4.7, 3.3, 4.6, 3.9, 3.5, 4.2, 4.0, 4.7, 3.6, 4.4, 4.5, 4.1, 4.5, 3.9, 4.8, 4.0, 4.9, 4.7, 4.3, 4.4, 4.8, 5.0, 4.5, 3.5, 3.8, 3.7, 3.9, 5.1, 4.5, 4.5, 4.7, 4.4, 4.1, 4.0, 4.4, 4.6, 4.0, 3.3, 4.2, 4.2, 4.2, 4.3, 3.0, 4.1, 6.0, 5.1, 5.9, 5.6, 5.8, 6.6, 4.5, 6.3, 5.8, 6.1, 5.1, 5.3, 5.5, 5.0, 5.1, 5.3, 5.5, 6.7, 6.9, 5.0, 5.7, 4.9, 6.7, 4.9, 5.7, 6.0, 4.8, 4.9, 5.6, 5.8, 6.1, 6.4, 5.6, 5.1, 5.6, 6.1, 5.6, 5.5, 4.8, 5.4, 5.6, 5.1, 5.1, 5.9, 5.7, 5.2, 5.0, 5.2, 5.4, 5.1]}, {\"label\": \"Petal Width\", \"values\": [0.2, 0.2, 0.2, 0.2, 0.2, 0.4, 0.3, 0.2, 0.2, 0.1, 0.2, 0.2, 0.1, 0.1, 0.2, 0.4, 0.4, 0.3, 0.3, 0.3, 0.2, 0.4, 0.2, 0.5, 0.2, 0.2, 0.4, 0.2, 0.2, 0.2, 0.2, 0.4, 0.1, 0.2, 0.1, 0.2, 0.2, 0.1, 0.2, 0.2, 0.3, 0.3, 0.2, 0.6, 0.4, 0.3, 0.2, 0.2, 0.2, 0.2, 1.4, 1.5, 1.5, 1.3, 1.5, 1.3, 1.6, 1.0, 1.3, 1.4, 1.0, 1.5, 1.0, 1.4, 1.3, 1.4, 1.5, 1.0, 1.5, 1.1, 1.8, 1.3, 1.5, 1.2, 1.3, 1.4, 1.4, 1.7, 1.5, 1.0, 1.1, 1.0, 1.2, 1.6, 1.5, 1.6, 1.5, 1.3, 1.3, 1.3, 1.2, 1.4, 1.2, 1.0, 1.3, 1.2, 1.3, 1.3, 1.1, 1.3, 2.5, 1.9, 2.1, 1.8, 2.2, 2.1, 1.7, 1.8, 1.8, 2.5, 2.0, 1.9, 2.1, 2.0, 2.4, 2.3, 1.8, 2.2, 2.3, 1.5, 2.3, 2.0, 2.0, 1.8, 2.1, 1.8, 1.8, 1.8, 2.1, 1.6, 1.9, 2.0, 2.2, 1.5, 1.4, 2.3, 2.4, 1.8, 1.8, 2.1, 2.4, 2.3, 1.9, 2.3, 2.5, 2.3, 1.9, 2.0, 2.3, 1.8]}, {\"label\": \"Species\", \"values\": [1, 1, 1, 1, 1, 1, 1, 1, 1, 1, 1, 1, 1, 1, 1, 1, 1, 1, 1, 1, 1, 1, 1, 1, 1, 1, 1, 1, 1, 1, 1, 1, 1, 1, 1, 1, 1, 1, 1, 1, 1, 1, 1, 1, 1, 1, 1, 1, 1, 1, 2, 2, 2, 2, 2, 2, 2, 2, 2, 2, 2, 2, 2, 2, 2, 2, 2, 2, 2, 2, 2, 2, 2, 2, 2, 2, 2, 2, 2, 2, 2, 2, 2, 2, 2, 2, 2, 2, 2, 2, 2, 2, 2, 2, 2, 2, 2, 2, 2, 2, 3, 3, 3, 3, 3, 3, 3, 3, 3, 3, 3, 3, 3, 3, 3, 3, 3, 3, 3, 3, 3, 3, 3, 3, 3, 3, 3, 3, 3, 3, 3, 3, 3, 3, 3, 3, 3, 3, 3, 3, 3, 3, 3, 3, 3, 3, 3, 3, 3, 3]}], \"domain\": {\"x\": [0.0, 1.0], \"y\": [0.0, 1.0]}, \"line\": {\"color\": [1, 1, 1, 1, 1, 1, 1, 1, 1, 1, 1, 1, 1, 1, 1, 1, 1, 1, 1, 1, 1, 1, 1, 1, 1, 1, 1, 1, 1, 1, 1, 1, 1, 1, 1, 1, 1, 1, 1, 1, 1, 1, 1, 1, 1, 1, 1, 1, 1, 1, 2, 2, 2, 2, 2, 2, 2, 2, 2, 2, 2, 2, 2, 2, 2, 2, 2, 2, 2, 2, 2, 2, 2, 2, 2, 2, 2, 2, 2, 2, 2, 2, 2, 2, 2, 2, 2, 2, 2, 2, 2, 2, 2, 2, 2, 2, 2, 2, 2, 2, 3, 3, 3, 3, 3, 3, 3, 3, 3, 3, 3, 3, 3, 3, 3, 3, 3, 3, 3, 3, 3, 3, 3, 3, 3, 3, 3, 3, 3, 3, 3, 3, 3, 3, 3, 3, 3, 3, 3, 3, 3, 3, 3, 3, 3, 3, 3, 3, 3, 3], \"coloraxis\": \"coloraxis\"}, \"name\": \"\", \"type\": \"parcoords\"}],\n",
              "                        {\"coloraxis\": {\"cmid\": 2, \"colorbar\": {\"title\": {\"text\": \"Species\"}}, \"colorscale\": [[0.0, \"rgb(0, 147, 146)\"], [0.16666666666666666, \"rgb(114, 170, 161)\"], [0.3333333333333333, \"rgb(177, 199, 179)\"], [0.5, \"rgb(241, 234, 200)\"], [0.6666666666666666, \"rgb(229, 185, 173)\"], [0.8333333333333334, \"rgb(217, 137, 148)\"], [1.0, \"rgb(208, 88, 126)\"]]}, \"legend\": {\"tracegroupgap\": 0}, \"margin\": {\"t\": 60}, \"template\": {\"data\": {\"bar\": [{\"error_x\": {\"color\": \"#2a3f5f\"}, \"error_y\": {\"color\": \"#2a3f5f\"}, \"marker\": {\"line\": {\"color\": \"#E5ECF6\", \"width\": 0.5}}, \"type\": \"bar\"}], \"barpolar\": [{\"marker\": {\"line\": {\"color\": \"#E5ECF6\", \"width\": 0.5}}, \"type\": \"barpolar\"}], \"carpet\": [{\"aaxis\": {\"endlinecolor\": \"#2a3f5f\", \"gridcolor\": \"white\", \"linecolor\": \"white\", \"minorgridcolor\": \"white\", \"startlinecolor\": \"#2a3f5f\"}, \"baxis\": {\"endlinecolor\": \"#2a3f5f\", \"gridcolor\": \"white\", \"linecolor\": \"white\", \"minorgridcolor\": \"white\", \"startlinecolor\": \"#2a3f5f\"}, \"type\": \"carpet\"}], \"choropleth\": [{\"colorbar\": {\"outlinewidth\": 0, \"ticks\": \"\"}, \"type\": \"choropleth\"}], \"contour\": [{\"colorbar\": {\"outlinewidth\": 0, \"ticks\": \"\"}, \"colorscale\": [[0.0, \"#0d0887\"], [0.1111111111111111, \"#46039f\"], [0.2222222222222222, \"#7201a8\"], [0.3333333333333333, \"#9c179e\"], [0.4444444444444444, \"#bd3786\"], [0.5555555555555556, \"#d8576b\"], [0.6666666666666666, \"#ed7953\"], [0.7777777777777778, \"#fb9f3a\"], [0.8888888888888888, \"#fdca26\"], [1.0, \"#f0f921\"]], \"type\": \"contour\"}], \"contourcarpet\": [{\"colorbar\": {\"outlinewidth\": 0, \"ticks\": \"\"}, \"type\": \"contourcarpet\"}], \"heatmap\": [{\"colorbar\": {\"outlinewidth\": 0, \"ticks\": \"\"}, \"colorscale\": [[0.0, \"#0d0887\"], [0.1111111111111111, \"#46039f\"], [0.2222222222222222, \"#7201a8\"], [0.3333333333333333, \"#9c179e\"], [0.4444444444444444, \"#bd3786\"], [0.5555555555555556, \"#d8576b\"], [0.6666666666666666, \"#ed7953\"], [0.7777777777777778, \"#fb9f3a\"], [0.8888888888888888, \"#fdca26\"], [1.0, \"#f0f921\"]], \"type\": \"heatmap\"}], \"heatmapgl\": [{\"colorbar\": {\"outlinewidth\": 0, \"ticks\": \"\"}, \"colorscale\": [[0.0, \"#0d0887\"], [0.1111111111111111, \"#46039f\"], [0.2222222222222222, \"#7201a8\"], [0.3333333333333333, \"#9c179e\"], [0.4444444444444444, \"#bd3786\"], [0.5555555555555556, \"#d8576b\"], [0.6666666666666666, \"#ed7953\"], [0.7777777777777778, \"#fb9f3a\"], [0.8888888888888888, \"#fdca26\"], [1.0, \"#f0f921\"]], \"type\": \"heatmapgl\"}], \"histogram\": [{\"marker\": {\"colorbar\": {\"outlinewidth\": 0, \"ticks\": \"\"}}, \"type\": \"histogram\"}], \"histogram2d\": [{\"colorbar\": {\"outlinewidth\": 0, \"ticks\": \"\"}, \"colorscale\": [[0.0, \"#0d0887\"], [0.1111111111111111, \"#46039f\"], [0.2222222222222222, \"#7201a8\"], [0.3333333333333333, \"#9c179e\"], [0.4444444444444444, \"#bd3786\"], [0.5555555555555556, \"#d8576b\"], [0.6666666666666666, \"#ed7953\"], [0.7777777777777778, \"#fb9f3a\"], [0.8888888888888888, \"#fdca26\"], [1.0, \"#f0f921\"]], \"type\": \"histogram2d\"}], \"histogram2dcontour\": [{\"colorbar\": {\"outlinewidth\": 0, \"ticks\": \"\"}, \"colorscale\": [[0.0, \"#0d0887\"], [0.1111111111111111, \"#46039f\"], [0.2222222222222222, \"#7201a8\"], [0.3333333333333333, \"#9c179e\"], [0.4444444444444444, \"#bd3786\"], [0.5555555555555556, \"#d8576b\"], [0.6666666666666666, \"#ed7953\"], [0.7777777777777778, \"#fb9f3a\"], [0.8888888888888888, \"#fdca26\"], [1.0, \"#f0f921\"]], \"type\": \"histogram2dcontour\"}], \"mesh3d\": [{\"colorbar\": {\"outlinewidth\": 0, \"ticks\": \"\"}, \"type\": \"mesh3d\"}], \"parcoords\": [{\"line\": {\"colorbar\": {\"outlinewidth\": 0, \"ticks\": \"\"}}, \"type\": \"parcoords\"}], \"pie\": [{\"automargin\": true, \"type\": \"pie\"}], \"scatter\": [{\"marker\": {\"colorbar\": {\"outlinewidth\": 0, \"ticks\": \"\"}}, \"type\": \"scatter\"}], \"scatter3d\": [{\"line\": {\"colorbar\": {\"outlinewidth\": 0, \"ticks\": \"\"}}, \"marker\": {\"colorbar\": {\"outlinewidth\": 0, \"ticks\": \"\"}}, \"type\": \"scatter3d\"}], \"scattercarpet\": [{\"marker\": {\"colorbar\": {\"outlinewidth\": 0, \"ticks\": \"\"}}, \"type\": \"scattercarpet\"}], \"scattergeo\": [{\"marker\": {\"colorbar\": {\"outlinewidth\": 0, \"ticks\": \"\"}}, \"type\": \"scattergeo\"}], \"scattergl\": [{\"marker\": {\"colorbar\": {\"outlinewidth\": 0, \"ticks\": \"\"}}, \"type\": \"scattergl\"}], \"scattermapbox\": [{\"marker\": {\"colorbar\": {\"outlinewidth\": 0, \"ticks\": \"\"}}, \"type\": \"scattermapbox\"}], \"scatterpolar\": [{\"marker\": {\"colorbar\": {\"outlinewidth\": 0, \"ticks\": \"\"}}, \"type\": \"scatterpolar\"}], \"scatterpolargl\": [{\"marker\": {\"colorbar\": {\"outlinewidth\": 0, \"ticks\": \"\"}}, \"type\": \"scatterpolargl\"}], \"scatterternary\": [{\"marker\": {\"colorbar\": {\"outlinewidth\": 0, \"ticks\": \"\"}}, \"type\": \"scatterternary\"}], \"surface\": [{\"colorbar\": {\"outlinewidth\": 0, \"ticks\": \"\"}, \"colorscale\": [[0.0, \"#0d0887\"], [0.1111111111111111, \"#46039f\"], [0.2222222222222222, \"#7201a8\"], [0.3333333333333333, \"#9c179e\"], [0.4444444444444444, \"#bd3786\"], [0.5555555555555556, \"#d8576b\"], [0.6666666666666666, \"#ed7953\"], [0.7777777777777778, \"#fb9f3a\"], [0.8888888888888888, \"#fdca26\"], [1.0, \"#f0f921\"]], \"type\": \"surface\"}], \"table\": [{\"cells\": {\"fill\": {\"color\": \"#EBF0F8\"}, \"line\": {\"color\": \"white\"}}, \"header\": {\"fill\": {\"color\": \"#C8D4E3\"}, \"line\": {\"color\": \"white\"}}, \"type\": \"table\"}]}, \"layout\": {\"annotationdefaults\": {\"arrowcolor\": \"#2a3f5f\", \"arrowhead\": 0, \"arrowwidth\": 1}, \"coloraxis\": {\"colorbar\": {\"outlinewidth\": 0, \"ticks\": \"\"}}, \"colorscale\": {\"diverging\": [[0, \"#8e0152\"], [0.1, \"#c51b7d\"], [0.2, \"#de77ae\"], [0.3, \"#f1b6da\"], [0.4, \"#fde0ef\"], [0.5, \"#f7f7f7\"], [0.6, \"#e6f5d0\"], [0.7, \"#b8e186\"], [0.8, \"#7fbc41\"], [0.9, \"#4d9221\"], [1, \"#276419\"]], \"sequential\": [[0.0, \"#0d0887\"], [0.1111111111111111, \"#46039f\"], [0.2222222222222222, \"#7201a8\"], [0.3333333333333333, \"#9c179e\"], [0.4444444444444444, \"#bd3786\"], [0.5555555555555556, \"#d8576b\"], [0.6666666666666666, \"#ed7953\"], [0.7777777777777778, \"#fb9f3a\"], [0.8888888888888888, \"#fdca26\"], [1.0, \"#f0f921\"]], \"sequentialminus\": [[0.0, \"#0d0887\"], [0.1111111111111111, \"#46039f\"], [0.2222222222222222, \"#7201a8\"], [0.3333333333333333, \"#9c179e\"], [0.4444444444444444, \"#bd3786\"], [0.5555555555555556, \"#d8576b\"], [0.6666666666666666, \"#ed7953\"], [0.7777777777777778, \"#fb9f3a\"], [0.8888888888888888, \"#fdca26\"], [1.0, \"#f0f921\"]]}, \"colorway\": [\"#636efa\", \"#EF553B\", \"#00cc96\", \"#ab63fa\", \"#FFA15A\", \"#19d3f3\", \"#FF6692\", \"#B6E880\", \"#FF97FF\", \"#FECB52\"], \"font\": {\"color\": \"#2a3f5f\"}, \"geo\": {\"bgcolor\": \"white\", \"lakecolor\": \"white\", \"landcolor\": \"#E5ECF6\", \"showlakes\": true, \"showland\": true, \"subunitcolor\": \"white\"}, \"hoverlabel\": {\"align\": \"left\"}, \"hovermode\": \"closest\", \"mapbox\": {\"style\": \"light\"}, \"paper_bgcolor\": \"white\", \"plot_bgcolor\": \"#E5ECF6\", \"polar\": {\"angularaxis\": {\"gridcolor\": \"white\", \"linecolor\": \"white\", \"ticks\": \"\"}, \"bgcolor\": \"#E5ECF6\", \"radialaxis\": {\"gridcolor\": \"white\", \"linecolor\": \"white\", \"ticks\": \"\"}}, \"scene\": {\"xaxis\": {\"backgroundcolor\": \"#E5ECF6\", \"gridcolor\": \"white\", \"gridwidth\": 2, \"linecolor\": \"white\", \"showbackground\": true, \"ticks\": \"\", \"zerolinecolor\": \"white\"}, \"yaxis\": {\"backgroundcolor\": \"#E5ECF6\", \"gridcolor\": \"white\", \"gridwidth\": 2, \"linecolor\": \"white\", \"showbackground\": true, \"ticks\": \"\", \"zerolinecolor\": \"white\"}, \"zaxis\": {\"backgroundcolor\": \"#E5ECF6\", \"gridcolor\": \"white\", \"gridwidth\": 2, \"linecolor\": \"white\", \"showbackground\": true, \"ticks\": \"\", \"zerolinecolor\": \"white\"}}, \"shapedefaults\": {\"line\": {\"color\": \"#2a3f5f\"}}, \"ternary\": {\"aaxis\": {\"gridcolor\": \"white\", \"linecolor\": \"white\", \"ticks\": \"\"}, \"baxis\": {\"gridcolor\": \"white\", \"linecolor\": \"white\", \"ticks\": \"\"}, \"bgcolor\": \"#E5ECF6\", \"caxis\": {\"gridcolor\": \"white\", \"linecolor\": \"white\", \"ticks\": \"\"}}, \"title\": {\"x\": 0.05}, \"xaxis\": {\"automargin\": true, \"gridcolor\": \"white\", \"linecolor\": \"white\", \"ticks\": \"\", \"title\": {\"standoff\": 15}, \"zerolinecolor\": \"white\", \"zerolinewidth\": 2}, \"yaxis\": {\"automargin\": true, \"gridcolor\": \"white\", \"linecolor\": \"white\", \"ticks\": \"\", \"title\": {\"standoff\": 15}, \"zerolinecolor\": \"white\", \"zerolinewidth\": 2}}}},\n",
              "                        {\"responsive\": true}\n",
              "                    ).then(function(){\n",
              "                            \n",
              "var gd = document.getElementById('7f776b63-f0b2-4353-b810-72d2fc31f881');\n",
              "var x = new MutationObserver(function (mutations, observer) {{\n",
              "        var display = window.getComputedStyle(gd).display;\n",
              "        if (!display || display === 'none') {{\n",
              "            console.log([gd, 'removed!']);\n",
              "            Plotly.purge(gd);\n",
              "            observer.disconnect();\n",
              "        }}\n",
              "}});\n",
              "\n",
              "// Listen for the removal of the full notebook cells\n",
              "var notebookContainer = gd.closest('#notebook-container');\n",
              "if (notebookContainer) {{\n",
              "    x.observe(notebookContainer, {childList: true});\n",
              "}}\n",
              "\n",
              "// Listen for the clearing of the current output cell\n",
              "var outputEl = gd.closest('.output');\n",
              "if (outputEl) {{\n",
              "    x.observe(outputEl, {childList: true});\n",
              "}}\n",
              "\n",
              "                        })\n",
              "                };\n",
              "                \n",
              "            </script>\n",
              "        </div>\n",
              "</body>\n",
              "</html>"
            ]
          },
          "metadata": {
            "tags": []
          }
        }
      ]
    }
  ]
}