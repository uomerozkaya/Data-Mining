{
  "nbformat": 4,
  "nbformat_minor": 0,
  "metadata": {
    "colab": {
      "name": "DataMining_Regressors.ipynb",
      "provenance": [],
      "collapsed_sections": [
        "drjieguFEJcb",
        "Nq_zQ6BbGMnC"
      ],
      "toc_visible": true,
      "authorship_tag": "ABX9TyOxPsbLEJe5n+OobpHnGwXT",
      "include_colab_link": true
    },
    "kernelspec": {
      "name": "python3",
      "display_name": "Python 3"
    },
    "language_info": {
      "name": "python"
    }
  },
  "cells": [
    {
      "cell_type": "markdown",
      "metadata": {
        "id": "view-in-github",
        "colab_type": "text"
      },
      "source": [
        "<a href=\"https://colab.research.google.com/github/uomerozkaya/Data-Mining/blob/main/DataMining_Regressors.ipynb\" target=\"_parent\"><img src=\"https://colab.research.google.com/assets/colab-badge.svg\" alt=\"Open In Colab\"/></a>"
      ]
    },
    {
      "cell_type": "markdown",
      "metadata": {
        "id": "mrjl9bnPIMFS"
      },
      "source": [
        "**R kare**, modeldeki bağımsız değişkenlere göre bağımlı değişkenin varyasyon oranını yani bağımlı değişkendeki değişkenliğin ne kadarının model tarafından açıklanabileceğini ölçer. Korelasyon katsayısının karesidir. R Kare aşırı uyum (overfitting) sorununu dikkate almaz. Regresyon modelinin çok fazla bağımsız değişkeni varsa model eğitim verilerine çok iyi uyabilir ama testte istenen başarıyı gösteremeyebilir. Bu nedenle Düzeltilmiş R Kare kullanılır. Düzeltilmiş R Kare modele eklenen ek bağımsız değişkenleri cezalandırır ve aşırı uyum sorununu çözer."
      ]
    },
    {
      "cell_type": "markdown",
      "metadata": {
        "id": "pyGYpLy9IOhD"
      },
      "source": [
        "**Ortalama mutlak hata**, mutlak hata değerinin toplamını alır, hata terimlerinin toplamının daha doğrudan bir temsilidir.\n",
        "Ortalama Mutlak Hatayı “from sklearn.metrics import mean_absolute_error” kütüphanesini ekleyerek kolay bir şekilde hesaplayabiliriz. Fonksiyonun aldığı ilk parametre gerçek değerler ikinci parametre ise bizim tahmin ettiğimiz değerler oluyor."
      ]
    },
    {
      "cell_type": "markdown",
      "metadata": {
        "id": "afNaAXJRIS6E"
      },
      "source": [
        "**Ortalama Kare Hatası** tahmin edilen sonuçlarınızın gerçek sayıdan ne kadar farklı olduğuna dair size mutlak bir sayı verir. Tek bir sonuçtan çok fazla içgörü yorumlayamazsınız, ancak size diğer model sonuçlarıyla karşılaştırmak için gerçek bir sayı verir ve en iyi regresyon modelini seçmenize yardımcı olur. Kök Ortalama Karekök Hatası (RMSE), MSE’nin kareköküdür. MSE’den daha sık kullanılır çünkü bazen MSE değeri kolayca karşılaştırılamayacak kadar büyük olabilir. Bu yüzden MSE hata karesi ile hesaplanır ve böylece yorumlamayı kolaylaştırır. Fakat MSE aykırı değerlere karşı çok duyarlıdır."
      ]
    },
    {
      "cell_type": "code",
      "metadata": {
        "id": "nobbtE5flP0x"
      },
      "source": [
        "import pandas as pd\n",
        "import numpy as np\n",
        "import seaborn as sns\n",
        "import matplotlib.pyplot as plt\n",
        "%matplotlib inline\n",
        "from sklearn.linear_model import LinearRegression\n",
        "from sklearn.model_selection import train_test_split, cross_val_score\n",
        "from sklearn.metrics import mean_squared_error\n",
        "from sklearn.metrics import r2_score, mean_absolute_error, mean_squared_error"
      ],
      "execution_count": 345,
      "outputs": []
    },
    {
      "cell_type": "markdown",
      "metadata": {
        "id": "HqLrt2PBJFru"
      },
      "source": [
        "#Data İnformation"
      ]
    },
    {
      "cell_type": "code",
      "metadata": {
        "colab": {
          "base_uri": "https://localhost:8080/",
          "height": 218
        },
        "id": "0hoFhDomIBAe",
        "outputId": "331dcf8b-11ee-49b8-d84a-a8b52194d2b1"
      },
      "source": [
        "import pandas as pd\n",
        "sf = pd.read_csv('Real estate.csv')\n",
        "sf.head()"
      ],
      "execution_count": 346,
      "outputs": [
        {
          "output_type": "execute_result",
          "data": {
            "text/html": [
              "<div>\n",
              "<style scoped>\n",
              "    .dataframe tbody tr th:only-of-type {\n",
              "        vertical-align: middle;\n",
              "    }\n",
              "\n",
              "    .dataframe tbody tr th {\n",
              "        vertical-align: top;\n",
              "    }\n",
              "\n",
              "    .dataframe thead th {\n",
              "        text-align: right;\n",
              "    }\n",
              "</style>\n",
              "<table border=\"1\" class=\"dataframe\">\n",
              "  <thead>\n",
              "    <tr style=\"text-align: right;\">\n",
              "      <th></th>\n",
              "      <th>No</th>\n",
              "      <th>X1 transaction date</th>\n",
              "      <th>X2 house age</th>\n",
              "      <th>X3 distance to the nearest MRT station</th>\n",
              "      <th>X4 number of convenience stores</th>\n",
              "      <th>X5 latitude</th>\n",
              "      <th>X6 longitude</th>\n",
              "      <th>Y house price of unit area</th>\n",
              "    </tr>\n",
              "  </thead>\n",
              "  <tbody>\n",
              "    <tr>\n",
              "      <th>0</th>\n",
              "      <td>1</td>\n",
              "      <td>2012.917</td>\n",
              "      <td>32.0</td>\n",
              "      <td>84.87882</td>\n",
              "      <td>10</td>\n",
              "      <td>24.98298</td>\n",
              "      <td>121.54024</td>\n",
              "      <td>37.9</td>\n",
              "    </tr>\n",
              "    <tr>\n",
              "      <th>1</th>\n",
              "      <td>2</td>\n",
              "      <td>2012.917</td>\n",
              "      <td>19.5</td>\n",
              "      <td>306.59470</td>\n",
              "      <td>9</td>\n",
              "      <td>24.98034</td>\n",
              "      <td>121.53951</td>\n",
              "      <td>42.2</td>\n",
              "    </tr>\n",
              "    <tr>\n",
              "      <th>2</th>\n",
              "      <td>3</td>\n",
              "      <td>2013.583</td>\n",
              "      <td>13.3</td>\n",
              "      <td>561.98450</td>\n",
              "      <td>5</td>\n",
              "      <td>24.98746</td>\n",
              "      <td>121.54391</td>\n",
              "      <td>47.3</td>\n",
              "    </tr>\n",
              "    <tr>\n",
              "      <th>3</th>\n",
              "      <td>4</td>\n",
              "      <td>2013.500</td>\n",
              "      <td>13.3</td>\n",
              "      <td>561.98450</td>\n",
              "      <td>5</td>\n",
              "      <td>24.98746</td>\n",
              "      <td>121.54391</td>\n",
              "      <td>54.8</td>\n",
              "    </tr>\n",
              "    <tr>\n",
              "      <th>4</th>\n",
              "      <td>5</td>\n",
              "      <td>2012.833</td>\n",
              "      <td>5.0</td>\n",
              "      <td>390.56840</td>\n",
              "      <td>5</td>\n",
              "      <td>24.97937</td>\n",
              "      <td>121.54245</td>\n",
              "      <td>43.1</td>\n",
              "    </tr>\n",
              "  </tbody>\n",
              "</table>\n",
              "</div>"
            ],
            "text/plain": [
              "   No  X1 transaction date  ...  X6 longitude  Y house price of unit area\n",
              "0   1             2012.917  ...     121.54024                        37.9\n",
              "1   2             2012.917  ...     121.53951                        42.2\n",
              "2   3             2013.583  ...     121.54391                        47.3\n",
              "3   4             2013.500  ...     121.54391                        54.8\n",
              "4   5             2012.833  ...     121.54245                        43.1\n",
              "\n",
              "[5 rows x 8 columns]"
            ]
          },
          "metadata": {
            "tags": []
          },
          "execution_count": 346
        }
      ]
    },
    {
      "cell_type": "code",
      "metadata": {
        "colab": {
          "base_uri": "https://localhost:8080/"
        },
        "id": "Jw4UN4jrfW03",
        "outputId": "64dd3373-df0c-4f1c-a23e-85dfbd4afa9a"
      },
      "source": [
        "#check for nulls in the data\n",
        "sf.isnull().sum() "
      ],
      "execution_count": 347,
      "outputs": [
        {
          "output_type": "execute_result",
          "data": {
            "text/plain": [
              "No                                        0\n",
              "X1 transaction date                       0\n",
              "X2 house age                              0\n",
              "X3 distance to the nearest MRT station    0\n",
              "X4 number of convenience stores           0\n",
              "X5 latitude                               0\n",
              "X6 longitude                              0\n",
              "Y house price of unit area                0\n",
              "dtype: int64"
            ]
          },
          "metadata": {
            "tags": []
          },
          "execution_count": 347
        }
      ]
    },
    {
      "cell_type": "code",
      "metadata": {
        "colab": {
          "base_uri": "https://localhost:8080/",
          "height": 471
        },
        "id": "wufyIjwbln3z",
        "outputId": "a59431a3-45a3-47f6-ce89-d8047b34bfde"
      },
      "source": [
        "# check for any correlations between variables\n",
        "corr = sf.corr()\n",
        "sns.heatmap(corr, annot=True)\n",
        "# sqft_living, grade, sqft_above and sqft_living15 seem to have a \n",
        "# high influence in price"
      ],
      "execution_count": 348,
      "outputs": [
        {
          "output_type": "execute_result",
          "data": {
            "text/plain": [
              "<matplotlib.axes._subplots.AxesSubplot at 0x7f19934f7790>"
            ]
          },
          "metadata": {
            "tags": []
          },
          "execution_count": 348
        },
        {
          "output_type": "display_data",
          "data": {
            "image/png": "[encoded data removed]",
            "text/plain": [
              "<Figure size 432x288 with 2 Axes>"
            ]
          },
          "metadata": {
            "tags": [],
            "needs_background": "light"
          }
        }
      ]
    },
    {
      "cell_type": "markdown",
      "metadata": {
        "id": "9CEF--vsJMnR"
      },
      "source": [
        "# Normalizing the data"
      ]
    },
    {
      "cell_type": "code",
      "metadata": {
        "colab": {
          "base_uri": "https://localhost:8080/",
          "height": 431
        },
        "id": "pETftN8ut7mJ",
        "outputId": "a0c72604-0b81-4a60-f619-223f55bd1145"
      },
      "source": [
        "#normalizing the data:\n",
        "from sklearn import preprocessing\n",
        "a_nor=preprocessing.normalize(sf)\n",
        "a_nor=pd.DataFrame(a_nor)\n",
        "a_nor\n",
        "a_nor.columns=sf.columns\n",
        "a_nor"
      ],
      "execution_count": 349,
      "outputs": [
        {
          "output_type": "execute_result",
          "data": {
            "text/html": [
              "<div>\n",
              "<style scoped>\n",
              "    .dataframe tbody tr th:only-of-type {\n",
              "        vertical-align: middle;\n",
              "    }\n",
              "\n",
              "    .dataframe tbody tr th {\n",
              "        vertical-align: top;\n",
              "    }\n",
              "\n",
              "    .dataframe thead th {\n",
              "        text-align: right;\n",
              "    }\n",
              "</style>\n",
              "<table border=\"1\" class=\"dataframe\">\n",
              "  <thead>\n",
              "    <tr style=\"text-align: right;\">\n",
              "      <th></th>\n",
              "      <th>No</th>\n",
              "      <th>X1 transaction date</th>\n",
              "      <th>X2 house age</th>\n",
              "      <th>X3 distance to the nearest MRT station</th>\n",
              "      <th>X4 number of convenience stores</th>\n",
              "      <th>X5 latitude</th>\n",
              "      <th>X6 longitude</th>\n",
              "      <th>Y house price of unit area</th>\n",
              "    </tr>\n",
              "  </thead>\n",
              "  <tbody>\n",
              "    <tr>\n",
              "      <th>0</th>\n",
              "      <td>0.000495</td>\n",
              "      <td>0.996909</td>\n",
              "      <td>0.015848</td>\n",
              "      <td>0.042037</td>\n",
              "      <td>0.004953</td>\n",
              "      <td>0.012373</td>\n",
              "      <td>0.060194</td>\n",
              "      <td>0.018770</td>\n",
              "    </tr>\n",
              "    <tr>\n",
              "      <th>1</th>\n",
              "      <td>0.000980</td>\n",
              "      <td>0.986502</td>\n",
              "      <td>0.009557</td>\n",
              "      <td>0.150258</td>\n",
              "      <td>0.004411</td>\n",
              "      <td>0.012243</td>\n",
              "      <td>0.059565</td>\n",
              "      <td>0.020682</td>\n",
              "    </tr>\n",
              "    <tr>\n",
              "      <th>2</th>\n",
              "      <td>0.001432</td>\n",
              "      <td>0.961229</td>\n",
              "      <td>0.006349</td>\n",
              "      <td>0.268276</td>\n",
              "      <td>0.002387</td>\n",
              "      <td>0.011928</td>\n",
              "      <td>0.058022</td>\n",
              "      <td>0.022580</td>\n",
              "    </tr>\n",
              "    <tr>\n",
              "      <th>3</th>\n",
              "      <td>0.001909</td>\n",
              "      <td>0.961141</td>\n",
              "      <td>0.006349</td>\n",
              "      <td>0.268263</td>\n",
              "      <td>0.002387</td>\n",
              "      <td>0.011928</td>\n",
              "      <td>0.058019</td>\n",
              "      <td>0.026159</td>\n",
              "    </tr>\n",
              "    <tr>\n",
              "      <th>4</th>\n",
              "      <td>0.002434</td>\n",
              "      <td>0.979673</td>\n",
              "      <td>0.002434</td>\n",
              "      <td>0.190095</td>\n",
              "      <td>0.002434</td>\n",
              "      <td>0.012158</td>\n",
              "      <td>0.059156</td>\n",
              "      <td>0.020977</td>\n",
              "    </tr>\n",
              "    <tr>\n",
              "      <th>...</th>\n",
              "      <td>...</td>\n",
              "      <td>...</td>\n",
              "      <td>...</td>\n",
              "      <td>...</td>\n",
              "      <td>...</td>\n",
              "      <td>...</td>\n",
              "      <td>...</td>\n",
              "      <td>...</td>\n",
              "    </tr>\n",
              "    <tr>\n",
              "      <th>409</th>\n",
              "      <td>0.089685</td>\n",
              "      <td>0.440334</td>\n",
              "      <td>0.002997</td>\n",
              "      <td>0.892920</td>\n",
              "      <td>0.000000</td>\n",
              "      <td>0.005456</td>\n",
              "      <td>0.026578</td>\n",
              "      <td>0.003369</td>\n",
              "    </tr>\n",
              "    <tr>\n",
              "      <th>410</th>\n",
              "      <td>0.199460</td>\n",
              "      <td>0.976753</td>\n",
              "      <td>0.002718</td>\n",
              "      <td>0.043899</td>\n",
              "      <td>0.004368</td>\n",
              "      <td>0.012120</td>\n",
              "      <td>0.058985</td>\n",
              "      <td>0.024265</td>\n",
              "    </tr>\n",
              "    <tr>\n",
              "      <th>411</th>\n",
              "      <td>0.196565</td>\n",
              "      <td>0.960519</td>\n",
              "      <td>0.008969</td>\n",
              "      <td>0.186531</td>\n",
              "      <td>0.003340</td>\n",
              "      <td>0.011918</td>\n",
              "      <td>0.057987</td>\n",
              "      <td>0.019370</td>\n",
              "    </tr>\n",
              "    <tr>\n",
              "      <th>412</th>\n",
              "      <td>0.200288</td>\n",
              "      <td>0.976223</td>\n",
              "      <td>0.003928</td>\n",
              "      <td>0.050829</td>\n",
              "      <td>0.002425</td>\n",
              "      <td>0.012108</td>\n",
              "      <td>0.058942</td>\n",
              "      <td>0.025460</td>\n",
              "    </tr>\n",
              "    <tr>\n",
              "      <th>413</th>\n",
              "      <td>0.200740</td>\n",
              "      <td>0.976305</td>\n",
              "      <td>0.003152</td>\n",
              "      <td>0.043860</td>\n",
              "      <td>0.004364</td>\n",
              "      <td>0.012110</td>\n",
              "      <td>0.058934</td>\n",
              "      <td>0.030984</td>\n",
              "    </tr>\n",
              "  </tbody>\n",
              "</table>\n",
              "<p>414 rows × 8 columns</p>\n",
              "</div>"
            ],
            "text/plain": [
              "           No  X1 transaction date  ...  X6 longitude  Y house price of unit area\n",
              "0    0.000495             0.996909  ...      0.060194                    0.018770\n",
              "1    0.000980             0.986502  ...      0.059565                    0.020682\n",
              "2    0.001432             0.961229  ...      0.058022                    0.022580\n",
              "3    0.001909             0.961141  ...      0.058019                    0.026159\n",
              "4    0.002434             0.979673  ...      0.059156                    0.020977\n",
              "..        ...                  ...  ...           ...                         ...\n",
              "409  0.089685             0.440334  ...      0.026578                    0.003369\n",
              "410  0.199460             0.976753  ...      0.058985                    0.024265\n",
              "411  0.196565             0.960519  ...      0.057987                    0.019370\n",
              "412  0.200288             0.976223  ...      0.058942                    0.025460\n",
              "413  0.200740             0.976305  ...      0.058934                    0.030984\n",
              "\n",
              "[414 rows x 8 columns]"
            ]
          },
          "metadata": {
            "tags": []
          },
          "execution_count": 349
        }
      ]
    },
    {
      "cell_type": "code",
      "metadata": {
        "colab": {
          "base_uri": "https://localhost:8080/",
          "height": 414
        },
        "id": "GfkX37fSuCV4",
        "outputId": "396cd600-8a77-4ae3-c4bc-b91ac7cc923d"
      },
      "source": [
        "#splitting x and y:\n",
        "x=a_nor.iloc[:,2:7]\n",
        "x"
      ],
      "execution_count": 350,
      "outputs": [
        {
          "output_type": "execute_result",
          "data": {
            "text/html": [
              "<div>\n",
              "<style scoped>\n",
              "    .dataframe tbody tr th:only-of-type {\n",
              "        vertical-align: middle;\n",
              "    }\n",
              "\n",
              "    .dataframe tbody tr th {\n",
              "        vertical-align: top;\n",
              "    }\n",
              "\n",
              "    .dataframe thead th {\n",
              "        text-align: right;\n",
              "    }\n",
              "</style>\n",
              "<table border=\"1\" class=\"dataframe\">\n",
              "  <thead>\n",
              "    <tr style=\"text-align: right;\">\n",
              "      <th></th>\n",
              "      <th>X2 house age</th>\n",
              "      <th>X3 distance to the nearest MRT station</th>\n",
              "      <th>X4 number of convenience stores</th>\n",
              "      <th>X5 latitude</th>\n",
              "      <th>X6 longitude</th>\n",
              "    </tr>\n",
              "  </thead>\n",
              "  <tbody>\n",
              "    <tr>\n",
              "      <th>0</th>\n",
              "      <td>0.015848</td>\n",
              "      <td>0.042037</td>\n",
              "      <td>0.004953</td>\n",
              "      <td>0.012373</td>\n",
              "      <td>0.060194</td>\n",
              "    </tr>\n",
              "    <tr>\n",
              "      <th>1</th>\n",
              "      <td>0.009557</td>\n",
              "      <td>0.150258</td>\n",
              "      <td>0.004411</td>\n",
              "      <td>0.012243</td>\n",
              "      <td>0.059565</td>\n",
              "    </tr>\n",
              "    <tr>\n",
              "      <th>2</th>\n",
              "      <td>0.006349</td>\n",
              "      <td>0.268276</td>\n",
              "      <td>0.002387</td>\n",
              "      <td>0.011928</td>\n",
              "      <td>0.058022</td>\n",
              "    </tr>\n",
              "    <tr>\n",
              "      <th>3</th>\n",
              "      <td>0.006349</td>\n",
              "      <td>0.268263</td>\n",
              "      <td>0.002387</td>\n",
              "      <td>0.011928</td>\n",
              "      <td>0.058019</td>\n",
              "    </tr>\n",
              "    <tr>\n",
              "      <th>4</th>\n",
              "      <td>0.002434</td>\n",
              "      <td>0.190095</td>\n",
              "      <td>0.002434</td>\n",
              "      <td>0.012158</td>\n",
              "      <td>0.059156</td>\n",
              "    </tr>\n",
              "    <tr>\n",
              "      <th>...</th>\n",
              "      <td>...</td>\n",
              "      <td>...</td>\n",
              "      <td>...</td>\n",
              "      <td>...</td>\n",
              "      <td>...</td>\n",
              "    </tr>\n",
              "    <tr>\n",
              "      <th>409</th>\n",
              "      <td>0.002997</td>\n",
              "      <td>0.892920</td>\n",
              "      <td>0.000000</td>\n",
              "      <td>0.005456</td>\n",
              "      <td>0.026578</td>\n",
              "    </tr>\n",
              "    <tr>\n",
              "      <th>410</th>\n",
              "      <td>0.002718</td>\n",
              "      <td>0.043899</td>\n",
              "      <td>0.004368</td>\n",
              "      <td>0.012120</td>\n",
              "      <td>0.058985</td>\n",
              "    </tr>\n",
              "    <tr>\n",
              "      <th>411</th>\n",
              "      <td>0.008969</td>\n",
              "      <td>0.186531</td>\n",
              "      <td>0.003340</td>\n",
              "      <td>0.011918</td>\n",
              "      <td>0.057987</td>\n",
              "    </tr>\n",
              "    <tr>\n",
              "      <th>412</th>\n",
              "      <td>0.003928</td>\n",
              "      <td>0.050829</td>\n",
              "      <td>0.002425</td>\n",
              "      <td>0.012108</td>\n",
              "      <td>0.058942</td>\n",
              "    </tr>\n",
              "    <tr>\n",
              "      <th>413</th>\n",
              "      <td>0.003152</td>\n",
              "      <td>0.043860</td>\n",
              "      <td>0.004364</td>\n",
              "      <td>0.012110</td>\n",
              "      <td>0.058934</td>\n",
              "    </tr>\n",
              "  </tbody>\n",
              "</table>\n",
              "<p>414 rows × 5 columns</p>\n",
              "</div>"
            ],
            "text/plain": [
              "     X2 house age  ...  X6 longitude\n",
              "0        0.015848  ...      0.060194\n",
              "1        0.009557  ...      0.059565\n",
              "2        0.006349  ...      0.058022\n",
              "3        0.006349  ...      0.058019\n",
              "4        0.002434  ...      0.059156\n",
              "..            ...  ...           ...\n",
              "409      0.002997  ...      0.026578\n",
              "410      0.002718  ...      0.058985\n",
              "411      0.008969  ...      0.057987\n",
              "412      0.003928  ...      0.058942\n",
              "413      0.003152  ...      0.058934\n",
              "\n",
              "[414 rows x 5 columns]"
            ]
          },
          "metadata": {
            "tags": []
          },
          "execution_count": 350
        }
      ]
    },
    {
      "cell_type": "code",
      "metadata": {
        "colab": {
          "base_uri": "https://localhost:8080/",
          "height": 414
        },
        "id": "hXkcxRNruFGw",
        "outputId": "45192bdd-ebdc-49ee-d9b9-0db8b8087ecd"
      },
      "source": [
        "y=sf.iloc[:,7:8]\n",
        "y"
      ],
      "execution_count": 351,
      "outputs": [
        {
          "output_type": "execute_result",
          "data": {
            "text/html": [
              "<div>\n",
              "<style scoped>\n",
              "    .dataframe tbody tr th:only-of-type {\n",
              "        vertical-align: middle;\n",
              "    }\n",
              "\n",
              "    .dataframe tbody tr th {\n",
              "        vertical-align: top;\n",
              "    }\n",
              "\n",
              "    .dataframe thead th {\n",
              "        text-align: right;\n",
              "    }\n",
              "</style>\n",
              "<table border=\"1\" class=\"dataframe\">\n",
              "  <thead>\n",
              "    <tr style=\"text-align: right;\">\n",
              "      <th></th>\n",
              "      <th>Y house price of unit area</th>\n",
              "    </tr>\n",
              "  </thead>\n",
              "  <tbody>\n",
              "    <tr>\n",
              "      <th>0</th>\n",
              "      <td>37.9</td>\n",
              "    </tr>\n",
              "    <tr>\n",
              "      <th>1</th>\n",
              "      <td>42.2</td>\n",
              "    </tr>\n",
              "    <tr>\n",
              "      <th>2</th>\n",
              "      <td>47.3</td>\n",
              "    </tr>\n",
              "    <tr>\n",
              "      <th>3</th>\n",
              "      <td>54.8</td>\n",
              "    </tr>\n",
              "    <tr>\n",
              "      <th>4</th>\n",
              "      <td>43.1</td>\n",
              "    </tr>\n",
              "    <tr>\n",
              "      <th>...</th>\n",
              "      <td>...</td>\n",
              "    </tr>\n",
              "    <tr>\n",
              "      <th>409</th>\n",
              "      <td>15.4</td>\n",
              "    </tr>\n",
              "    <tr>\n",
              "      <th>410</th>\n",
              "      <td>50.0</td>\n",
              "    </tr>\n",
              "    <tr>\n",
              "      <th>411</th>\n",
              "      <td>40.6</td>\n",
              "    </tr>\n",
              "    <tr>\n",
              "      <th>412</th>\n",
              "      <td>52.5</td>\n",
              "    </tr>\n",
              "    <tr>\n",
              "      <th>413</th>\n",
              "      <td>63.9</td>\n",
              "    </tr>\n",
              "  </tbody>\n",
              "</table>\n",
              "<p>414 rows × 1 columns</p>\n",
              "</div>"
            ],
            "text/plain": [
              "     Y house price of unit area\n",
              "0                          37.9\n",
              "1                          42.2\n",
              "2                          47.3\n",
              "3                          54.8\n",
              "4                          43.1\n",
              "..                          ...\n",
              "409                        15.4\n",
              "410                        50.0\n",
              "411                        40.6\n",
              "412                        52.5\n",
              "413                        63.9\n",
              "\n",
              "[414 rows x 1 columns]"
            ]
          },
          "metadata": {
            "tags": []
          },
          "execution_count": 351
        }
      ]
    },
    {
      "cell_type": "markdown",
      "metadata": {
        "id": "p-UP9Kcq5ptR"
      },
      "source": [
        "# LinearRegression"
      ]
    },
    {
      "cell_type": "code",
      "metadata": {
        "colab": {
          "base_uri": "https://localhost:8080/",
          "height": 414
        },
        "id": "Kb1bfZKpuW-o",
        "outputId": "d942b245-efad-4f05-ee38-218677f7846b"
      },
      "source": [
        "#splitting training and test data set:\n",
        "from sklearn import model_selection\n",
        "from sklearn import linear_model\n",
        "x_train,x_test,y_train,y_test=model_selection.train_test_split(x,y,test_size=0.2)\n",
        "x_train.shape\n",
        "x_test.shape\n",
        "y_train.shape\n",
        "y_test.shape\n",
        "x_train"
      ],
      "execution_count": 352,
      "outputs": [
        {
          "output_type": "execute_result",
          "data": {
            "text/html": [
              "<div>\n",
              "<style scoped>\n",
              "    .dataframe tbody tr th:only-of-type {\n",
              "        vertical-align: middle;\n",
              "    }\n",
              "\n",
              "    .dataframe tbody tr th {\n",
              "        vertical-align: top;\n",
              "    }\n",
              "\n",
              "    .dataframe thead th {\n",
              "        text-align: right;\n",
              "    }\n",
              "</style>\n",
              "<table border=\"1\" class=\"dataframe\">\n",
              "  <thead>\n",
              "    <tr style=\"text-align: right;\">\n",
              "      <th></th>\n",
              "      <th>X2 house age</th>\n",
              "      <th>X3 distance to the nearest MRT station</th>\n",
              "      <th>X4 number of convenience stores</th>\n",
              "      <th>X5 latitude</th>\n",
              "      <th>X6 longitude</th>\n",
              "    </tr>\n",
              "  </thead>\n",
              "  <tbody>\n",
              "    <tr>\n",
              "      <th>135</th>\n",
              "      <td>0.008365</td>\n",
              "      <td>0.446675</td>\n",
              "      <td>0.000000</td>\n",
              "      <td>0.011049</td>\n",
              "      <td>0.053796</td>\n",
              "    </tr>\n",
              "    <tr>\n",
              "      <th>187</th>\n",
              "      <td>0.002415</td>\n",
              "      <td>0.835344</td>\n",
              "      <td>0.000000</td>\n",
              "      <td>0.006772</td>\n",
              "      <td>0.032990</td>\n",
              "    </tr>\n",
              "    <tr>\n",
              "      <th>60</th>\n",
              "      <td>0.003938</td>\n",
              "      <td>0.691346</td>\n",
              "      <td>0.000716</td>\n",
              "      <td>0.008937</td>\n",
              "      <td>0.043501</td>\n",
              "    </tr>\n",
              "    <tr>\n",
              "      <th>320</th>\n",
              "      <td>0.002892</td>\n",
              "      <td>0.899224</td>\n",
              "      <td>0.000000</td>\n",
              "      <td>0.005343</td>\n",
              "      <td>0.026031</td>\n",
              "    </tr>\n",
              "    <tr>\n",
              "      <th>102</th>\n",
              "      <td>0.000542</td>\n",
              "      <td>0.095384</td>\n",
              "      <td>0.002956</td>\n",
              "      <td>0.012301</td>\n",
              "      <td>0.059886</td>\n",
              "    </tr>\n",
              "    <tr>\n",
              "      <th>...</th>\n",
              "      <td>...</td>\n",
              "      <td>...</td>\n",
              "      <td>...</td>\n",
              "      <td>...</td>\n",
              "      <td>...</td>\n",
              "    </tr>\n",
              "    <tr>\n",
              "      <th>122</th>\n",
              "      <td>0.015265</td>\n",
              "      <td>0.201091</td>\n",
              "      <td>0.001938</td>\n",
              "      <td>0.012107</td>\n",
              "      <td>0.058903</td>\n",
              "    </tr>\n",
              "    <tr>\n",
              "      <th>25</th>\n",
              "      <td>0.011688</td>\n",
              "      <td>0.593539</td>\n",
              "      <td>0.000798</td>\n",
              "      <td>0.009963</td>\n",
              "      <td>0.048476</td>\n",
              "    </tr>\n",
              "    <tr>\n",
              "      <th>246</th>\n",
              "      <td>0.007923</td>\n",
              "      <td>0.188336</td>\n",
              "      <td>0.002899</td>\n",
              "      <td>0.012061</td>\n",
              "      <td>0.058721</td>\n",
              "    </tr>\n",
              "    <tr>\n",
              "      <th>61</th>\n",
              "      <td>0.002603</td>\n",
              "      <td>0.127541</td>\n",
              "      <td>0.002947</td>\n",
              "      <td>0.012268</td>\n",
              "      <td>0.059701</td>\n",
              "    </tr>\n",
              "    <tr>\n",
              "      <th>107</th>\n",
              "      <td>0.005009</td>\n",
              "      <td>0.558476</td>\n",
              "      <td>0.000411</td>\n",
              "      <td>0.010245</td>\n",
              "      <td>0.049908</td>\n",
              "    </tr>\n",
              "  </tbody>\n",
              "</table>\n",
              "<p>331 rows × 5 columns</p>\n",
              "</div>"
            ],
            "text/plain": [
              "     X2 house age  ...  X6 longitude\n",
              "135      0.008365  ...      0.053796\n",
              "187      0.002415  ...      0.032990\n",
              "60       0.003938  ...      0.043501\n",
              "320      0.002892  ...      0.026031\n",
              "102      0.000542  ...      0.059886\n",
              "..            ...  ...           ...\n",
              "122      0.015265  ...      0.058903\n",
              "25       0.011688  ...      0.048476\n",
              "246      0.007923  ...      0.058721\n",
              "61       0.002603  ...      0.059701\n",
              "107      0.005009  ...      0.049908\n",
              "\n",
              "[331 rows x 5 columns]"
            ]
          },
          "metadata": {
            "tags": []
          },
          "execution_count": 352
        }
      ]
    },
    {
      "cell_type": "code",
      "metadata": {
        "id": "s9IMNHmCu7Qh"
      },
      "source": [
        "#applying linear regression:\n",
        "lm=linear_model.LinearRegression()\n",
        "model=lm.fit(x_train,y_train)\n",
        "model.coef_\n",
        "model.intercept_\n",
        "pred=lm.predict(x_train)"
      ],
      "execution_count": 353,
      "outputs": []
    },
    {
      "cell_type": "code",
      "metadata": {
        "colab": {
          "base_uri": "https://localhost:8080/"
        },
        "id": "e21krlRtvU5j",
        "outputId": "accc064a-fab2-4c7b-feb5-3725f774749f"
      },
      "source": [
        "#checking accuracy using r2:\n",
        "from sklearn.metrics import r2_score\n",
        "r2_score(pred,y_train)\n",
        "predd=lm.predict(x_test)\n",
        "preddt=lm.predict(x_train)\n",
        "r2_score(predd,y_test)"
      ],
      "execution_count": 354,
      "outputs": [
        {
          "output_type": "execute_result",
          "data": {
            "text/plain": [
              "0.5609625953809626"
            ]
          },
          "metadata": {
            "tags": []
          },
          "execution_count": 354
        }
      ]
    },
    {
      "cell_type": "code",
      "metadata": {
        "colab": {
          "base_uri": "https://localhost:8080/"
        },
        "id": "hjINzZvJD6Gj",
        "outputId": "bb1613ae-bb17-451d-c590-d780a56286ff"
      },
      "source": [
        "lr2 = r2_score(predd,y_test)\n",
        "lr2"
      ],
      "execution_count": 355,
      "outputs": [
        {
          "output_type": "execute_result",
          "data": {
            "text/plain": [
              "0.5609625953809626"
            ]
          },
          "metadata": {
            "tags": []
          },
          "execution_count": 355
        }
      ]
    },
    {
      "cell_type": "code",
      "metadata": {
        "colab": {
          "base_uri": "https://localhost:8080/"
        },
        "id": "XPnEEtO1D_07",
        "outputId": "e0106884-8d18-4dea-da43-c0d5e81582b4"
      },
      "source": [
        "lr2t = r2_score(preddt,y_train)\n",
        "lr2t"
      ],
      "execution_count": 356,
      "outputs": [
        {
          "output_type": "execute_result",
          "data": {
            "text/plain": [
              "0.45227379028697134"
            ]
          },
          "metadata": {
            "tags": []
          },
          "execution_count": 356
        }
      ]
    },
    {
      "cell_type": "markdown",
      "metadata": {
        "id": "XxO5ynQzu_GW"
      },
      "source": [
        "for test data"
      ]
    },
    {
      "cell_type": "code",
      "metadata": {
        "colab": {
          "base_uri": "https://localhost:8080/"
        },
        "id": "45BI68VCLME_",
        "outputId": "8f2f444a-65ac-4f4a-b72c-a2b0a5799e69"
      },
      "source": [
        "lmae = mean_absolute_error(predd,y_test)\n",
        "lmae"
      ],
      "execution_count": 357,
      "outputs": [
        {
          "output_type": "execute_result",
          "data": {
            "text/plain": [
              "4.877922207010644"
            ]
          },
          "metadata": {
            "tags": []
          },
          "execution_count": 357
        }
      ]
    },
    {
      "cell_type": "code",
      "metadata": {
        "id": "cSSSTDuY9Fyv",
        "colab": {
          "base_uri": "https://localhost:8080/"
        },
        "outputId": "13a6df5d-9f1c-4f0a-fd69-2adb8f3159e6"
      },
      "source": [
        "lmse = mean_squared_error(predd,y_test)\n",
        "lmse"
      ],
      "execution_count": 358,
      "outputs": [
        {
          "output_type": "execute_result",
          "data": {
            "text/plain": [
              "49.74571194990524"
            ]
          },
          "metadata": {
            "tags": []
          },
          "execution_count": 358
        }
      ]
    },
    {
      "cell_type": "code",
      "metadata": {
        "colab": {
          "base_uri": "https://localhost:8080/"
        },
        "id": "YXxwsQOKI1q_",
        "outputId": "17ab3bd2-2d14-4e5b-93a4-1182cba92534"
      },
      "source": [
        "np.sqrt(mean_squared_error(predd,y_test))"
      ],
      "execution_count": 359,
      "outputs": [
        {
          "output_type": "execute_result",
          "data": {
            "text/plain": [
              "7.053064011470847"
            ]
          },
          "metadata": {
            "tags": []
          },
          "execution_count": 359
        }
      ]
    },
    {
      "cell_type": "markdown",
      "metadata": {
        "id": "Y0Fu8eCHvGoA"
      },
      "source": [
        "for train data"
      ]
    },
    {
      "cell_type": "code",
      "metadata": {
        "colab": {
          "base_uri": "https://localhost:8080/"
        },
        "id": "UVU_DNtvwfTa",
        "outputId": "577c3718-1d4d-462b-8d12-0a2920ef1709"
      },
      "source": [
        "lmaet = mean_absolute_error(preddt,y_train)\n",
        "lmaet"
      ],
      "execution_count": 360,
      "outputs": [
        {
          "output_type": "execute_result",
          "data": {
            "text/plain": [
              "5.29590999561157"
            ]
          },
          "metadata": {
            "tags": []
          },
          "execution_count": 360
        }
      ]
    },
    {
      "cell_type": "code",
      "metadata": {
        "colab": {
          "base_uri": "https://localhost:8080/"
        },
        "id": "1yIUbVccu7nI",
        "outputId": "3133a016-179b-449a-eccc-6ed8a8c40514"
      },
      "source": [
        "lmset = mean_squared_error(preddt,y_train)\n",
        "lmset"
      ],
      "execution_count": 361,
      "outputs": [
        {
          "output_type": "execute_result",
          "data": {
            "text/plain": [
              "69.00198415222955"
            ]
          },
          "metadata": {
            "tags": []
          },
          "execution_count": 361
        }
      ]
    },
    {
      "cell_type": "markdown",
      "metadata": {
        "id": "zXptyknS5dUd"
      },
      "source": [
        "# AdaBoostRegressor"
      ]
    },
    {
      "cell_type": "code",
      "metadata": {
        "id": "lJ8Nvxu6y-oC",
        "colab": {
          "base_uri": "https://localhost:8080/"
        },
        "outputId": "0d55ff07-ff69-4975-91d4-b654d93ebd92"
      },
      "source": [
        "from sklearn.metrics import explained_variance_score\n",
        "from sklearn.ensemble import AdaBoostRegressor\n",
        "\n",
        "reg = AdaBoostRegressor(n_estimators=100, learning_rate=0.1, loss='exponential')\n",
        "reg.fit(x_train, y_train)\n",
        "prediction = reg.predict(x_test)\n",
        "predictiont = reg.predict(x_train)\n",
        "exp_variance_score = explained_variance_score(prediction, y_test)\n",
        "print(\"adaBoost: r2_score:\",r2_score(prediction,y_test))\n",
        "print(\"adaBoost: mean_absolute_error for test data\",mean_absolute_error(prediction,y_test))\n",
        "print(\"adaBoost: mean_squared_error for test data\",mean_squared_error(prediction,y_test))\n",
        "print(\"adaBoost: mean_absolute_error for train data\",mean_absolute_error(predictiont,y_train))\n",
        "print(\"adaBoost: mean_squared_error for train data\",mean_squared_error(predictiont,y_train))\n"
      ],
      "execution_count": 362,
      "outputs": [
        {
          "output_type": "stream",
          "text": [
            "/usr/local/lib/python3.7/dist-packages/sklearn/utils/validation.py:760: DataConversionWarning: A column-vector y was passed when a 1d array was expected. Please change the shape of y to (n_samples, ), for example using ravel().\n",
            "  y = column_or_1d(y, warn=True)\n"
          ],
          "name": "stderr"
        },
        {
          "output_type": "stream",
          "text": [
            "adaBoost: r2_score: 0.43004597696486724\n",
            "adaBoost: mean_absolute_error for test data 5.380294628524101\n",
            "adaBoost: mean_squared_error for test data 58.331620487761555\n",
            "adaBoost: mean_absolute_error for train data 5.148553537998612\n",
            "adaBoost: mean_squared_error for train data 44.07562490744235\n"
          ],
          "name": "stdout"
        }
      ]
    },
    {
      "cell_type": "code",
      "metadata": {
        "colab": {
          "base_uri": "https://localhost:8080/"
        },
        "id": "DsGMI4qmDeeg",
        "outputId": "40c3094b-ca76-4da0-fc32-77e2a53d9a7f"
      },
      "source": [
        "abr2 = r2_score(prediction,y_test)\n",
        "abr2"
      ],
      "execution_count": 363,
      "outputs": [
        {
          "output_type": "execute_result",
          "data": {
            "text/plain": [
              "0.43004597696486724"
            ]
          },
          "metadata": {
            "tags": []
          },
          "execution_count": 363
        }
      ]
    },
    {
      "cell_type": "code",
      "metadata": {
        "colab": {
          "base_uri": "https://localhost:8080/"
        },
        "id": "pMgp_wFhDqBA",
        "outputId": "30238735-c9c2-461f-a50e-d2713c87a9ea"
      },
      "source": [
        "abr2t = r2_score(predictiont,y_train)\n",
        "abr2t"
      ],
      "execution_count": 364,
      "outputs": [
        {
          "output_type": "execute_result",
          "data": {
            "text/plain": [
              "0.6692789948497577"
            ]
          },
          "metadata": {
            "tags": []
          },
          "execution_count": 364
        }
      ]
    },
    {
      "cell_type": "code",
      "metadata": {
        "colab": {
          "base_uri": "https://localhost:8080/"
        },
        "id": "wHRf8giNzlpv",
        "outputId": "8333fe03-4630-4cd2-d603-a0fca9014c70"
      },
      "source": [
        "abmae = mean_absolute_error(prediction,y_test)\n",
        "abmae"
      ],
      "execution_count": 365,
      "outputs": [
        {
          "output_type": "execute_result",
          "data": {
            "text/plain": [
              "5.380294628524101"
            ]
          },
          "metadata": {
            "tags": []
          },
          "execution_count": 365
        }
      ]
    },
    {
      "cell_type": "code",
      "metadata": {
        "colab": {
          "base_uri": "https://localhost:8080/"
        },
        "id": "olP3Vk-s6AfL",
        "outputId": "65308584-2dc5-4e66-82ef-11aa3bc7c6e8"
      },
      "source": [
        "abmse = mean_squared_error(prediction,y_test)\n",
        "abmse"
      ],
      "execution_count": 366,
      "outputs": [
        {
          "output_type": "execute_result",
          "data": {
            "text/plain": [
              "58.331620487761555"
            ]
          },
          "metadata": {
            "tags": []
          },
          "execution_count": 366
        }
      ]
    },
    {
      "cell_type": "code",
      "metadata": {
        "colab": {
          "base_uri": "https://localhost:8080/"
        },
        "id": "SF1pDp3Y6IYQ",
        "outputId": "a32d5a0d-6bfa-4783-b445-00f01f48384b"
      },
      "source": [
        "abmaet = mean_absolute_error(predictiont,y_train)\n",
        "abmaet"
      ],
      "execution_count": 367,
      "outputs": [
        {
          "output_type": "execute_result",
          "data": {
            "text/plain": [
              "5.148553537998612"
            ]
          },
          "metadata": {
            "tags": []
          },
          "execution_count": 367
        }
      ]
    },
    {
      "cell_type": "code",
      "metadata": {
        "colab": {
          "base_uri": "https://localhost:8080/"
        },
        "id": "8VvCZP-X6MDV",
        "outputId": "594ee3c8-060f-46f9-d74c-1a2e1498359f"
      },
      "source": [
        "abmset = mean_squared_error(predictiont,y_train)\n",
        "abmset"
      ],
      "execution_count": 368,
      "outputs": [
        {
          "output_type": "execute_result",
          "data": {
            "text/plain": [
              "44.07562490744235"
            ]
          },
          "metadata": {
            "tags": []
          },
          "execution_count": 368
        }
      ]
    },
    {
      "cell_type": "markdown",
      "metadata": {
        "id": "R-kkoo-R5ZL7"
      },
      "source": [
        "# RandomForestRegressor"
      ]
    },
    {
      "cell_type": "code",
      "metadata": {
        "colab": {
          "base_uri": "https://localhost:8080/"
        },
        "id": "cN7pql1P0j03",
        "outputId": "200b09cd-d209-45ab-83be-b39051c673be"
      },
      "source": [
        "from sklearn.ensemble import RandomForestRegressor, ExtraTreesRegressor\n",
        "random_forest = RandomForestRegressor()\n",
        "random_forest.fit(x_train,y_train)\n",
        "\n",
        "pred_r=random_forest.predict(x_test)\n",
        "pred_rt=random_forest.predict(x_train)"
      ],
      "execution_count": 369,
      "outputs": [
        {
          "output_type": "stream",
          "text": [
            "/usr/local/lib/python3.7/dist-packages/ipykernel_launcher.py:3: DataConversionWarning: A column-vector y was passed when a 1d array was expected. Please change the shape of y to (n_samples,), for example using ravel().\n",
            "  This is separate from the ipykernel package so we can avoid doing imports until\n"
          ],
          "name": "stderr"
        }
      ]
    },
    {
      "cell_type": "code",
      "metadata": {
        "colab": {
          "base_uri": "https://localhost:8080/"
        },
        "id": "0zuLXR9rV_Qf",
        "outputId": "0cc7b653-0bfc-4b95-fba0-6941dc0983f4"
      },
      "source": [
        "rfr2 = r2_score(pred_r,y_test)\n",
        "rfr2"
      ],
      "execution_count": 370,
      "outputs": [
        {
          "output_type": "execute_result",
          "data": {
            "text/plain": [
              "0.6169181773947706"
            ]
          },
          "metadata": {
            "tags": []
          },
          "execution_count": 370
        }
      ]
    },
    {
      "cell_type": "code",
      "metadata": {
        "colab": {
          "base_uri": "https://localhost:8080/"
        },
        "id": "KymcpWrZDUtH",
        "outputId": "2d3e9747-8610-45e9-d79c-e02351080c5c"
      },
      "source": [
        "rfr2t = r2_score(pred_rt,y_train)\n",
        "rfr2t"
      ],
      "execution_count": 371,
      "outputs": [
        {
          "output_type": "execute_result",
          "data": {
            "text/plain": [
              "0.9408515190580042"
            ]
          },
          "metadata": {
            "tags": []
          },
          "execution_count": 371
        }
      ]
    },
    {
      "cell_type": "markdown",
      "metadata": {
        "id": "dDhGKeEKGlF1"
      },
      "source": [
        "for test data"
      ]
    },
    {
      "cell_type": "code",
      "metadata": {
        "colab": {
          "base_uri": "https://localhost:8080/"
        },
        "id": "vZvdSxLO7l_P",
        "outputId": "81c53306-f9d1-4c42-c7a8-d5196815763a"
      },
      "source": [
        "rfmae = mean_absolute_error(pred_r,y_test)\n",
        "rfmae"
      ],
      "execution_count": 372,
      "outputs": [
        {
          "output_type": "execute_result",
          "data": {
            "text/plain": [
              "4.696409638554217"
            ]
          },
          "metadata": {
            "tags": []
          },
          "execution_count": 372
        }
      ]
    },
    {
      "cell_type": "code",
      "metadata": {
        "colab": {
          "base_uri": "https://localhost:8080/"
        },
        "id": "cKb1MNUx71vK",
        "outputId": "400adb6f-0500-4826-b054-2a846dc562a5"
      },
      "source": [
        "rfmse = mean_squared_error(pred_r,y_test)\n",
        "rfmae"
      ],
      "execution_count": 373,
      "outputs": [
        {
          "output_type": "execute_result",
          "data": {
            "text/plain": [
              "4.696409638554217"
            ]
          },
          "metadata": {
            "tags": []
          },
          "execution_count": 373
        }
      ]
    },
    {
      "cell_type": "markdown",
      "metadata": {
        "id": "gc-F3Rn2GoDM"
      },
      "source": [
        "for train data"
      ]
    },
    {
      "cell_type": "code",
      "metadata": {
        "colab": {
          "base_uri": "https://localhost:8080/"
        },
        "id": "_2v534MsGpd-",
        "outputId": "8d90a764-857e-42fa-e62f-2132e8d91f73"
      },
      "source": [
        "rfmaet = mean_absolute_error(pred_rt,y_train)\n",
        "rfmaet"
      ],
      "execution_count": 374,
      "outputs": [
        {
          "output_type": "execute_result",
          "data": {
            "text/plain": [
              "1.937468277945617"
            ]
          },
          "metadata": {
            "tags": []
          },
          "execution_count": 374
        }
      ]
    },
    {
      "cell_type": "code",
      "metadata": {
        "colab": {
          "base_uri": "https://localhost:8080/"
        },
        "id": "ZWw9AYiXGuFk",
        "outputId": "5007e6c9-1ee2-4540-c8da-8f9674a01f53"
      },
      "source": [
        "rfmset = mean_squared_error(pred_rt,y_train)\n",
        "rfmset"
      ],
      "execution_count": 375,
      "outputs": [
        {
          "output_type": "execute_result",
          "data": {
            "text/plain": [
              "9.549693716012074"
            ]
          },
          "metadata": {
            "tags": []
          },
          "execution_count": 375
        }
      ]
    },
    {
      "cell_type": "markdown",
      "metadata": {
        "id": "QSwFztWhHTrE"
      },
      "source": [
        "# Bagging Regression"
      ]
    },
    {
      "cell_type": "code",
      "metadata": {
        "id": "I67DHpqeHXWC"
      },
      "source": [
        "from sklearn.ensemble import BaggingRegressor"
      ],
      "execution_count": 376,
      "outputs": []
    },
    {
      "cell_type": "code",
      "metadata": {
        "colab": {
          "base_uri": "https://localhost:8080/"
        },
        "id": "BLiZLpbBHdOy",
        "outputId": "30a5e37d-05ff-4a43-e6fa-5e8c7b2d0e5c"
      },
      "source": [
        "Bagging_Regressor = BaggingRegressor()\n",
        "Bagging_Regressor.fit(x_train,y_train)\n",
        "pred_b=Bagging_Regressor.predict(x_test)\n",
        "pred_bt=Bagging_Regressor.predict(x_train)"
      ],
      "execution_count": 377,
      "outputs": [
        {
          "output_type": "stream",
          "text": [
            "/usr/local/lib/python3.7/dist-packages/sklearn/ensemble/_bagging.py:399: DataConversionWarning: A column-vector y was passed when a 1d array was expected. Please change the shape of y to (n_samples, ), for example using ravel().\n",
            "  return column_or_1d(y, warn=True)\n"
          ],
          "name": "stderr"
        }
      ]
    },
    {
      "cell_type": "code",
      "metadata": {
        "colab": {
          "base_uri": "https://localhost:8080/"
        },
        "id": "iQfcF_a_V1KD",
        "outputId": "43ba6537-0f55-4f28-fb7d-11b65fc6e849"
      },
      "source": [
        "brr2 = r2_score(pred_b,y_test)\n",
        "brr2"
      ],
      "execution_count": 378,
      "outputs": [
        {
          "output_type": "execute_result",
          "data": {
            "text/plain": [
              "0.6238451870301193"
            ]
          },
          "metadata": {
            "tags": []
          },
          "execution_count": 378
        }
      ]
    },
    {
      "cell_type": "code",
      "metadata": {
        "colab": {
          "base_uri": "https://localhost:8080/"
        },
        "id": "Qkd7VAesDBL6",
        "outputId": "ebb644e2-157c-410b-feeb-f246e7050a77"
      },
      "source": [
        "brr2t = r2_score(pred_bt,y_train)\n",
        "brr2t"
      ],
      "execution_count": 379,
      "outputs": [
        {
          "output_type": "execute_result",
          "data": {
            "text/plain": [
              "0.9337711091063715"
            ]
          },
          "metadata": {
            "tags": []
          },
          "execution_count": 379
        }
      ]
    },
    {
      "cell_type": "markdown",
      "metadata": {
        "id": "3CwTwkIeFKlC"
      },
      "source": [
        "for test data"
      ]
    },
    {
      "cell_type": "code",
      "metadata": {
        "colab": {
          "base_uri": "https://localhost:8080/"
        },
        "id": "H5uIvH2MUP7P",
        "outputId": "579253a6-b6b1-4f0f-8ea0-b1d4e6db96d7"
      },
      "source": [
        "bgmse = mean_squared_error(pred_b,y_test)\n",
        "bgmse"
      ],
      "execution_count": 380,
      "outputs": [
        {
          "output_type": "execute_result",
          "data": {
            "text/plain": [
              "42.78313493975903"
            ]
          },
          "metadata": {
            "tags": []
          },
          "execution_count": 380
        }
      ]
    },
    {
      "cell_type": "code",
      "metadata": {
        "colab": {
          "base_uri": "https://localhost:8080/"
        },
        "id": "TD0tp5lHV5Cq",
        "outputId": "2631274e-bb8e-4b90-8fcd-bc1ad6a09a34"
      },
      "source": [
        "bgmae = mean_absolute_error(pred_b,y_test)\n",
        "bgmae"
      ],
      "execution_count": 381,
      "outputs": [
        {
          "output_type": "execute_result",
          "data": {
            "text/plain": [
              "4.421686746987951"
            ]
          },
          "metadata": {
            "tags": []
          },
          "execution_count": 381
        }
      ]
    },
    {
      "cell_type": "markdown",
      "metadata": {
        "id": "wcF2u4upFSc1"
      },
      "source": [
        "for train data"
      ]
    },
    {
      "cell_type": "code",
      "metadata": {
        "colab": {
          "base_uri": "https://localhost:8080/"
        },
        "id": "usu3ZRcTFOwM",
        "outputId": "0b0529f6-693d-4349-91ed-f02af9c92022"
      },
      "source": [
        "bgmset = mean_squared_error(pred_bt,y_train)\n",
        "bgmse"
      ],
      "execution_count": 382,
      "outputs": [
        {
          "output_type": "execute_result",
          "data": {
            "text/plain": [
              "42.78313493975903"
            ]
          },
          "metadata": {
            "tags": []
          },
          "execution_count": 382
        }
      ]
    },
    {
      "cell_type": "code",
      "metadata": {
        "colab": {
          "base_uri": "https://localhost:8080/"
        },
        "id": "aI-ujnCiFkCs",
        "outputId": "0b5829f0-7106-42e8-b424-067112a34835"
      },
      "source": [
        "bgmaet = mean_absolute_error(pred_bt,y_train)\n",
        "bgmaet"
      ],
      "execution_count": 383,
      "outputs": [
        {
          "output_type": "execute_result",
          "data": {
            "text/plain": [
              "2.0909063444108758"
            ]
          },
          "metadata": {
            "tags": []
          },
          "execution_count": 383
        }
      ]
    },
    {
      "cell_type": "markdown",
      "metadata": {
        "id": "UOQnFLsQMysB"
      },
      "source": [
        "# VotingRegressor"
      ]
    },
    {
      "cell_type": "code",
      "metadata": {
        "id": "vQ1Gjf0eMlQE",
        "colab": {
          "base_uri": "https://localhost:8080/"
        },
        "outputId": "2f5c2689-0601-4e83-c893-5879f2e1291d"
      },
      "source": [
        "from sklearn.ensemble import VotingRegressor\n",
        "VotingRegressor = VotingRegressor([('lr', lm), ('rf', random_forest)])\n",
        "VotingRegressor.fit(x_train,y_train)\n",
        "pred_v=VotingRegressor.predict(x_test)\n",
        "pred_vt=VotingRegressor.predict(x_train)"
      ],
      "execution_count": 384,
      "outputs": [
        {
          "output_type": "stream",
          "text": [
            "/usr/local/lib/python3.7/dist-packages/sklearn/ensemble/_voting.py:406: DataConversionWarning: A column-vector y was passed when a 1d array was expected. Please change the shape of y to (n_samples, ), for example using ravel().\n",
            "  y = column_or_1d(y, warn=True)\n"
          ],
          "name": "stderr"
        }
      ]
    },
    {
      "cell_type": "code",
      "metadata": {
        "colab": {
          "base_uri": "https://localhost:8080/"
        },
        "id": "hw-4Di8mVY5e",
        "outputId": "a8a821d1-6db8-4414-e17f-0f4e1479e7e1"
      },
      "source": [
        "vrr2 = r2_score(pred_v,y_test)\n",
        "vrr2"
      ],
      "execution_count": 385,
      "outputs": [
        {
          "output_type": "execute_result",
          "data": {
            "text/plain": [
              "0.5978445389292044"
            ]
          },
          "metadata": {
            "tags": []
          },
          "execution_count": 385
        }
      ]
    },
    {
      "cell_type": "code",
      "metadata": {
        "colab": {
          "base_uri": "https://localhost:8080/"
        },
        "id": "nJGZmXtiCwPX",
        "outputId": "ce5e125f-dfb6-4846-aec5-98373225661a"
      },
      "source": [
        "vrr2t = r2_score(pred_vt,y_train)\n",
        "vrr2t"
      ],
      "execution_count": 386,
      "outputs": [
        {
          "output_type": "execute_result",
          "data": {
            "text/plain": [
              "0.7779164783922364"
            ]
          },
          "metadata": {
            "tags": []
          },
          "execution_count": 386
        }
      ]
    },
    {
      "cell_type": "markdown",
      "metadata": {
        "id": "Y4TpanwYFu6_"
      },
      "source": [
        "for test data"
      ]
    },
    {
      "cell_type": "code",
      "metadata": {
        "colab": {
          "base_uri": "https://localhost:8080/"
        },
        "id": "tWDyq1K5VddX",
        "outputId": "fd2499c4-7352-49e6-9047-44a162abf8ee"
      },
      "source": [
        "vrmae = mean_absolute_error(pred_v,y_test)\n",
        "vrmae"
      ],
      "execution_count": 387,
      "outputs": [
        {
          "output_type": "execute_result",
          "data": {
            "text/plain": [
              "4.5252214293970345"
            ]
          },
          "metadata": {
            "tags": []
          },
          "execution_count": 387
        }
      ]
    },
    {
      "cell_type": "code",
      "metadata": {
        "colab": {
          "base_uri": "https://localhost:8080/"
        },
        "id": "10bgBg7OVgly",
        "outputId": "4809a34e-c874-46e7-bd5d-5b801a0d133a"
      },
      "source": [
        "vrmse = mean_squared_error(pred_v,y_test)\n",
        "vrmse"
      ],
      "execution_count": 388,
      "outputs": [
        {
          "output_type": "execute_result",
          "data": {
            "text/plain": [
              "44.77698381839039"
            ]
          },
          "metadata": {
            "tags": []
          },
          "execution_count": 388
        }
      ]
    },
    {
      "cell_type": "markdown",
      "metadata": {
        "id": "gNO92rSqF0Ff"
      },
      "source": [
        "for train data"
      ]
    },
    {
      "cell_type": "code",
      "metadata": {
        "colab": {
          "base_uri": "https://localhost:8080/"
        },
        "id": "yidFnOcmFyn8",
        "outputId": "fdaf0743-032e-4dcf-bc4c-78a6d110095f"
      },
      "source": [
        "vrmaet = mean_absolute_error(pred_vt,y_train)\n",
        "vrmaet"
      ],
      "execution_count": 389,
      "outputs": [
        {
          "output_type": "execute_result",
          "data": {
            "text/plain": [
              "3.3788302108026547"
            ]
          },
          "metadata": {
            "tags": []
          },
          "execution_count": 389
        }
      ]
    },
    {
      "cell_type": "code",
      "metadata": {
        "colab": {
          "base_uri": "https://localhost:8080/"
        },
        "id": "Cn_oj5MYGCJa",
        "outputId": "6e30eb45-0a63-4dc7-f9bf-66fedf81dd87"
      },
      "source": [
        "vrmset = mean_squared_error(pred_vt,y_train)\n",
        "vrmset"
      ],
      "execution_count": 390,
      "outputs": [
        {
          "output_type": "execute_result",
          "data": {
            "text/plain": [
              "29.797714074210873"
            ]
          },
          "metadata": {
            "tags": []
          },
          "execution_count": 390
        }
      ]
    },
    {
      "cell_type": "markdown",
      "metadata": {
        "id": "eN14OPKBT5Fn"
      },
      "source": [
        "#ExtraTreesRegression"
      ]
    },
    {
      "cell_type": "code",
      "metadata": {
        "colab": {
          "base_uri": "https://localhost:8080/"
        },
        "id": "WcN-N4meT_9J",
        "outputId": "91f30082-cc79-482d-ad20-4e832a1d04f4"
      },
      "source": [
        "from sklearn.ensemble import ExtraTreesRegressor\n",
        "extra_trees = ExtraTreesRegressor()\n",
        "extra_trees.fit(x_train,y_train)\n",
        "pred_extra=extra_trees.predict(x_test)\n",
        "pred_extrat=extra_trees.predict(x_train)\n"
      ],
      "execution_count": 391,
      "outputs": [
        {
          "output_type": "stream",
          "text": [
            "/usr/local/lib/python3.7/dist-packages/ipykernel_launcher.py:3: DataConversionWarning: A column-vector y was passed when a 1d array was expected. Please change the shape of y to (n_samples,), for example using ravel().\n",
            "  This is separate from the ipykernel package so we can avoid doing imports until\n"
          ],
          "name": "stderr"
        }
      ]
    },
    {
      "cell_type": "code",
      "metadata": {
        "colab": {
          "base_uri": "https://localhost:8080/"
        },
        "id": "jyx1RX_IVFFH",
        "outputId": "836cfd7b-dc42-4d67-c2d6-1231007b2f6e"
      },
      "source": [
        "etr2 = r2_score(pred_extra,y_test)\n",
        "etr2"
      ],
      "execution_count": 392,
      "outputs": [
        {
          "output_type": "execute_result",
          "data": {
            "text/plain": [
              "0.6297969230219891"
            ]
          },
          "metadata": {
            "tags": []
          },
          "execution_count": 392
        }
      ]
    },
    {
      "cell_type": "code",
      "metadata": {
        "colab": {
          "base_uri": "https://localhost:8080/"
        },
        "id": "VRDWmJC2CnrD",
        "outputId": "d4749173-ec51-4007-da1c-25fd722614ac"
      },
      "source": [
        "etr2t = r2_score(pred_extrat,y_train)\n",
        "etr2t"
      ],
      "execution_count": 393,
      "outputs": [
        {
          "output_type": "execute_result",
          "data": {
            "text/plain": [
              "0.9999999955375589"
            ]
          },
          "metadata": {
            "tags": []
          },
          "execution_count": 393
        }
      ]
    },
    {
      "cell_type": "markdown",
      "metadata": {
        "id": "Yyl_03aAGKom"
      },
      "source": [
        "for test data"
      ]
    },
    {
      "cell_type": "code",
      "metadata": {
        "colab": {
          "base_uri": "https://localhost:8080/"
        },
        "id": "JPAQyJ17VH6G",
        "outputId": "af800ea7-d077-4b7e-f603-6c75abae4e09"
      },
      "source": [
        "etmae = mean_absolute_error(pred_extra,y_test)\n",
        "etmae"
      ],
      "execution_count": 394,
      "outputs": [
        {
          "output_type": "execute_result",
          "data": {
            "text/plain": [
              "4.832409638554214"
            ]
          },
          "metadata": {
            "tags": []
          },
          "execution_count": 394
        }
      ]
    },
    {
      "cell_type": "code",
      "metadata": {
        "colab": {
          "base_uri": "https://localhost:8080/"
        },
        "id": "65w6UMf3VKfE",
        "outputId": "9b85972a-fe98-4b38-d52d-71f101c4fbf5"
      },
      "source": [
        "etmse = mean_squared_error(pred_extra,y_test)\n",
        "etmse"
      ],
      "execution_count": 395,
      "outputs": [
        {
          "output_type": "execute_result",
          "data": {
            "text/plain": [
              "48.11897060240956"
            ]
          },
          "metadata": {
            "tags": []
          },
          "execution_count": 395
        }
      ]
    },
    {
      "cell_type": "markdown",
      "metadata": {
        "id": "bEYKNLjnGMNJ"
      },
      "source": [
        "for train data"
      ]
    },
    {
      "cell_type": "code",
      "metadata": {
        "colab": {
          "base_uri": "https://localhost:8080/"
        },
        "id": "EwGyULYxGOUD",
        "outputId": "6cca3797-8df9-4183-b6e2-d9d485a65cb8"
      },
      "source": [
        "etmaet = mean_absolute_error(pred_extrat,y_train)\n",
        "etmaet"
      ],
      "execution_count": 396,
      "outputs": [
        {
          "output_type": "execute_result",
          "data": {
            "text/plain": [
              "7.250755291248445e-05"
            ]
          },
          "metadata": {
            "tags": []
          },
          "execution_count": 396
        }
      ]
    },
    {
      "cell_type": "code",
      "metadata": {
        "colab": {
          "base_uri": "https://localhost:8080/"
        },
        "id": "-O3rA3buGYCP",
        "outputId": "1eef580b-b3b7-413c-929f-252fe7c45c38"
      },
      "source": [
        "etmset = mean_squared_error(pred_extrat,y_train)\n",
        "etmset"
      ],
      "execution_count": 397,
      "outputs": [
        {
          "output_type": "execute_result",
          "data": {
            "text/plain": [
              "8.700906344380623e-07"
            ]
          },
          "metadata": {
            "tags": []
          },
          "execution_count": 397
        }
      ]
    },
    {
      "cell_type": "markdown",
      "metadata": {
        "id": "q42qSmNJ4HS0"
      },
      "source": [
        "# mean absolute error for test data"
      ]
    },
    {
      "cell_type": "code",
      "metadata": {
        "id": "wwve7RZD4JwY"
      },
      "source": [
        "absolute_error_sonuc = pd.DataFrame({\n",
        "    'Model': ['Linear Regression', 'Extra Trees Regressor', 'AdaBoost Regressor', 'Bagging Regressor', 'Random Forest Regressor ','Voting Regressor'],\n",
        "    'mean_absolute_error': [lmae, etmae, abmae, bgmae, rfmae, vrmae]})"
      ],
      "execution_count": 398,
      "outputs": []
    },
    {
      "cell_type": "code",
      "metadata": {
        "colab": {
          "base_uri": "https://localhost:8080/",
          "height": 404
        },
        "id": "dUN1HbJ54u6i",
        "outputId": "e27d94b9-fc0a-49de-8901-61658e9b19af"
      },
      "source": [
        "plt.figure(figsize=[15,6])\n",
        "mae = absolute_error_sonuc['Model']\n",
        "plt.plot(mae, absolute_error_sonuc['mean_absolute_error'], label = 'mean absolute error')\n",
        "plt.legend()\n",
        "plt.title('mean absolute error test data')\n",
        "plt.xlabel('Models')\n",
        "plt.ylabel('mean absolute error for test data')\n",
        "plt.show()"
      ],
      "execution_count": 399,
      "outputs": [
        {
          "output_type": "display_data",
          "data": {
            "image/png": "[encoded data removed]",
            "text/plain": [
              "<Figure size 1080x432 with 1 Axes>"
            ]
          },
          "metadata": {
            "tags": [],
            "needs_background": "light"
          }
        }
      ]
    },
    {
      "cell_type": "markdown",
      "metadata": {
        "id": "qs_U3alx-Je1"
      },
      "source": [
        "# mean absolute error for train data"
      ]
    },
    {
      "cell_type": "code",
      "metadata": {
        "id": "td4AOizc-MOf"
      },
      "source": [
        "absolute_error_sonuct = pd.DataFrame({\n",
        "    'Model': ['Linear Regression', 'Extra Trees Regressor', 'AdaBoost Regressor', 'Bagging Regressor', 'Random Forest Regressor ','Voting Regressor'],\n",
        "    'mean_absolute_error': [lmaet, etmaet, abmaet, bgmaet, rfmaet, vrmaet]})"
      ],
      "execution_count": 400,
      "outputs": []
    },
    {
      "cell_type": "code",
      "metadata": {
        "colab": {
          "base_uri": "https://localhost:8080/",
          "height": 404
        },
        "id": "LDPXgaZo-Win",
        "outputId": "d5e0904e-7478-4a5f-bc07-2931d521bb01"
      },
      "source": [
        "plt.figure(figsize=[15,6])\n",
        "maet = absolute_error_sonuct['Model']\n",
        "plt.plot(maet, absolute_error_sonuct['mean_absolute_error'], label = 'mean absolute error')\n",
        "plt.legend()\n",
        "plt.title('mean absolute error for train data')\n",
        "plt.xlabel('Models')\n",
        "plt.ylabel('mean absolute error for train data')\n",
        "plt.show()"
      ],
      "execution_count": 401,
      "outputs": [
        {
          "output_type": "display_data",
          "data": {
            "image/png": "[encoded data removed]",
            "text/plain": [
              "<Figure size 1080x432 with 1 Axes>"
            ]
          },
          "metadata": {
            "tags": [],
            "needs_background": "light"
          }
        }
      ]
    },
    {
      "cell_type": "markdown",
      "metadata": {
        "id": "X5h2ZPQ5-5fp"
      },
      "source": [
        "# mean squared error for test data"
      ]
    },
    {
      "cell_type": "code",
      "metadata": {
        "id": "k1QKxuEQ-9s0"
      },
      "source": [
        "squared_error_sonuc = pd.DataFrame({\n",
        "    'Model': ['Linear Regression', 'Extra Trees Regressor', 'AdaBoost Regressor', 'Bagging Regressor', 'Random Forest Regressor ','Voting Regressor'],\n",
        "    'mean_squared_error': [lmse, etmse, abmse, bgmse, rfmse, vrmse]})"
      ],
      "execution_count": 402,
      "outputs": []
    },
    {
      "cell_type": "code",
      "metadata": {
        "colab": {
          "base_uri": "https://localhost:8080/",
          "height": 404
        },
        "id": "KGJh67C2_Vwm",
        "outputId": "de9f472b-c673-47d2-db2d-cf6800e0c79e"
      },
      "source": [
        "plt.figure(figsize=[15,6])\n",
        "mse = squared_error_sonuc['Model']\n",
        "plt.plot(mse, squared_error_sonuc['mean_squared_error'], label = 'mean squared error')\n",
        "plt.legend()\n",
        "plt.title('mean squared error for test data')\n",
        "plt.xlabel('Models')\n",
        "plt.ylabel('mean squared error for train data')\n",
        "plt.show()"
      ],
      "execution_count": 403,
      "outputs": [
        {
          "output_type": "display_data",
          "data": {
            "image/png": "[encoded data removed]",
            "text/plain": [
              "<Figure size 1080x432 with 1 Axes>"
            ]
          },
          "metadata": {
            "tags": [],
            "needs_background": "light"
          }
        }
      ]
    },
    {
      "cell_type": "markdown",
      "metadata": {
        "id": "E4pP27G6CJhW"
      },
      "source": [
        "# mean squared error for train data"
      ]
    },
    {
      "cell_type": "code",
      "metadata": {
        "id": "Aqso-u0eCSH9"
      },
      "source": [
        "squared_error_sonuct = pd.DataFrame({\n",
        "    'Model': ['Linear Regression', 'Extra Trees Regressor', 'AdaBoost Regressor', 'Bagging Regressor', 'Random Forest Regressor ','Voting Regressor'],\n",
        "    'mean_squared_error': [lmset, etmset, abmset, bgmset, rfmset, vrmset]})"
      ],
      "execution_count": 404,
      "outputs": []
    },
    {
      "cell_type": "code",
      "metadata": {
        "colab": {
          "base_uri": "https://localhost:8080/",
          "height": 404
        },
        "id": "hpezrfjLCaoW",
        "outputId": "4509de46-1d8c-4fc6-90f8-0013afa1f305"
      },
      "source": [
        "plt.figure(figsize=[15,6])\n",
        "mset = squared_error_sonuct['Model']\n",
        "plt.plot(mset, squared_error_sonuct['mean_squared_error'], label = 'mean squared error')\n",
        "plt.legend()\n",
        "plt.title('mean squared error for train data')\n",
        "plt.xlabel('Models')\n",
        "plt.ylabel('mean squared error for train data')\n",
        "plt.show()"
      ],
      "execution_count": 405,
      "outputs": [
        {
          "output_type": "display_data",
          "data": {
            "image/png": "[encoded data removed]",
            "text/plain": [
              "<Figure size 1080x432 with 1 Axes>"
            ]
          },
          "metadata": {
            "tags": [],
            "needs_background": "light"
          }
        }
      ]
    },
    {
      "cell_type": "markdown",
      "metadata": {
        "id": "drjieguFEJcb"
      },
      "source": [
        "# r2 score for test data"
      ]
    },
    {
      "cell_type": "code",
      "metadata": {
        "id": "OEMlfAbJEtt5"
      },
      "source": [
        "r2_score_sonuc = pd.DataFrame({\n",
        "    'Model': ['Linear Regression', 'Extra Trees Regressor', 'AdaBoost Regressor', 'Bagging Regressor', 'Random Forest Regressor ','Voting Regressor'],\n",
        "    'r2_score': [lr2, etr2, abr2, brr2, rfr2, vrr2]})"
      ],
      "execution_count": 406,
      "outputs": []
    },
    {
      "cell_type": "code",
      "metadata": {
        "colab": {
          "base_uri": "https://localhost:8080/",
          "height": 404
        },
        "id": "tr6Yg98vFy_t",
        "outputId": "4a3ab86c-eab6-4e3c-b944-2c11b9a56748"
      },
      "source": [
        "plt.figure(figsize=[15,6])\n",
        "r2 = r2_score_sonuc['Model']\n",
        "plt.plot(r2, r2_score_sonuc['r2_score'], label = 'r2 score')\n",
        "plt.legend()\n",
        "plt.title('r2 score for test data')\n",
        "plt.xlabel('Models')\n",
        "plt.ylabel('r2 score for test data')\n",
        "plt.show()"
      ],
      "execution_count": 407,
      "outputs": [
        {
          "output_type": "display_data",
          "data": {
            "image/png": "[encoded data removed]",
            "text/plain": [
              "<Figure size 1080x432 with 1 Axes>"
            ]
          },
          "metadata": {
            "tags": [],
            "needs_background": "light"
          }
        }
      ]
    },
    {
      "cell_type": "markdown",
      "metadata": {
        "id": "Nq_zQ6BbGMnC"
      },
      "source": [
        "# r2 score for train data"
      ]
    },
    {
      "cell_type": "code",
      "metadata": {
        "id": "mn9jsJWRGP4N"
      },
      "source": [
        "r2_score_sonuct = pd.DataFrame({\n",
        "    'Model': ['Linear Regression', 'Extra Trees Regressor', 'AdaBoost Regressor', 'Bagging Regressor', 'Random Forest Regressor ','Voting Regressor'],\n",
        "    'r2_score': [lr2t, etr2t, abr2t, brr2t, rfr2t, vrr2t]})"
      ],
      "execution_count": 408,
      "outputs": []
    },
    {
      "cell_type": "code",
      "metadata": {
        "colab": {
          "base_uri": "https://localhost:8080/",
          "height": 404
        },
        "id": "Eiqo35y_GWTZ",
        "outputId": "720682f1-27b1-46f6-d84f-da21bb98ba60"
      },
      "source": [
        "plt.figure(figsize=[15,6])\n",
        "r2t = r2_score_sonuct['Model']\n",
        "plt.plot(r2t, r2_score_sonuct['r2_score'], label = 'r2 score')\n",
        "plt.legend()\n",
        "plt.title('r2 score for train data')\n",
        "plt.xlabel('Models')\n",
        "plt.ylabel('r2 score for train data')\n",
        "plt.show()"
      ],
      "execution_count": 409,
      "outputs": [
        {
          "output_type": "display_data",
          "data": {
            "image/png": "[encoded data removed]",
            "text/plain": [
              "<Figure size 1080x432 with 1 Axes>"
            ]
          },
          "metadata": {
            "tags": [],
            "needs_background": "light"
          }
        }
      ]
    }
  ]
}