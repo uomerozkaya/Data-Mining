{
  "nbformat": 4,
  "nbformat_minor": 0,
  "metadata": {
    "colab": {
      "name": "Data Mining - Metrics",
      "provenance": [],
      "collapsed_sections": [
        "wkaLK05wVfkf",
        "NrXybRrjV5fB",
        "hDuUPZ9-WA3P",
        "FT-23OdGY1zE",
        "VW6-N-72WS_8",
        "jqG-jxu5rLoR"
      ],
      "toc_visible": true,
      "mount_file_id": "1S1aOFjaBju6-UtD1Qfv60YwFX8l2DqWe",
      "authorship_tag": "ABX9TyNGfCevgqxo9tmDg1t9t5+0",
      "include_colab_link": true
    },
    "kernelspec": {
      "name": "python3",
      "display_name": "Python 3"
    },
    "language_info": {
      "name": "python"
    }
  },
  "cells": [
    {
      "cell_type": "markdown",
      "metadata": {
        "id": "view-in-github",
        "colab_type": "text"
      },
      "source": [
        "<a href=\"https://colab.research.google.com/github/uomerozkaya/Data-Mining/blob/master/Data_Mining_Metrics.ipynb\" target=\"_parent\"><img src=\"https://colab.research.google.com/assets/colab-badge.svg\" alt=\"Open In Colab\"/></a>"
      ]
    },
    {
      "cell_type": "markdown",
      "metadata": {
        "id": "9ApTG63uFM9L"
      },
      "source": [
        "\n",
        "Our goal is to examine the metrics used for data mining. Which are these;\n",
        "\n",
        "\n",
        "1.   Cossine Similarity\n",
        "2.   Euclidian distance\n",
        "3.   Manhattan Distance\n",
        "4.   Hamming Distance\n",
        "5.   Minkowski Distance\n",
        "6.   Correlation\n",
        "\n",
        "\n",
        "\n",
        "\n"
      ]
    },
    {
      "cell_type": "code",
      "metadata": {
        "id": "MOYFphA_X7C6",
        "colab": {
          "base_uri": "https://localhost:8080/"
        },
        "outputId": "68bb87cc-4964-44f2-dcc7-1c3dc1860f82"
      },
      "source": [
        "import math\n",
        "list1 = []\n",
        "number = int(input(\"Enter list1 length\"))\n",
        "print(\"Enter numbers\")\n",
        "for i in range(number):\n",
        "    data = int(input())\n",
        "    list1.append(data)\n",
        "list2 = []\n",
        "number = int(input(\"Enter list2 length\"))\n",
        "print(\"Enter numbers\")\n",
        "for i in range(number):\n",
        "    data = int(input())\n",
        "    list2.append(data)"
      ],
      "execution_count": null,
      "outputs": [
        {
          "output_type": "stream",
          "text": [
            "Enter list1 length5\n",
            "Enter numbers\n",
            "5\n",
            "5\n",
            "5\n",
            "10\n",
            "5\n",
            "Enter list2 length5\n",
            "Enter numbers\n",
            "0\n",
            "0\n",
            "5\n",
            "10\n",
            "0\n"
          ],
          "name": "stdout"
        }
      ]
    },
    {
      "cell_type": "markdown",
      "metadata": {
        "id": "wkaLK05wVfkf"
      },
      "source": [
        "##Cossine Similarity"
      ]
    },
    {
      "cell_type": "markdown",
      "metadata": {
        "id": "JH9AZmF6GUFM"
      },
      "source": [
        "First, I want to do some calculations to help us calculate some of these functions. Firstly; Let's start with dot product.\n",
        "\n",
        "<img src = \"https://wikimedia.org/api/rest_v1/media/math/render/svg/5bd0b488ad92250b4e7c2f8ac92f700f8aefddd5\" width=400 />"
      ]
    },
    {
      "cell_type": "code",
      "metadata": {
        "colab": {
          "base_uri": "https://localhost:8080/"
        },
        "id": "5J_mLDg-SUEz",
        "outputId": "151bb660-856c-41d8-8699-5de98e34318a"
      },
      "source": [
        "def dot_product(k,l):\n",
        "    toplam = 0\n",
        "    if len(k) == len(l):\n",
        "        for a,b in zip(k,l):\n",
        "            toplam += a*b\n",
        "        return toplam\n",
        "print(\"dot_product = \",dot_product(list1, list2))"
      ],
      "execution_count": null,
      "outputs": [
        {
          "output_type": "stream",
          "text": [
            "dot_product =  50\n"
          ],
          "name": "stdout"
        }
      ]
    },
    {
      "cell_type": "markdown",
      "metadata": {
        "id": "Tf6GUtifIkrn"
      },
      "source": [
        "We need to calculate the vector length. This formula is below;\n",
        "\n",
        "<img src = \"https://wikimedia.org/api/rest_v1/media/math/render/svg/34d06abe89c597300903a2fe2612b69aa6b7f772\" width=300 />\n",
        "\n",
        "şeklinde ifade edilen vektörün boyu;\n",
        "\n",
        "<img src = \"https://wikimedia.org/api/rest_v1/media/math/render/svg/ec1c4bafc0748c4bd4730d649b433ec5f2d3dcb2\" width=300 />\n"
      ]
    },
    {
      "cell_type": "code",
      "metadata": {
        "colab": {
          "base_uri": "https://localhost:8080/"
        },
        "id": "nk5lFyIEImt5",
        "outputId": "8e9b34c6-a7c8-480b-99a1-0c07d318a995"
      },
      "source": [
        "def vektor_length(k):\n",
        "    toplam = 0\n",
        "    if len(k) > 0:\n",
        "        for a in k:\n",
        "            toplam += a**2\n",
        "        return math.sqrt(toplam)\n",
        "print(\"vektor_boyu = \",vektor_length(list1))"
      ],
      "execution_count": null,
      "outputs": [
        {
          "output_type": "stream",
          "text": [
            "vektor_boyu =  5.0\n"
          ],
          "name": "stdout"
        }
      ]
    },
    {
      "cell_type": "markdown",
      "metadata": {
        "id": "xwId46eXK9mh"
      },
      "source": [
        "after requirely calculations, next metric function is cossine similarity.\n",
        "formulated status is below;\n",
        "\n",
        "<img src = \"https://wikimedia.org/api/rest_v1/media/math/render/svg/1d94e5903f7936d3c131e040ef2c51b473dd071d\" width=400 />"
      ]
    },
    {
      "cell_type": "code",
      "metadata": {
        "colab": {
          "base_uri": "https://localhost:8080/"
        },
        "id": "wN2La8mgK8wd",
        "outputId": "fcd95658-18c2-4e8f-db3c-4bd5b3f977fd"
      },
      "source": [
        "def cosine_similarity(k,l):\n",
        "    return dot_product(k,l)/(vektor_length(k)*vektor_length(l))\n",
        "print(\"cosine_similarity = \",cosine_similarity(list1, list2))"
      ],
      "execution_count": null,
      "outputs": [
        {
          "output_type": "stream",
          "text": [
            "cosine_similarity =  1.0\n"
          ],
          "name": "stdout"
        }
      ]
    },
    {
      "cell_type": "markdown",
      "metadata": {
        "id": "NrXybRrjV5fB"
      },
      "source": [
        "#Euclidian Distance "
      ]
    },
    {
      "cell_type": "markdown",
      "metadata": {
        "id": "u_KYftoPMCda"
      },
      "source": [
        "Euclidean distance is of central importance in statistics, where it is used in the method of least squares, a standard method of fitting statistical estimates to data by minimizing the average of the squared distances between observed and estimated values. The Euclidean Distance tool is used frequently as a stand-alone tool for applications, such as finding the nearest hospital for an emergency helicopter flight. Alternatively, this tool can be used when creating a suitability map, when data representing the distance from a certain object is needed.\n",
        "\n",
        "Assume *p* and *q* are vectors;\n",
        "\n",
        "<img src = \"https://wikimedia.org/api/rest_v1/media/math/render/svg/358aac90f70a828c1214ac8630e41c13926cae21\" width=200 /> \n",
        "\n",
        "Euclidean Distance is the square root of the sum of the squares of the distances between the *p* and *q* elements. More clearly;\n",
        "\n",
        "<img src = \"https://wikimedia.org/api/rest_v1/media/math/render/svg/2e0c9ce1b3455cb9e92c6bad6684dbda02f69c82\" width=400/> \n",
        "\n",
        "\n",
        "We can better understand the concept in question on the coordinate plane as follows. *q1* and *q2* are the ordered elements of the vector *q*; *p1* and *p2* are the ordered elements of the vector *p*.\n",
        "\n",
        "\n",
        "<img src = \"https://upload.wikimedia.org/wikipedia/commons/thumb/5/55/Euclidean_distance_2d.svg/800px-Euclidean_distance_2d.svg.png\" width=300 />"
      ]
    },
    {
      "cell_type": "code",
      "metadata": {
        "colab": {
          "base_uri": "https://localhost:8080/"
        },
        "id": "Oia4YHQJSQYx",
        "outputId": "aef7bdb6-d6d4-405a-9561-4b04593697d3"
      },
      "source": [
        "def euclidian_distance(k,l):\n",
        "    sonuc = 0\n",
        "    for a,b in zip(k,l):\n",
        "        sonuc += (a-b)**2\n",
        "    return math.sqrt(sonuc)  \n",
        "print(\"Euclidean distance = \",euclidian_distance(list1,list2)) "
      ],
      "execution_count": null,
      "outputs": [
        {
          "output_type": "stream",
          "text": [
            "Euclidean distance =  1.4142135623730951\n"
          ],
          "name": "stdout"
        }
      ]
    },
    {
      "cell_type": "markdown",
      "metadata": {
        "id": "hDuUPZ9-WA3P"
      },
      "source": [
        "#Manhattan Distance"
      ]
    },
    {
      "cell_type": "markdown",
      "metadata": {
        "id": "_bF56ow2PFen"
      },
      "source": [
        "It is called the Manhattan distance because it is the distance a car would drive in a city (e.g., Manhattan) where the buildings are laid out in square blocks and the straight streets intersect at right angles. This explains the other terms City Block and taxicab distances.\n",
        "We use Manhattan distance, also known as city block distance, or taxicab geometry if we need to calculate the distance between two data points in a grid-like path.\n",
        "\n",
        "p and q are vectors.Represented below;\n",
        "\n",
        "<img src = \"https://wikimedia.org/api/rest_v1/media/math/render/svg/3be69c76d8560e245117031391182ca0cd95130d\" width=400 />\n",
        "\n",
        "\n",
        "In this context, the manhattan distance formulated version is as follows;\n",
        "\n",
        "<img src = \"https://wikimedia.org/api/rest_v1/media/math/render/svg/02436c34fc9562eb170e2e2cfddbb3303075b28e\" width=350 />\n",
        "\n",
        "We can explain the image pictured below as follows;\n",
        "the blue one is euclidian distance,\n",
        "green and red lines represent manhattan distance metric;\n",
        "> <img src = \"https://media.springernature.com/full/springer-static/image/art%3A10.1007%2Fs10462-019-09712-9/MediaObjects/10462_2019_9712_Fig3_HTML.png?as=webp\" width=200 /> \n",
        "\n"
      ]
    },
    {
      "cell_type": "code",
      "metadata": {
        "colab": {
          "base_uri": "https://localhost:8080/"
        },
        "id": "WqCJ5ZabMA9R",
        "outputId": "14097f06-73b0-406d-f016-3937484d4126"
      },
      "source": [
        "def manhattan_distance(k,l):\n",
        "    if len(k) == len(l):\n",
        "        toplam = 0\n",
        "        for a,b in zip(k,l):\n",
        "            toplam += abs(a-b)\n",
        "        return toplam\n",
        "print(\"manhattan_distance = \",manhattan_distance(list1,list2))"
      ],
      "execution_count": null,
      "outputs": [
        {
          "output_type": "stream",
          "text": [
            "manhattan_distance =  27\n"
          ],
          "name": "stdout"
        }
      ]
    },
    {
      "cell_type": "markdown",
      "metadata": {
        "id": "FT-23OdGY1zE"
      },
      "source": [
        "# Minkowski Distance"
      ]
    },
    {
      "cell_type": "markdown",
      "metadata": {
        "id": "Thbe7lhemRco"
      },
      "source": [
        "Applications of Minkowshi Distance are:\n",
        "\n",
        "Fuzzy Clustering with Minkowski Distance Functions\n",
        "\n",
        "A Framework for a Minkowski Distance Based Multi Metric Quality of Service Monitoring Infrastructure for Mobile Ad Hoc Networks\n",
        "\n",
        "Euclidean distance and Manhattan distance are same as Minkowshi Distance, hence, the applications of the previous two distance metrics are applications of Minkowshi Distance.\n",
        "\n",
        "\n",
        "Let *X* and *Y* be two vectors;\n",
        "\n",
        "<img src = \"https://wikimedia.org/api/rest_v1/media/math/render/svg/6d7865dead8d868ca3c6aa04e182a552d7f4fbc9\" width=500/>\n",
        "\n",
        "*Minkowski Distance* metric is as formulated below. **For p> 1**, the Minkowski distance is a result of the Minkowski function. \n",
        "Looking carefully Minkowski Distance,\n",
        "equivalent to formulas; \n",
        "*  Euclidian distance for p = 2,\n",
        "*  Manhattan distance for p = 1\n",
        ".\n",
        "\n",
        "<img src = \"https://wikimedia.org/api/rest_v1/media/math/render/svg/4ed8b780e0d3224880760b1745c444481590ee86\" width=250 />"
      ]
    },
    {
      "cell_type": "code",
      "metadata": {
        "colab": {
          "base_uri": "https://localhost:8080/"
        },
        "id": "hXZeVvZVY65Z",
        "outputId": "825f3777-948d-4b57-ad9f-07d890309432"
      },
      "source": [
        "def minkowski_distance(k, l, p):\n",
        "\treturn sum(abs(a-b)**p for a, b in zip(k,l))**(1/p)\n",
        "print(\"minkowski dinstance = \" , minkowski_distance(list1, list2, 2))"
      ],
      "execution_count": null,
      "outputs": [
        {
          "output_type": "stream",
          "text": [
            "minkowski dinstance =  8.660254037844387\n"
          ],
          "name": "stdout"
        }
      ]
    },
    {
      "cell_type": "markdown",
      "metadata": {
        "id": "VW6-N-72WS_8"
      },
      "source": [
        "#Hamming Distance"
      ]
    },
    {
      "cell_type": "markdown",
      "metadata": {
        "id": "zwMlugBxWc5P"
      },
      "source": [
        "The Hamming distance between two strings, a and b is denoted as d(a,b). It is used for error detection or error correction when data is transmitted over computer networks. It is also using in coding theory for comparing equal length data words.\n",
        "\n",
        "\n",
        "When calculating the **Hamming distance** metric, it will be more explanatory to use the binary number sequence to explain the formula. Therefore, we wrote our code in accordance with this condition.. \n",
        "\n",
        "Let's assume **1011101** and **1001001** binary numbers as two vectors.\n",
        "Our result is the number of those that differ from their mutual elements. So based on the two vectors we have given, our result will be 2. "
      ]
    },
    {
      "cell_type": "code",
      "metadata": {
        "colab": {
          "base_uri": "https://localhost:8080/"
        },
        "id": "JBH4usD3WbdP",
        "outputId": "5b9aba01-5a43-4053-f93e-0367412aeead"
      },
      "source": [
        "def hamming_distance(k,l):\n",
        "    toplam = 0\n",
        "    for a,b in zip(k,l):\n",
        "        if a == 0 or a == 1 and b == 0 or b == 1:\n",
        "            if a != b:\n",
        "                toplam += 1      \n",
        "        else:\n",
        "            toplam = \"lütfen binary sayi giriniz!\"\n",
        "    return toplam / len(k)\n",
        "print(\"hamming distance = \",hamming_distance(list1, list2))"
      ],
      "execution_count": null,
      "outputs": [
        {
          "output_type": "stream",
          "text": [
            "hamming distance =  0.25\n"
          ],
          "name": "stdout"
        }
      ]
    },
    {
      "cell_type": "markdown",
      "metadata": {
        "id": "vX4A6uf8mKcx"
      },
      "source": [
        "TEST CODE;"
      ]
    },
    {
      "cell_type": "code",
      "metadata": {
        "colab": {
          "base_uri": "https://localhost:8080/"
        },
        "id": "4avf5wdAl043",
        "outputId": "bf90908b-f542-40b5-df95-42f413aa16dc"
      },
      "source": [
        "from scipy.spatial.distance import hamming\n",
        "# define data\n",
        "row1 = [1, 0, 1,  0]\n",
        "row2 = [1, 0, 1,  1]\n",
        "# print distance\n",
        "print(hamming(row1, row2))"
      ],
      "execution_count": null,
      "outputs": [
        {
          "output_type": "stream",
          "text": [
            "0.25\n"
          ],
          "name": "stdout"
        }
      ]
    },
    {
      "cell_type": "markdown",
      "metadata": {
        "id": "jqG-jxu5rLoR"
      },
      "source": [
        "# Correlation"
      ]
    },
    {
      "cell_type": "markdown",
      "metadata": {
        "id": "CdYbqGGT7AMW"
      },
      "source": [
        "To calculate the correlation function, respectively;\n",
        "1.   Standart deviation,\n",
        "2.   We calculate the Covariance function.\n"
      ]
    },
    {
      "cell_type": "markdown",
      "metadata": {
        "id": "CWys-Efd7b2F"
      },
      "source": [
        "\n",
        "Let the numbers **2, 4, 4, 4, 5, 5, 7, 9** be our list. Let's calculate the average.\n",
        "<img src = \"https://wikimedia.org/api/rest_v1/media/math/render/svg/f566086ff19d3f2c608acdd3bdd810a8e8f8958a\" width=400 />\n",
        "\n",
        "\n",
        "\n",
        "\n",
        "Let's subtract the mean from each element.\n",
        "\n",
        "\n",
        "<img src = \"https://wikimedia.org/api/rest_v1/media/math/render/svg/7548c1617a8a3dfc34abc1cb0dd3001cf2b692ed\" width=400 />\n",
        "\n",
        "\n",
        "and divide the sum of the subtraction with each element by the number of elements in the list..\n",
        "\n",
        "\n",
        "<img src = \"https://wikimedia.org/api/rest_v1/media/math/render/svg/8ba39b44d53df99935cf4340bc2b6f3a864960f8\" width=400 />\n",
        "\n",
        "\n",
        "the square root of the result of this section will give us the standard deviation.\n",
        "\n",
        "\n",
        "<img src = \"https://wikimedia.org/api/rest_v1/media/math/render/svg/ed2dbcc9e0516408006fdc997dc259daedfe4781\" width=150 />\n"
      ]
    },
    {
      "cell_type": "code",
      "metadata": {
        "colab": {
          "base_uri": "https://localhost:8080/"
        },
        "id": "eqnxd-s3rWjp",
        "outputId": "48b3805c-7963-4527-9f00-635e46eb15bf"
      },
      "source": [
        "def std_list(k):\n",
        "        n = len(k)\n",
        "        ort = sum(k) / n\n",
        "        toplam = 0\n",
        "        for x in k:\n",
        "           toplam += (x - ort) ** 2 \n",
        "        return math.sqrt(toplam / (n - 1))\n",
        "print(std_list(list1))     "
      ],
      "execution_count": null,
      "outputs": [
        {
          "output_type": "stream",
          "text": [
            "2.701851217221259\n"
          ],
          "name": "stdout"
        }
      ]
    },
    {
      "cell_type": "markdown",
      "metadata": {
        "id": "N72P54wE67tZ"
      },
      "source": [
        "Let us have two vectors X and Y. E [x] and E [y] are the mean of x and y..\n",
        "<img src = \"https://wikimedia.org/api/rest_v1/media/math/render/svg/f98a8bf924edb41a8025b5ffaa1b255b4a6f48b9\" width=400 />\n",
        "\n",
        "\n",
        "The result of the operation in the equation will give us the result of covariance.\n",
        "\n"
      ]
    },
    {
      "cell_type": "code",
      "metadata": {
        "colab": {
          "base_uri": "https://localhost:8080/"
        },
        "id": "8SLGoiWwy6sg",
        "outputId": "6b36bd6c-b257-4ce6-c97e-d76495995db2"
      },
      "source": [
        "def covariance(k, l):\n",
        "\n",
        "    if len(k) != len(l):\n",
        "        return  \n",
        "    ort_k = sum(k)/len(k)\n",
        "    ort_l = sum(l)/len(l)\n",
        "\n",
        "    toplam = 0\n",
        "    for a,b in zip(k,l):\n",
        "        toplam += ((a - ort_k) * (b - ort_l))\n",
        "    return toplam/(len(k)-1)\n",
        "print(covariance(list1, list2))"
      ],
      "execution_count": null,
      "outputs": [
        {
          "output_type": "stream",
          "text": [
            "-1.5\n"
          ],
          "name": "stdout"
        }
      ]
    },
    {
      "cell_type": "markdown",
      "metadata": {
        "id": "DskqSxUq-L9q"
      },
      "source": [
        "<img src = \"https://wikimedia.org/api/rest_v1/media/math/render/svg/f76ccfa7c2ed7f5b085115086107bbe25d329cec\" width=200 />\n",
        "\n",
        "\n",
        "the result of the operation will return the correlation function."
      ]
    },
    {
      "cell_type": "code",
      "metadata": {
        "colab": {
          "base_uri": "https://localhost:8080/"
        },
        "id": "mmGTFkqe1GG6",
        "outputId": "43ef5258-075b-41c4-a970-995f9c30cf0a"
      },
      "source": [
        "def correlation(k,l):\n",
        "    return covariance(k,l) / (std_list(k)*std_list(l))\n",
        "\n",
        "print(correlation(list1,list2))\n"
      ],
      "execution_count": null,
      "outputs": [
        {
          "output_type": "stream",
          "text": [
            "-0.35112344158839165\n"
          ],
          "name": "stdout"
        }
      ]
    }
  ]
}