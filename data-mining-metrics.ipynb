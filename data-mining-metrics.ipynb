{
  "nbformat": 4,
  "nbformat_minor": 0,
  "metadata": {
    "colab": {
      "name": "Data Mining - Metrics",
      "provenance": [],
      "collapsed_sections": [
        "hDuUPZ9-WA3P",
        "FT-23OdGY1zE",
        "VW6-N-72WS_8",
        "jqG-jxu5rLoR"
      ],
      "toc_visible": true,
      "mount_file_id": "1S1aOFjaBju6-UtD1Qfv60YwFX8l2DqWe",
      "authorship_tag": "ABX9TyOxeta0MYtfwex5rZzv2BEB",
      "include_colab_link": true
    },
    "kernelspec": {
      "name": "python3",
      "display_name": "Python 3"
    },
    "language_info": {
      "name": "python"
    }
  },
  "cells": [
    {
      "cell_type": "markdown",
      "metadata": {
        "id": "view-in-github",
        "colab_type": "text"
      },
      "source": [
        "<a href=\"https://colab.research.google.com/gist/uomerozkaya/36c119a7dfb18345362d2fdc37a1d69c/data-mining-metrics.ipynb\" target=\"_parent\"><img src=\"https://colab.research.google.com/assets/colab-badge.svg\" alt=\"Open In Colab\"/></a>"
      ]
    },
    {
      "cell_type": "markdown",
      "metadata": {
        "id": "9ApTG63uFM9L"
      },
      "source": [
        "\n",
        "Our goal is to examine the metrics used for data mining. Which are these;\n",
        "\n",
        "\n",
        "1.   Cossine Similarity\n",
        "2.   Euclidian distance\n",
        "3.   Manhattan Distance\n",
        "4.   Hamming Distance\n",
        "5.   Minkowski Distance\n",
        "6.   Correlation\n",
        "\n",
        "\n",
        "\n",
        "\n"
      ]
    },
    {
      "cell_type": "code",
      "metadata": {
        "id": "MOYFphA_X7C6",
        "colab": {
          "base_uri": "https://localhost:8080/"
        },
        "outputId": "01d17fd6-b316-4a1d-fbf3-780024b4cf8e"
      },
      "source": [
        "import math\n",
        "list1 = []\n",
        "number = int(input(\"Enter list1 length\"))\n",
        "print(\"Enter numbers\")\n",
        "for i in range(number):\n",
        "    data = int(input())\n",
        "    list1.append(data)\n",
        "list2 = []\n",
        "number = int(input(\"Enter list2 length\"))\n",
        "print(\"Enter numbers\")\n",
        "for i in range(number):\n",
        "    data = int(input())\n",
        "    list2.append(data)"
      ],
      "execution_count": null,
      "outputs": [
        {
          "output_type": "stream",
          "text": [
            "Enter list1 length7\n",
            "Enter numbers\n",
            "1\n",
            "2\n",
            "4\n",
            "3\n",
            "0\n",
            "0\n",
            "0\n",
            "Enter list2 length7\n",
            "Enter numbers\n",
            "1\n",
            "2\n",
            "3\n",
            "4\n",
            "0\n",
            "0\n",
            "0\n"
          ],
          "name": "stdout"
        }
      ]
    },
    {
      "cell_type": "markdown",
      "metadata": {
        "id": "wkaLK05wVfkf"
      },
      "source": [
        "##Cossine Similarity"
      ]
    },
    {
      "cell_type": "markdown",
      "metadata": {
        "id": "JH9AZmF6GUFM"
      },
      "source": [
        "First, I want to do some calculations to help us calculate some of these functions. Firstly; Let's start with dot product.\n",
        "\n",
        "<img src = \"https://wikimedia.org/api/rest_v1/media/math/render/svg/5bd0b488ad92250b4e7c2f8ac92f700f8aefddd5\" width=400 />"
      ]
    },
    {
      "cell_type": "code",
      "metadata": {
        "colab": {
          "base_uri": "https://localhost:8080/"
        },
        "id": "5J_mLDg-SUEz",
        "outputId": "708b822d-052d-4365-c947-00706d704244"
      },
      "source": [
        "def dot_product(k,l):\n",
        "    toplam = 0\n",
        "    if len(k) == len(l):\n",
        "        for a,b in zip(k,l):\n",
        "            toplam += a*b\n",
        "        return toplam\n",
        "print(\"dot_product = \",dot_product(list1, list2))"
      ],
      "execution_count": null,
      "outputs": [
        {
          "output_type": "stream",
          "text": [
            "dot_product =  29\n"
          ],
          "name": "stdout"
        }
      ]
    },
    {
      "cell_type": "markdown",
      "metadata": {
        "id": "Tf6GUtifIkrn"
      },
      "source": [
        "We need to calculate the vector length. This formula is below;\n",
        "\n",
        "<img src = \"https://wikimedia.org/api/rest_v1/media/math/render/svg/34d06abe89c597300903a2fe2612b69aa6b7f772\" width=300 />\n",
        "\n",
        "şeklinde ifade edilen vektörün boyu;\n",
        "\n",
        "<img src = \"https://wikimedia.org/api/rest_v1/media/math/render/svg/ec1c4bafc0748c4bd4730d649b433ec5f2d3dcb2\" width=300 />\n"
      ]
    },
    {
      "cell_type": "code",
      "metadata": {
        "colab": {
          "base_uri": "https://localhost:8080/"
        },
        "id": "nk5lFyIEImt5",
        "outputId": "2b029476-1a43-437b-caad-b3b0b1671dae"
      },
      "source": [
        "def vektor_length(k):\n",
        "    toplam = 0\n",
        "    if len(k) > 0:\n",
        "        for a in k:\n",
        "            toplam += a**2\n",
        "        return math.sqrt(toplam)\n",
        "print(\"vektor_boyu = \",vektor_boyu(list1))"
      ],
      "execution_count": null,
      "outputs": [
        {
          "output_type": "stream",
          "text": [
            "vektor_boyu =  5.477225575051661\n"
          ],
          "name": "stdout"
        }
      ]
    },
    {
      "cell_type": "markdown",
      "metadata": {
        "id": "xwId46eXK9mh"
      },
      "source": [
        "after requirely calculations, next metric function is cossine similarity.\n",
        "formulated status is below;\n",
        "\n",
        "<img src = \"https://wikimedia.org/api/rest_v1/media/math/render/svg/1d94e5903f7936d3c131e040ef2c51b473dd071d\" width=400 />"
      ]
    },
    {
      "cell_type": "code",
      "metadata": {
        "colab": {
          "base_uri": "https://localhost:8080/"
        },
        "id": "wN2La8mgK8wd",
        "outputId": "2197328b-281e-41fa-adfc-e2e3f1443089"
      },
      "source": [
        "def cosine_similarity(k,l):\n",
        "    return dot_product(k,l)/(vektor_length(k)*vektor_length(l))\n",
        "print(\"cosine_similarity = \",cosine_similarity(list1, list2))"
      ],
      "execution_count": null,
      "outputs": [
        {
          "output_type": "stream",
          "text": [
            "cosine_similarity =  0.9666666666666667\n"
          ],
          "name": "stdout"
        }
      ]
    },
    {
      "cell_type": "markdown",
      "metadata": {
        "id": "NrXybRrjV5fB"
      },
      "source": [
        "#Euclidian Distance "
      ]
    },
    {
      "cell_type": "markdown",
      "metadata": {
        "id": "u_KYftoPMCda"
      },
      "source": [
        "Assume *p* and *q* are vectors;\n",
        "\n",
        "<img src = \"https://wikimedia.org/api/rest_v1/media/math/render/svg/358aac90f70a828c1214ac8630e41c13926cae21\" width=200 /> \n",
        "\n",
        "Euclidean Distance is the square root of the sum of the squares of the distances between the *p* and *q* elements. More clearly;\n",
        "\n",
        "<img src = \"https://wikimedia.org/api/rest_v1/media/math/render/svg/2e0c9ce1b3455cb9e92c6bad6684dbda02f69c82\" width=400/> \n",
        "\n",
        "Söz konusu kavramı aşağıdaki gibi koordinat düzleminde daha iyi anlayabiliriz. *q1* ve *q2* , *q* vektörünün sıralı elemanları olup;     *p1* ve *p2* ise *p* vektörünün sıralı elemanlarıdır.\n",
        "\n",
        "\n",
        "<img src = \"https://upload.wikimedia.org/wikipedia/commons/thumb/5/55/Euclidean_distance_2d.svg/800px-Euclidean_distance_2d.svg.png\" width=300 />"
      ]
    },
    {
      "cell_type": "code",
      "metadata": {
        "colab": {
          "base_uri": "https://localhost:8080/"
        },
        "id": "Oia4YHQJSQYx",
        "outputId": "a3a5139a-b5e1-424d-d17e-a2926f952ab0"
      },
      "source": [
        "def euclidian_distance(k,l):\n",
        "    sonuc = 0\n",
        "    for a,b in zip(k,l):\n",
        "        sonuc += (a-b)**2\n",
        "    return math.sqrt(sonuc)  \n",
        "print(\"Euclidean distance = \",euclidian_distance(list1,list2)) "
      ],
      "execution_count": null,
      "outputs": [
        {
          "output_type": "stream",
          "text": [
            "Euclidean distance =  1.4142135623730951\n"
          ],
          "name": "stdout"
        }
      ]
    },
    {
      "cell_type": "markdown",
      "metadata": {
        "id": "hDuUPZ9-WA3P"
      },
      "source": [
        "#Manhattan Distance"
      ]
    },
    {
      "cell_type": "markdown",
      "metadata": {
        "id": "_bF56ow2PFen"
      },
      "source": [
        "p ve q birer vektördür. aşağıda elemanları ile birlikte temsil edilmiştir;\n",
        "\n",
        "<img src = \"https://wikimedia.org/api/rest_v1/media/math/render/svg/3be69c76d8560e245117031391182ca0cd95130d\" width=400 />\n",
        "\n",
        "Bu bağlamda, manhattan distance formulize edilmiş hali aşağıdaki gibidir;\n",
        "\n",
        "<img src = \"https://wikimedia.org/api/rest_v1/media/math/render/svg/02436c34fc9562eb170e2e2cfddbb3303075b28e\" width=350 />\n",
        "\n",
        "Aşağıda resmedilen görseli şu şekilde açıklayabiliriz;\n",
        "mavi olan euclidian distance,\n",
        "yeşil ve kırmızı çizgiler ise manhattan distance metriğini temsil etmektedir.\n",
        "> <img src = \"https://media.springernature.com/full/springer-static/image/art%3A10.1007%2Fs10462-019-09712-9/MediaObjects/10462_2019_9712_Fig3_HTML.png?as=webp\" width=200 /> \n",
        "\n"
      ]
    },
    {
      "cell_type": "code",
      "metadata": {
        "colab": {
          "base_uri": "https://localhost:8080/"
        },
        "id": "WqCJ5ZabMA9R",
        "outputId": "513409fe-f5be-4554-9783-c10fc5e87246"
      },
      "source": [
        "def manhattan_distance(k,l):\n",
        "    if len(k) == len(l):\n",
        "        toplam = 0\n",
        "        for a,b in zip(k,l):\n",
        "            toplam += abs(a-b)\n",
        "        return toplam\n",
        "print(\"manhattan_distance = \",manhattan_distance(list1,list2))"
      ],
      "execution_count": null,
      "outputs": [
        {
          "output_type": "stream",
          "text": [
            "manhattan_distance =  2\n"
          ],
          "name": "stdout"
        }
      ]
    },
    {
      "cell_type": "markdown",
      "metadata": {
        "id": "FT-23OdGY1zE"
      },
      "source": [
        "# Minkowski Distance"
      ]
    },
    {
      "cell_type": "markdown",
      "metadata": {
        "id": "Thbe7lhemRco"
      },
      "source": [
        "*X* ve *Y* iki vektör olsun;\n",
        "\n",
        "<img src = \"https://wikimedia.org/api/rest_v1/media/math/render/svg/6d7865dead8d868ca3c6aa04e182a552d7f4fbc9\" width=500/>\n",
        "\n",
        "*Minkowski Distance* metriği aşağıda formülize edildiği gibidir. **p > 1** için, Minkowski mesafesi, Minkowski eşitsizliğinin bir sonucudur. Dikkat edilirse Minkowski Distance; \n",
        "*  p = 2 için Euclidian distance,\n",
        "*  p = 1 için Manhattan distance \n",
        "formülleriyle eşdeğerdir.\n",
        "\n",
        "<img src = \"https://wikimedia.org/api/rest_v1/media/math/render/svg/4ed8b780e0d3224880760b1745c444481590ee86\" width=250 />"
      ]
    },
    {
      "cell_type": "code",
      "metadata": {
        "colab": {
          "base_uri": "https://localhost:8080/"
        },
        "id": "hXZeVvZVY65Z",
        "outputId": "012a0913-4af7-4895-dbe3-bed18f16d0fa"
      },
      "source": [
        "def minkowski_distance(k, l, p):\n",
        "\treturn sum(abs(a-b)**p for a, b in zip(k,l))**(1/p)\n",
        "print(\"minkowski dinstance = \" , minkowski_distance(list1, list2, 2))"
      ],
      "execution_count": null,
      "outputs": [
        {
          "output_type": "stream",
          "text": [
            "minkowski dinstance =  1.4142135623730951\n"
          ],
          "name": "stdout"
        }
      ]
    },
    {
      "cell_type": "markdown",
      "metadata": {
        "id": "VW6-N-72WS_8"
      },
      "source": [
        "#Hamming Distance"
      ]
    },
    {
      "cell_type": "markdown",
      "metadata": {
        "id": "zwMlugBxWc5P"
      },
      "source": [
        "**Hamming distance** metriği hesaplanırken binary sayı dizilimini esas almak, formülü açıklamak için daha açıklayıcı olacaktır. Dolayısıyla kodumuzu da bu şarta uygun olarak yazdık. \n",
        "\n",
        "**1011101** ve **1001001** binary sayılarını iki vektör olarak kabul edelim.\n",
        "Sonucumuz, karşılıklı elemanlarından farklı olanların adedir. Yani verdiğimiz iki vektör baz alındığında sonucumuz 2 olacaktır. "
      ]
    },
    {
      "cell_type": "code",
      "metadata": {
        "colab": {
          "base_uri": "https://localhost:8080/"
        },
        "id": "JBH4usD3WbdP",
        "outputId": "571cc599-a9ba-4863-a8c7-f1e4fdb0d694"
      },
      "source": [
        "def hamming_distance(k,l):\n",
        "    toplam = 0\n",
        "    for a,b in zip(k,l):\n",
        "        if a == 0 or a == 1 and b == 0 or b == 1:\n",
        "            if a != b:\n",
        "                toplam += 1      \n",
        "        else:\n",
        "            toplam = \"lütfen binary sayi giriniz!\"\n",
        "    return toplam\n",
        "print(\"hamming distance = \",hamming_distance(list1, list2))"
      ],
      "execution_count": null,
      "outputs": [
        {
          "output_type": "stream",
          "text": [
            "hamming distance =  lütfen binary sayi giriniz!\n"
          ],
          "name": "stdout"
        }
      ]
    },
    {
      "cell_type": "markdown",
      "metadata": {
        "id": "jqG-jxu5rLoR"
      },
      "source": [
        "# Correlation"
      ]
    },
    {
      "cell_type": "markdown",
      "metadata": {
        "id": "CdYbqGGT7AMW"
      },
      "source": [
        "Correlation fonksiyonunu hesaplamak için sırasıyla;\n",
        "1.   Standart deviation,\n",
        "2.   Covariance fonksiyonlarını yazıp hesaplıyoruz.\n"
      ]
    },
    {
      "cell_type": "markdown",
      "metadata": {
        "id": "CWys-Efd7b2F"
      },
      "source": [
        "**2 , 4 , 4 , 4 , 5 , 5 , 7 , 9**  sayıları bizim bir listemiz olsun. Ortalamasını hesaplayalım.\n",
        "<img src = \"https://wikimedia.org/api/rest_v1/media/math/render/svg/f566086ff19d3f2c608acdd3bdd810a8e8f8958a\" width=400 />\n",
        "\n",
        "\n",
        "\n",
        "Her bir elemandan ortalamayı çıkaralım.\n",
        "\n",
        "\n",
        "<img src = \"https://wikimedia.org/api/rest_v1/media/math/render/svg/7548c1617a8a3dfc34abc1cb0dd3001cf2b692ed\" width=400 />\n",
        "\n",
        "\n",
        "ve her eleman ile yapılan çıkarma işleminin toplamını listedeki eleman sayısına bölelim.\n",
        "\n",
        "\n",
        "<img src = \"https://wikimedia.org/api/rest_v1/media/math/render/svg/8ba39b44d53df99935cf4340bc2b6f3a864960f8\" width=400 />\n",
        "\n",
        "\n",
        "bu bölümün sonucunun karekökü bize standart sapmayı verecektir.\n",
        "\n",
        "\n",
        "<img src = \"https://wikimedia.org/api/rest_v1/media/math/render/svg/ed2dbcc9e0516408006fdc997dc259daedfe4781\" width=150 />\n"
      ]
    },
    {
      "cell_type": "code",
      "metadata": {
        "colab": {
          "base_uri": "https://localhost:8080/"
        },
        "id": "eqnxd-s3rWjp",
        "outputId": "a451ca61-9061-46af-9f14-6a623f2269f1"
      },
      "source": [
        "def std_list(k):\n",
        "        n = len(k)\n",
        "        ort = sum(k) / n\n",
        "        toplam = 0\n",
        "        for x in k:\n",
        "           toplam += (x - ort) ** 2 \n",
        "        return toplam / n\n",
        "print(std_list(list1))     "
      ],
      "execution_count": null,
      "outputs": [
        {
          "output_type": "stream",
          "text": [
            "2.2448979591836733\n"
          ],
          "name": "stdout"
        }
      ]
    },
    {
      "cell_type": "markdown",
      "metadata": {
        "id": "N72P54wE67tZ"
      },
      "source": [
        "X ve Y iki vektörümüz olsun.E [ x ] ve E [ y ] ise x ve y nin ortalamasıdır.\n",
        "<img src = \"https://wikimedia.org/api/rest_v1/media/math/render/svg/f98a8bf924edb41a8025b5ffaa1b255b4a6f48b9\" width=400 />\n",
        "\n",
        "denkleminde işleminin sonucu bize covariance sonucunu verecektir.\n",
        "\n"
      ]
    },
    {
      "cell_type": "code",
      "metadata": {
        "colab": {
          "base_uri": "https://localhost:8080/"
        },
        "id": "8SLGoiWwy6sg",
        "outputId": "1d293215-e082-4c54-857f-d7f53707bee2"
      },
      "source": [
        "def covariance(k, l):\n",
        "\n",
        "    if len(k) != len(l):\n",
        "        return  \n",
        "    ort_k = sum(k)/len(k)\n",
        "    ort_l = sum(l)/len(l)\n",
        "\n",
        "    toplam = 0\n",
        "    for a,b in zip(k,l):\n",
        "        toplam += ((a - ort_k) * (b - ort_l))\n",
        "    return toplam/(len(k))\n",
        "print(covariance(list1, list2))"
      ],
      "execution_count": null,
      "outputs": [
        {
          "output_type": "stream",
          "text": [
            "2.1020408163265305\n"
          ],
          "name": "stdout"
        }
      ]
    },
    {
      "cell_type": "markdown",
      "metadata": {
        "id": "DskqSxUq-L9q"
      },
      "source": [
        "<img src = \"https://wikimedia.org/api/rest_v1/media/math/render/svg/f76ccfa7c2ed7f5b085115086107bbe25d329cec\" width=200 />\n",
        "\n",
        "işleminin sonucu bize correlation fonksiyonunun sonucunu verecektir."
      ]
    },
    {
      "cell_type": "code",
      "metadata": {
        "colab": {
          "base_uri": "https://localhost:8080/"
        },
        "id": "mmGTFkqe1GG6",
        "outputId": "67f2c9fb-4beb-4467-b2a3-4028efac2bc0"
      },
      "source": [
        "def correlation(k,l):\n",
        "    return covariance(k,l) / math.sqrt((std_list(k)*std_list(l)))\n",
        "\n",
        "print(correlation(list1,list2))\n"
      ],
      "execution_count": null,
      "outputs": [
        {
          "output_type": "stream",
          "text": [
            "0.9363636363636364\n"
          ],
          "name": "stdout"
        }
      ]
    }
  ]
}